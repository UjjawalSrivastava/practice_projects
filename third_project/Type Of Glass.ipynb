{
 "cells": [
  {
   "cell_type": "code",
   "execution_count": 1,
   "id": "c6a9bd86",
   "metadata": {},
   "outputs": [
    {
     "name": "stderr",
     "output_type": "stream",
     "text": [
      "C:\\Users\\us953\\anaconda3\\lib\\site-packages\\pandas\\core\\arrays\\masked.py:60: UserWarning: Pandas requires version '1.3.6' or newer of 'bottleneck' (version '1.3.5' currently installed).\n",
      "  from pandas.core import (\n"
     ]
    }
   ],
   "source": [
    "# Import Neccessary Lib\n",
    "import pandas as pd\n",
    "import numpy as np\n",
    "import seaborn as sns\n",
    "import matplotlib.pyplot as plt\n",
    "import warnings\n",
    "warnings.filterwarnings(\"ignore\")"
   ]
  },
  {
   "cell_type": "code",
   "execution_count": 2,
   "id": "23abf417",
   "metadata": {},
   "outputs": [
    {
     "data": {
      "text/html": [
       "<div>\n",
       "<style scoped>\n",
       "    .dataframe tbody tr th:only-of-type {\n",
       "        vertical-align: middle;\n",
       "    }\n",
       "\n",
       "    .dataframe tbody tr th {\n",
       "        vertical-align: top;\n",
       "    }\n",
       "\n",
       "    .dataframe thead th {\n",
       "        text-align: right;\n",
       "    }\n",
       "</style>\n",
       "<table border=\"1\" class=\"dataframe\">\n",
       "  <thead>\n",
       "    <tr style=\"text-align: right;\">\n",
       "      <th></th>\n",
       "      <th>1</th>\n",
       "      <th>1.52101</th>\n",
       "      <th>13.64</th>\n",
       "      <th>4.49</th>\n",
       "      <th>1.10</th>\n",
       "      <th>71.78</th>\n",
       "      <th>0.06</th>\n",
       "      <th>8.75</th>\n",
       "      <th>0.00</th>\n",
       "      <th>0.00.1</th>\n",
       "      <th>1.1</th>\n",
       "    </tr>\n",
       "  </thead>\n",
       "  <tbody>\n",
       "    <tr>\n",
       "      <th>0</th>\n",
       "      <td>2</td>\n",
       "      <td>1.51761</td>\n",
       "      <td>13.89</td>\n",
       "      <td>3.60</td>\n",
       "      <td>1.36</td>\n",
       "      <td>72.73</td>\n",
       "      <td>0.48</td>\n",
       "      <td>7.83</td>\n",
       "      <td>0.00</td>\n",
       "      <td>0.00</td>\n",
       "      <td>1</td>\n",
       "    </tr>\n",
       "    <tr>\n",
       "      <th>1</th>\n",
       "      <td>3</td>\n",
       "      <td>1.51618</td>\n",
       "      <td>13.53</td>\n",
       "      <td>3.55</td>\n",
       "      <td>1.54</td>\n",
       "      <td>72.99</td>\n",
       "      <td>0.39</td>\n",
       "      <td>7.78</td>\n",
       "      <td>0.00</td>\n",
       "      <td>0.00</td>\n",
       "      <td>1</td>\n",
       "    </tr>\n",
       "    <tr>\n",
       "      <th>2</th>\n",
       "      <td>4</td>\n",
       "      <td>1.51766</td>\n",
       "      <td>13.21</td>\n",
       "      <td>3.69</td>\n",
       "      <td>1.29</td>\n",
       "      <td>72.61</td>\n",
       "      <td>0.57</td>\n",
       "      <td>8.22</td>\n",
       "      <td>0.00</td>\n",
       "      <td>0.00</td>\n",
       "      <td>1</td>\n",
       "    </tr>\n",
       "    <tr>\n",
       "      <th>3</th>\n",
       "      <td>5</td>\n",
       "      <td>1.51742</td>\n",
       "      <td>13.27</td>\n",
       "      <td>3.62</td>\n",
       "      <td>1.24</td>\n",
       "      <td>73.08</td>\n",
       "      <td>0.55</td>\n",
       "      <td>8.07</td>\n",
       "      <td>0.00</td>\n",
       "      <td>0.00</td>\n",
       "      <td>1</td>\n",
       "    </tr>\n",
       "    <tr>\n",
       "      <th>4</th>\n",
       "      <td>6</td>\n",
       "      <td>1.51596</td>\n",
       "      <td>12.79</td>\n",
       "      <td>3.61</td>\n",
       "      <td>1.62</td>\n",
       "      <td>72.97</td>\n",
       "      <td>0.64</td>\n",
       "      <td>8.07</td>\n",
       "      <td>0.00</td>\n",
       "      <td>0.26</td>\n",
       "      <td>1</td>\n",
       "    </tr>\n",
       "    <tr>\n",
       "      <th>...</th>\n",
       "      <td>...</td>\n",
       "      <td>...</td>\n",
       "      <td>...</td>\n",
       "      <td>...</td>\n",
       "      <td>...</td>\n",
       "      <td>...</td>\n",
       "      <td>...</td>\n",
       "      <td>...</td>\n",
       "      <td>...</td>\n",
       "      <td>...</td>\n",
       "      <td>...</td>\n",
       "    </tr>\n",
       "    <tr>\n",
       "      <th>208</th>\n",
       "      <td>210</td>\n",
       "      <td>1.51623</td>\n",
       "      <td>14.14</td>\n",
       "      <td>0.00</td>\n",
       "      <td>2.88</td>\n",
       "      <td>72.61</td>\n",
       "      <td>0.08</td>\n",
       "      <td>9.18</td>\n",
       "      <td>1.06</td>\n",
       "      <td>0.00</td>\n",
       "      <td>7</td>\n",
       "    </tr>\n",
       "    <tr>\n",
       "      <th>209</th>\n",
       "      <td>211</td>\n",
       "      <td>1.51685</td>\n",
       "      <td>14.92</td>\n",
       "      <td>0.00</td>\n",
       "      <td>1.99</td>\n",
       "      <td>73.06</td>\n",
       "      <td>0.00</td>\n",
       "      <td>8.40</td>\n",
       "      <td>1.59</td>\n",
       "      <td>0.00</td>\n",
       "      <td>7</td>\n",
       "    </tr>\n",
       "    <tr>\n",
       "      <th>210</th>\n",
       "      <td>212</td>\n",
       "      <td>1.52065</td>\n",
       "      <td>14.36</td>\n",
       "      <td>0.00</td>\n",
       "      <td>2.02</td>\n",
       "      <td>73.42</td>\n",
       "      <td>0.00</td>\n",
       "      <td>8.44</td>\n",
       "      <td>1.64</td>\n",
       "      <td>0.00</td>\n",
       "      <td>7</td>\n",
       "    </tr>\n",
       "    <tr>\n",
       "      <th>211</th>\n",
       "      <td>213</td>\n",
       "      <td>1.51651</td>\n",
       "      <td>14.38</td>\n",
       "      <td>0.00</td>\n",
       "      <td>1.94</td>\n",
       "      <td>73.61</td>\n",
       "      <td>0.00</td>\n",
       "      <td>8.48</td>\n",
       "      <td>1.57</td>\n",
       "      <td>0.00</td>\n",
       "      <td>7</td>\n",
       "    </tr>\n",
       "    <tr>\n",
       "      <th>212</th>\n",
       "      <td>214</td>\n",
       "      <td>1.51711</td>\n",
       "      <td>14.23</td>\n",
       "      <td>0.00</td>\n",
       "      <td>2.08</td>\n",
       "      <td>73.36</td>\n",
       "      <td>0.00</td>\n",
       "      <td>8.62</td>\n",
       "      <td>1.67</td>\n",
       "      <td>0.00</td>\n",
       "      <td>7</td>\n",
       "    </tr>\n",
       "  </tbody>\n",
       "</table>\n",
       "<p>213 rows × 11 columns</p>\n",
       "</div>"
      ],
      "text/plain": [
       "       1  1.52101  13.64  4.49  1.10  71.78  0.06  8.75  0.00  0.00.1  1.1\n",
       "0      2  1.51761  13.89  3.60  1.36  72.73  0.48  7.83  0.00    0.00    1\n",
       "1      3  1.51618  13.53  3.55  1.54  72.99  0.39  7.78  0.00    0.00    1\n",
       "2      4  1.51766  13.21  3.69  1.29  72.61  0.57  8.22  0.00    0.00    1\n",
       "3      5  1.51742  13.27  3.62  1.24  73.08  0.55  8.07  0.00    0.00    1\n",
       "4      6  1.51596  12.79  3.61  1.62  72.97  0.64  8.07  0.00    0.26    1\n",
       "..   ...      ...    ...   ...   ...    ...   ...   ...   ...     ...  ...\n",
       "208  210  1.51623  14.14  0.00  2.88  72.61  0.08  9.18  1.06    0.00    7\n",
       "209  211  1.51685  14.92  0.00  1.99  73.06  0.00  8.40  1.59    0.00    7\n",
       "210  212  1.52065  14.36  0.00  2.02  73.42  0.00  8.44  1.64    0.00    7\n",
       "211  213  1.51651  14.38  0.00  1.94  73.61  0.00  8.48  1.57    0.00    7\n",
       "212  214  1.51711  14.23  0.00  2.08  73.36  0.00  8.62  1.67    0.00    7\n",
       "\n",
       "[213 rows x 11 columns]"
      ]
     },
     "execution_count": 2,
     "metadata": {},
     "output_type": "execute_result"
    }
   ],
   "source": [
    "df = pd.read_csv('https://raw.githubusercontent.com/FlipRoboTechnologies/ML-Datasets/main/Glass%20Identification/Glass%20Identification.csv')\n",
    "df"
   ]
  },
  {
   "cell_type": "code",
   "execution_count": 3,
   "id": "f4c6b47f",
   "metadata": {},
   "outputs": [
    {
     "data": {
      "text/html": [
       "<div>\n",
       "<style scoped>\n",
       "    .dataframe tbody tr th:only-of-type {\n",
       "        vertical-align: middle;\n",
       "    }\n",
       "\n",
       "    .dataframe tbody tr th {\n",
       "        vertical-align: top;\n",
       "    }\n",
       "\n",
       "    .dataframe thead th {\n",
       "        text-align: right;\n",
       "    }\n",
       "</style>\n",
       "<table border=\"1\" class=\"dataframe\">\n",
       "  <thead>\n",
       "    <tr style=\"text-align: right;\">\n",
       "      <th></th>\n",
       "      <th>Id</th>\n",
       "      <th>RI</th>\n",
       "      <th>Na</th>\n",
       "      <th>Mg</th>\n",
       "      <th>Al</th>\n",
       "      <th>Si</th>\n",
       "      <th>K</th>\n",
       "      <th>Ca</th>\n",
       "      <th>Ba</th>\n",
       "      <th>Fe</th>\n",
       "      <th>Type of glass</th>\n",
       "    </tr>\n",
       "  </thead>\n",
       "  <tbody>\n",
       "    <tr>\n",
       "      <th>0</th>\n",
       "      <td>2</td>\n",
       "      <td>1.51761</td>\n",
       "      <td>13.89</td>\n",
       "      <td>3.60</td>\n",
       "      <td>1.36</td>\n",
       "      <td>72.73</td>\n",
       "      <td>0.48</td>\n",
       "      <td>7.83</td>\n",
       "      <td>0.00</td>\n",
       "      <td>0.00</td>\n",
       "      <td>1</td>\n",
       "    </tr>\n",
       "    <tr>\n",
       "      <th>1</th>\n",
       "      <td>3</td>\n",
       "      <td>1.51618</td>\n",
       "      <td>13.53</td>\n",
       "      <td>3.55</td>\n",
       "      <td>1.54</td>\n",
       "      <td>72.99</td>\n",
       "      <td>0.39</td>\n",
       "      <td>7.78</td>\n",
       "      <td>0.00</td>\n",
       "      <td>0.00</td>\n",
       "      <td>1</td>\n",
       "    </tr>\n",
       "    <tr>\n",
       "      <th>2</th>\n",
       "      <td>4</td>\n",
       "      <td>1.51766</td>\n",
       "      <td>13.21</td>\n",
       "      <td>3.69</td>\n",
       "      <td>1.29</td>\n",
       "      <td>72.61</td>\n",
       "      <td>0.57</td>\n",
       "      <td>8.22</td>\n",
       "      <td>0.00</td>\n",
       "      <td>0.00</td>\n",
       "      <td>1</td>\n",
       "    </tr>\n",
       "    <tr>\n",
       "      <th>3</th>\n",
       "      <td>5</td>\n",
       "      <td>1.51742</td>\n",
       "      <td>13.27</td>\n",
       "      <td>3.62</td>\n",
       "      <td>1.24</td>\n",
       "      <td>73.08</td>\n",
       "      <td>0.55</td>\n",
       "      <td>8.07</td>\n",
       "      <td>0.00</td>\n",
       "      <td>0.00</td>\n",
       "      <td>1</td>\n",
       "    </tr>\n",
       "    <tr>\n",
       "      <th>4</th>\n",
       "      <td>6</td>\n",
       "      <td>1.51596</td>\n",
       "      <td>12.79</td>\n",
       "      <td>3.61</td>\n",
       "      <td>1.62</td>\n",
       "      <td>72.97</td>\n",
       "      <td>0.64</td>\n",
       "      <td>8.07</td>\n",
       "      <td>0.00</td>\n",
       "      <td>0.26</td>\n",
       "      <td>1</td>\n",
       "    </tr>\n",
       "    <tr>\n",
       "      <th>...</th>\n",
       "      <td>...</td>\n",
       "      <td>...</td>\n",
       "      <td>...</td>\n",
       "      <td>...</td>\n",
       "      <td>...</td>\n",
       "      <td>...</td>\n",
       "      <td>...</td>\n",
       "      <td>...</td>\n",
       "      <td>...</td>\n",
       "      <td>...</td>\n",
       "      <td>...</td>\n",
       "    </tr>\n",
       "    <tr>\n",
       "      <th>208</th>\n",
       "      <td>210</td>\n",
       "      <td>1.51623</td>\n",
       "      <td>14.14</td>\n",
       "      <td>0.00</td>\n",
       "      <td>2.88</td>\n",
       "      <td>72.61</td>\n",
       "      <td>0.08</td>\n",
       "      <td>9.18</td>\n",
       "      <td>1.06</td>\n",
       "      <td>0.00</td>\n",
       "      <td>7</td>\n",
       "    </tr>\n",
       "    <tr>\n",
       "      <th>209</th>\n",
       "      <td>211</td>\n",
       "      <td>1.51685</td>\n",
       "      <td>14.92</td>\n",
       "      <td>0.00</td>\n",
       "      <td>1.99</td>\n",
       "      <td>73.06</td>\n",
       "      <td>0.00</td>\n",
       "      <td>8.40</td>\n",
       "      <td>1.59</td>\n",
       "      <td>0.00</td>\n",
       "      <td>7</td>\n",
       "    </tr>\n",
       "    <tr>\n",
       "      <th>210</th>\n",
       "      <td>212</td>\n",
       "      <td>1.52065</td>\n",
       "      <td>14.36</td>\n",
       "      <td>0.00</td>\n",
       "      <td>2.02</td>\n",
       "      <td>73.42</td>\n",
       "      <td>0.00</td>\n",
       "      <td>8.44</td>\n",
       "      <td>1.64</td>\n",
       "      <td>0.00</td>\n",
       "      <td>7</td>\n",
       "    </tr>\n",
       "    <tr>\n",
       "      <th>211</th>\n",
       "      <td>213</td>\n",
       "      <td>1.51651</td>\n",
       "      <td>14.38</td>\n",
       "      <td>0.00</td>\n",
       "      <td>1.94</td>\n",
       "      <td>73.61</td>\n",
       "      <td>0.00</td>\n",
       "      <td>8.48</td>\n",
       "      <td>1.57</td>\n",
       "      <td>0.00</td>\n",
       "      <td>7</td>\n",
       "    </tr>\n",
       "    <tr>\n",
       "      <th>212</th>\n",
       "      <td>214</td>\n",
       "      <td>1.51711</td>\n",
       "      <td>14.23</td>\n",
       "      <td>0.00</td>\n",
       "      <td>2.08</td>\n",
       "      <td>73.36</td>\n",
       "      <td>0.00</td>\n",
       "      <td>8.62</td>\n",
       "      <td>1.67</td>\n",
       "      <td>0.00</td>\n",
       "      <td>7</td>\n",
       "    </tr>\n",
       "  </tbody>\n",
       "</table>\n",
       "<p>213 rows × 11 columns</p>\n",
       "</div>"
      ],
      "text/plain": [
       "      Id       RI     Na    Mg    Al     Si     K    Ca    Ba    Fe  \\\n",
       "0      2  1.51761  13.89  3.60  1.36  72.73  0.48  7.83  0.00  0.00   \n",
       "1      3  1.51618  13.53  3.55  1.54  72.99  0.39  7.78  0.00  0.00   \n",
       "2      4  1.51766  13.21  3.69  1.29  72.61  0.57  8.22  0.00  0.00   \n",
       "3      5  1.51742  13.27  3.62  1.24  73.08  0.55  8.07  0.00  0.00   \n",
       "4      6  1.51596  12.79  3.61  1.62  72.97  0.64  8.07  0.00  0.26   \n",
       "..   ...      ...    ...   ...   ...    ...   ...   ...   ...   ...   \n",
       "208  210  1.51623  14.14  0.00  2.88  72.61  0.08  9.18  1.06  0.00   \n",
       "209  211  1.51685  14.92  0.00  1.99  73.06  0.00  8.40  1.59  0.00   \n",
       "210  212  1.52065  14.36  0.00  2.02  73.42  0.00  8.44  1.64  0.00   \n",
       "211  213  1.51651  14.38  0.00  1.94  73.61  0.00  8.48  1.57  0.00   \n",
       "212  214  1.51711  14.23  0.00  2.08  73.36  0.00  8.62  1.67  0.00   \n",
       "\n",
       "     Type of glass  \n",
       "0                1  \n",
       "1                1  \n",
       "2                1  \n",
       "3                1  \n",
       "4                1  \n",
       "..             ...  \n",
       "208              7  \n",
       "209              7  \n",
       "210              7  \n",
       "211              7  \n",
       "212              7  \n",
       "\n",
       "[213 rows x 11 columns]"
      ]
     },
     "execution_count": 3,
     "metadata": {},
     "output_type": "execute_result"
    }
   ],
   "source": [
    "# Define the mapping from numeric to categorical headers\n",
    "header_mapping = {\n",
    "    '1': \"Id\",\n",
    "    '1.52101': \"RI\",\n",
    "    '13.64': \"Na\",\n",
    "    '4.49': \"Mg\",\n",
    "    '1.10': \"Al\",\n",
    "    '71.78': \"Si\",\n",
    "    '0.06': \"K\",\n",
    "    '8.75': \"Ca\",\n",
    "    '0.00': \"Ba\",\n",
    "    '0.00.1': \"Fe\",\n",
    "    '1.1': \"Type of glass\"\n",
    "}\n",
    "\n",
    "# Rename the columns using the mapping\n",
    "df = df.rename(columns=header_mapping)\n",
    "df"
   ]
  },
  {
   "cell_type": "code",
   "execution_count": 4,
   "id": "7649c4fb",
   "metadata": {},
   "outputs": [],
   "source": [
    "# Drop unnecessary columns\n",
    "df.drop(['Id'], axis=1, inplace=True)"
   ]
  },
  {
   "cell_type": "markdown",
   "id": "545e7cc1",
   "metadata": {},
   "source": [
    "# Exploratory Data Analysis"
   ]
  },
  {
   "cell_type": "code",
   "execution_count": 5,
   "id": "8bba2f98",
   "metadata": {},
   "outputs": [
    {
     "data": {
      "text/plain": [
       "(213, 10)"
      ]
     },
     "execution_count": 5,
     "metadata": {},
     "output_type": "execute_result"
    }
   ],
   "source": [
    "# Size of dataset.\n",
    "df.shape"
   ]
  },
  {
   "cell_type": "markdown",
   "id": "2ae2b507",
   "metadata": {},
   "source": [
    "##### This dataset contains 213 rows and 10 columns, out of which one column represents the target variable and the remaining eleven columns are independent variables."
   ]
  },
  {
   "cell_type": "code",
   "execution_count": 6,
   "id": "1136df3a",
   "metadata": {},
   "outputs": [
    {
     "data": {
      "text/plain": [
       "Index(['RI', 'Na', 'Mg', 'Al', 'Si', 'K', 'Ca', 'Ba', 'Fe', 'Type of glass'], dtype='object')"
      ]
     },
     "execution_count": 6,
     "metadata": {},
     "output_type": "execute_result"
    }
   ],
   "source": [
    "# Number of columns present in this dataset.\n",
    "df.columns"
   ]
  },
  {
   "cell_type": "code",
   "execution_count": 7,
   "id": "30140ff1",
   "metadata": {},
   "outputs": [
    {
     "data": {
      "text/plain": [
       "RI               float64\n",
       "Na               float64\n",
       "Mg               float64\n",
       "Al               float64\n",
       "Si               float64\n",
       "K                float64\n",
       "Ca               float64\n",
       "Ba               float64\n",
       "Fe               float64\n",
       "Type of glass      int64\n",
       "dtype: object"
      ]
     },
     "execution_count": 7,
     "metadata": {},
     "output_type": "execute_result"
    }
   ],
   "source": [
    "# Checking the data type of columns.\n",
    "df.dtypes"
   ]
  },
  {
   "cell_type": "code",
   "execution_count": 8,
   "id": "6ff21b95",
   "metadata": {},
   "outputs": [
    {
     "data": {
      "text/plain": [
       "RI               0\n",
       "Na               0\n",
       "Mg               0\n",
       "Al               0\n",
       "Si               0\n",
       "K                0\n",
       "Ca               0\n",
       "Ba               0\n",
       "Fe               0\n",
       "Type of glass    0\n",
       "dtype: int64"
      ]
     },
     "execution_count": 8,
     "metadata": {},
     "output_type": "execute_result"
    }
   ],
   "source": [
    "# null values are not present.\n",
    "df.isna().sum()"
   ]
  },
  {
   "cell_type": "code",
   "execution_count": 9,
   "id": "d8b1d8c1",
   "metadata": {},
   "outputs": [
    {
     "name": "stdout",
     "output_type": "stream",
     "text": [
      "<class 'pandas.core.frame.DataFrame'>\n",
      "RangeIndex: 213 entries, 0 to 212\n",
      "Data columns (total 10 columns):\n",
      " #   Column         Non-Null Count  Dtype  \n",
      "---  ------         --------------  -----  \n",
      " 0   RI             213 non-null    float64\n",
      " 1   Na             213 non-null    float64\n",
      " 2   Mg             213 non-null    float64\n",
      " 3   Al             213 non-null    float64\n",
      " 4   Si             213 non-null    float64\n",
      " 5   K              213 non-null    float64\n",
      " 6   Ca             213 non-null    float64\n",
      " 7   Ba             213 non-null    float64\n",
      " 8   Fe             213 non-null    float64\n",
      " 9   Type of glass  213 non-null    int64  \n",
      "dtypes: float64(9), int64(1)\n",
      "memory usage: 16.8 KB\n"
     ]
    }
   ],
   "source": [
    "# Information about dataset.\n",
    "df.info()"
   ]
  },
  {
   "cell_type": "code",
   "execution_count": 10,
   "id": "c700c395",
   "metadata": {},
   "outputs": [
    {
     "data": {
      "text/plain": [
       "<Axes: >"
      ]
     },
     "execution_count": 10,
     "metadata": {},
     "output_type": "execute_result"
    },
    {
     "data": {
      "image/png": "[encoded data removed]",
      "text/plain": [
       "<Figure size 640x480 with 2 Axes>"
      ]
     },
     "metadata": {},
     "output_type": "display_data"
    }
   ],
   "source": [
    "# representing null values by heatmap.\n",
    "sns.heatmap(df.isnull())"
   ]
  },
  {
   "cell_type": "code",
   "execution_count": 11,
   "id": "1986d870",
   "metadata": {},
   "outputs": [
    {
     "data": {
      "text/html": [
       "<div>\n",
       "<style scoped>\n",
       "    .dataframe tbody tr th:only-of-type {\n",
       "        vertical-align: middle;\n",
       "    }\n",
       "\n",
       "    .dataframe tbody tr th {\n",
       "        vertical-align: top;\n",
       "    }\n",
       "\n",
       "    .dataframe thead th {\n",
       "        text-align: right;\n",
       "    }\n",
       "</style>\n",
       "<table border=\"1\" class=\"dataframe\">\n",
       "  <thead>\n",
       "    <tr style=\"text-align: right;\">\n",
       "      <th></th>\n",
       "      <th>RI</th>\n",
       "      <th>Na</th>\n",
       "      <th>Mg</th>\n",
       "      <th>Al</th>\n",
       "      <th>Si</th>\n",
       "      <th>K</th>\n",
       "      <th>Ca</th>\n",
       "      <th>Ba</th>\n",
       "      <th>Fe</th>\n",
       "      <th>Type of glass</th>\n",
       "    </tr>\n",
       "  </thead>\n",
       "  <tbody>\n",
       "    <tr>\n",
       "      <th>0</th>\n",
       "      <td>1.51761</td>\n",
       "      <td>13.89</td>\n",
       "      <td>3.60</td>\n",
       "      <td>1.36</td>\n",
       "      <td>72.73</td>\n",
       "      <td>0.48</td>\n",
       "      <td>7.83</td>\n",
       "      <td>0.0</td>\n",
       "      <td>0.00</td>\n",
       "      <td>1</td>\n",
       "    </tr>\n",
       "    <tr>\n",
       "      <th>1</th>\n",
       "      <td>1.51618</td>\n",
       "      <td>13.53</td>\n",
       "      <td>3.55</td>\n",
       "      <td>1.54</td>\n",
       "      <td>72.99</td>\n",
       "      <td>0.39</td>\n",
       "      <td>7.78</td>\n",
       "      <td>0.0</td>\n",
       "      <td>0.00</td>\n",
       "      <td>1</td>\n",
       "    </tr>\n",
       "    <tr>\n",
       "      <th>2</th>\n",
       "      <td>1.51766</td>\n",
       "      <td>13.21</td>\n",
       "      <td>3.69</td>\n",
       "      <td>1.29</td>\n",
       "      <td>72.61</td>\n",
       "      <td>0.57</td>\n",
       "      <td>8.22</td>\n",
       "      <td>0.0</td>\n",
       "      <td>0.00</td>\n",
       "      <td>1</td>\n",
       "    </tr>\n",
       "    <tr>\n",
       "      <th>3</th>\n",
       "      <td>1.51742</td>\n",
       "      <td>13.27</td>\n",
       "      <td>3.62</td>\n",
       "      <td>1.24</td>\n",
       "      <td>73.08</td>\n",
       "      <td>0.55</td>\n",
       "      <td>8.07</td>\n",
       "      <td>0.0</td>\n",
       "      <td>0.00</td>\n",
       "      <td>1</td>\n",
       "    </tr>\n",
       "    <tr>\n",
       "      <th>4</th>\n",
       "      <td>1.51596</td>\n",
       "      <td>12.79</td>\n",
       "      <td>3.61</td>\n",
       "      <td>1.62</td>\n",
       "      <td>72.97</td>\n",
       "      <td>0.64</td>\n",
       "      <td>8.07</td>\n",
       "      <td>0.0</td>\n",
       "      <td>0.26</td>\n",
       "      <td>1</td>\n",
       "    </tr>\n",
       "  </tbody>\n",
       "</table>\n",
       "</div>"
      ],
      "text/plain": [
       "        RI     Na    Mg    Al     Si     K    Ca   Ba    Fe  Type of glass\n",
       "0  1.51761  13.89  3.60  1.36  72.73  0.48  7.83  0.0  0.00              1\n",
       "1  1.51618  13.53  3.55  1.54  72.99  0.39  7.78  0.0  0.00              1\n",
       "2  1.51766  13.21  3.69  1.29  72.61  0.57  8.22  0.0  0.00              1\n",
       "3  1.51742  13.27  3.62  1.24  73.08  0.55  8.07  0.0  0.00              1\n",
       "4  1.51596  12.79  3.61  1.62  72.97  0.64  8.07  0.0  0.26              1"
      ]
     },
     "execution_count": 11,
     "metadata": {},
     "output_type": "execute_result"
    }
   ],
   "source": [
    "df.head()"
   ]
  },
  {
   "cell_type": "code",
   "execution_count": 12,
   "id": "558046a1",
   "metadata": {},
   "outputs": [
    {
     "data": {
      "text/plain": [
       "array([1, 2, 3, 5, 6, 7], dtype=int64)"
      ]
     },
     "execution_count": 12,
     "metadata": {},
     "output_type": "execute_result"
    }
   ],
   "source": [
    "# checking unique values.\n",
    "df['Type of glass'].unique()"
   ]
  },
  {
   "cell_type": "code",
   "execution_count": 13,
   "id": "343b9650",
   "metadata": {},
   "outputs": [
    {
     "data": {
      "text/plain": [
       "Type of glass\n",
       "2    76\n",
       "1    69\n",
       "7    29\n",
       "3    17\n",
       "5    13\n",
       "6     9\n",
       "Name: count, dtype: int64"
      ]
     },
     "execution_count": 13,
     "metadata": {},
     "output_type": "execute_result"
    }
   ],
   "source": [
    "# counting the unique values.\n",
    "df['Type of glass'].value_counts()"
   ]
  },
  {
   "cell_type": "code",
   "execution_count": 14,
   "id": "0dbc7f90",
   "metadata": {},
   "outputs": [
    {
     "data": {
      "text/html": [
       "<div>\n",
       "<style scoped>\n",
       "    .dataframe tbody tr th:only-of-type {\n",
       "        vertical-align: middle;\n",
       "    }\n",
       "\n",
       "    .dataframe tbody tr th {\n",
       "        vertical-align: top;\n",
       "    }\n",
       "\n",
       "    .dataframe thead th {\n",
       "        text-align: right;\n",
       "    }\n",
       "</style>\n",
       "<table border=\"1\" class=\"dataframe\">\n",
       "  <thead>\n",
       "    <tr style=\"text-align: right;\">\n",
       "      <th></th>\n",
       "      <th>RI</th>\n",
       "      <th>Na</th>\n",
       "      <th>Mg</th>\n",
       "      <th>Al</th>\n",
       "      <th>Si</th>\n",
       "      <th>K</th>\n",
       "      <th>Ca</th>\n",
       "      <th>Ba</th>\n",
       "      <th>Fe</th>\n",
       "      <th>Type of glass</th>\n",
       "    </tr>\n",
       "  </thead>\n",
       "  <tbody>\n",
       "    <tr>\n",
       "      <th>count</th>\n",
       "      <td>213.000000</td>\n",
       "      <td>213.000000</td>\n",
       "      <td>213.000000</td>\n",
       "      <td>213.000000</td>\n",
       "      <td>213.000000</td>\n",
       "      <td>213.000000</td>\n",
       "      <td>213.000000</td>\n",
       "      <td>213.000000</td>\n",
       "      <td>213.000000</td>\n",
       "      <td>213.000000</td>\n",
       "    </tr>\n",
       "    <tr>\n",
       "      <th>mean</th>\n",
       "      <td>1.518353</td>\n",
       "      <td>13.406761</td>\n",
       "      <td>2.676056</td>\n",
       "      <td>1.446526</td>\n",
       "      <td>72.655023</td>\n",
       "      <td>0.499108</td>\n",
       "      <td>8.957934</td>\n",
       "      <td>0.175869</td>\n",
       "      <td>0.057277</td>\n",
       "      <td>2.788732</td>\n",
       "    </tr>\n",
       "    <tr>\n",
       "      <th>std</th>\n",
       "      <td>0.003039</td>\n",
       "      <td>0.818371</td>\n",
       "      <td>1.440453</td>\n",
       "      <td>0.499882</td>\n",
       "      <td>0.774052</td>\n",
       "      <td>0.653035</td>\n",
       "      <td>1.426435</td>\n",
       "      <td>0.498245</td>\n",
       "      <td>0.097589</td>\n",
       "      <td>2.105130</td>\n",
       "    </tr>\n",
       "    <tr>\n",
       "      <th>min</th>\n",
       "      <td>1.511150</td>\n",
       "      <td>10.730000</td>\n",
       "      <td>0.000000</td>\n",
       "      <td>0.290000</td>\n",
       "      <td>69.810000</td>\n",
       "      <td>0.000000</td>\n",
       "      <td>5.430000</td>\n",
       "      <td>0.000000</td>\n",
       "      <td>0.000000</td>\n",
       "      <td>1.000000</td>\n",
       "    </tr>\n",
       "    <tr>\n",
       "      <th>25%</th>\n",
       "      <td>1.516520</td>\n",
       "      <td>12.900000</td>\n",
       "      <td>2.090000</td>\n",
       "      <td>1.190000</td>\n",
       "      <td>72.280000</td>\n",
       "      <td>0.130000</td>\n",
       "      <td>8.240000</td>\n",
       "      <td>0.000000</td>\n",
       "      <td>0.000000</td>\n",
       "      <td>1.000000</td>\n",
       "    </tr>\n",
       "    <tr>\n",
       "      <th>50%</th>\n",
       "      <td>1.517680</td>\n",
       "      <td>13.300000</td>\n",
       "      <td>3.480000</td>\n",
       "      <td>1.360000</td>\n",
       "      <td>72.790000</td>\n",
       "      <td>0.560000</td>\n",
       "      <td>8.600000</td>\n",
       "      <td>0.000000</td>\n",
       "      <td>0.000000</td>\n",
       "      <td>2.000000</td>\n",
       "    </tr>\n",
       "    <tr>\n",
       "      <th>75%</th>\n",
       "      <td>1.519150</td>\n",
       "      <td>13.830000</td>\n",
       "      <td>3.600000</td>\n",
       "      <td>1.630000</td>\n",
       "      <td>73.090000</td>\n",
       "      <td>0.610000</td>\n",
       "      <td>9.180000</td>\n",
       "      <td>0.000000</td>\n",
       "      <td>0.100000</td>\n",
       "      <td>3.000000</td>\n",
       "    </tr>\n",
       "    <tr>\n",
       "      <th>max</th>\n",
       "      <td>1.533930</td>\n",
       "      <td>17.380000</td>\n",
       "      <td>3.980000</td>\n",
       "      <td>3.500000</td>\n",
       "      <td>75.410000</td>\n",
       "      <td>6.210000</td>\n",
       "      <td>16.190000</td>\n",
       "      <td>3.150000</td>\n",
       "      <td>0.510000</td>\n",
       "      <td>7.000000</td>\n",
       "    </tr>\n",
       "  </tbody>\n",
       "</table>\n",
       "</div>"
      ],
      "text/plain": [
       "               RI          Na          Mg          Al          Si           K  \\\n",
       "count  213.000000  213.000000  213.000000  213.000000  213.000000  213.000000   \n",
       "mean     1.518353   13.406761    2.676056    1.446526   72.655023    0.499108   \n",
       "std      0.003039    0.818371    1.440453    0.499882    0.774052    0.653035   \n",
       "min      1.511150   10.730000    0.000000    0.290000   69.810000    0.000000   \n",
       "25%      1.516520   12.900000    2.090000    1.190000   72.280000    0.130000   \n",
       "50%      1.517680   13.300000    3.480000    1.360000   72.790000    0.560000   \n",
       "75%      1.519150   13.830000    3.600000    1.630000   73.090000    0.610000   \n",
       "max      1.533930   17.380000    3.980000    3.500000   75.410000    6.210000   \n",
       "\n",
       "               Ca          Ba          Fe  Type of glass  \n",
       "count  213.000000  213.000000  213.000000     213.000000  \n",
       "mean     8.957934    0.175869    0.057277       2.788732  \n",
       "std      1.426435    0.498245    0.097589       2.105130  \n",
       "min      5.430000    0.000000    0.000000       1.000000  \n",
       "25%      8.240000    0.000000    0.000000       1.000000  \n",
       "50%      8.600000    0.000000    0.000000       2.000000  \n",
       "75%      9.180000    0.000000    0.100000       3.000000  \n",
       "max     16.190000    3.150000    0.510000       7.000000  "
      ]
     },
     "execution_count": 14,
     "metadata": {},
     "output_type": "execute_result"
    }
   ],
   "source": [
    "# getting summary description of dataset.\n",
    "df.describe()"
   ]
  },
  {
   "cell_type": "code",
   "execution_count": 15,
   "id": "65503d5d",
   "metadata": {},
   "outputs": [],
   "source": [
    "# As we can see, 'count' indicates the total number of values present in columns. Additionally, \n",
    "# minor differences between the mean and median (50%) suggest potential left or right skewness, which we will observe later.\n",
    "\n",
    "# Moreover, observations at the 75th percentile and the maximum value ('max') indicate the presence of outliers in Na,\n",
    "# Al, Si, K, Ca, Ba, Fe, and Type of glass."
   ]
  },
  {
   "cell_type": "markdown",
   "id": "6cac24a9",
   "metadata": {},
   "source": [
    "### Univariate Analysis"
   ]
  },
  {
   "cell_type": "code",
   "execution_count": 16,
   "id": "0df856f4",
   "metadata": {},
   "outputs": [
    {
     "data": {
      "text/plain": [
       "Type of glass\n",
       "2    76\n",
       "1    69\n",
       "7    29\n",
       "3    17\n",
       "5    13\n",
       "6     9\n",
       "Name: count, dtype: int64"
      ]
     },
     "execution_count": 16,
     "metadata": {},
     "output_type": "execute_result"
    },
    {
     "data": {
      "image/png": "[encoded data removed]",
      "text/plain": [
       "<Figure size 640x480 with 1 Axes>"
      ]
     },
     "metadata": {},
     "output_type": "display_data"
    }
   ],
   "source": [
    "ax = sns.countplot(x= 'Type of glass', data=df)\n",
    "df['Type of glass'].value_counts()"
   ]
  },
  {
   "cell_type": "code",
   "execution_count": 17,
   "id": "dc17dd24",
   "metadata": {},
   "outputs": [],
   "source": [
    "# Change values based on conditions\n",
    "df.loc[df['Type of glass'].isin([1, 2, 3, 4]), 'Type of glass'] = 'window glass'\n",
    "df.loc[df['Type of glass'].isin([5, 6, 7]), 'Type of glass'] = 'non-window glass'"
   ]
  },
  {
   "cell_type": "code",
   "execution_count": 18,
   "id": "b5ef51bd",
   "metadata": {},
   "outputs": [
    {
     "data": {
      "text/plain": [
       "Type of glass\n",
       "window glass        162\n",
       "non-window glass     51\n",
       "Name: count, dtype: int64"
      ]
     },
     "execution_count": 18,
     "metadata": {},
     "output_type": "execute_result"
    },
    {
     "data": {
      "image/png": "[encoded data removed]",
      "text/plain": [
       "<Figure size 640x480 with 1 Axes>"
      ]
     },
     "metadata": {},
     "output_type": "display_data"
    }
   ],
   "source": [
    "ax = sns.countplot(x= 'Type of glass', data=df)\n",
    "df['Type of glass'].value_counts()"
   ]
  },
  {
   "cell_type": "code",
   "execution_count": 19,
   "id": "1dc5d453",
   "metadata": {},
   "outputs": [],
   "source": [
    "# As we can see, there is a significant difference between 'non-window glass ' and 'window glass ', indicating a \n",
    "# class imbalance that can be addressed using oversampling methods."
   ]
  },
  {
   "cell_type": "markdown",
   "id": "7f1b9060",
   "metadata": {},
   "source": [
    "#### Checking outliers"
   ]
  },
  {
   "cell_type": "code",
   "execution_count": 20,
   "id": "2f303c6b",
   "metadata": {},
   "outputs": [
    {
     "data": {
      "image/png": "[encoded data removed]",
      "text/plain": [
       "<Figure size 1000x600 with 9 Axes>"
      ]
     },
     "metadata": {},
     "output_type": "display_data"
    }
   ],
   "source": [
    "plt.figure(figsize=(10,6), facecolor='White')\n",
    "plotnumber = 1\n",
    "for col in df.columns:\n",
    "    if plotnumber <=9:\n",
    "        ax = plt.subplot(3,3,plotnumber)\n",
    "        sns.boxplot(df[col], palette='Set2_r')\n",
    "        plt.xlabel(col, fontsize= 15)\n",
    "        plt.yticks(rotation=0, fontsize=10)\n",
    "    plotnumber+=1\n",
    "plt.tight_layout()"
   ]
  },
  {
   "cell_type": "markdown",
   "id": "a35dfd9c",
   "metadata": {},
   "source": [
    "## We can clearling see the outliers are present in this data set"
   ]
  },
  {
   "cell_type": "code",
   "execution_count": 21,
   "id": "98a12839",
   "metadata": {},
   "outputs": [
    {
     "name": "stdout",
     "output_type": "stream",
     "text": [
      "<class 'pandas.core.frame.DataFrame'>\n",
      "RangeIndex: 213 entries, 0 to 212\n",
      "Data columns (total 10 columns):\n",
      " #   Column         Non-Null Count  Dtype  \n",
      "---  ------         --------------  -----  \n",
      " 0   RI             213 non-null    float64\n",
      " 1   Na             213 non-null    float64\n",
      " 2   Mg             213 non-null    float64\n",
      " 3   Al             213 non-null    float64\n",
      " 4   Si             213 non-null    float64\n",
      " 5   K              213 non-null    float64\n",
      " 6   Ca             213 non-null    float64\n",
      " 7   Ba             213 non-null    float64\n",
      " 8   Fe             213 non-null    float64\n",
      " 9   Type of glass  213 non-null    object \n",
      "dtypes: float64(9), object(1)\n",
      "memory usage: 16.8+ KB\n"
     ]
    }
   ],
   "source": [
    "df.info()"
   ]
  },
  {
   "cell_type": "code",
   "execution_count": 22,
   "id": "609b6bc6",
   "metadata": {},
   "outputs": [],
   "source": [
    "# Encoding categorial columns using OrdinalEncodes"
   ]
  },
  {
   "cell_type": "code",
   "execution_count": 23,
   "id": "00af8b1e",
   "metadata": {},
   "outputs": [],
   "source": [
    "from sklearn.preprocessing import OrdinalEncoder\n",
    "OE = OrdinalEncoder()\n",
    "for i in df.columns:\n",
    "    if df[i].dtype == 'object':\n",
    "        df[i] = OE.fit_transform(df[i].values.reshape(-1,1))"
   ]
  },
  {
   "cell_type": "code",
   "execution_count": 24,
   "id": "1d921089",
   "metadata": {},
   "outputs": [
    {
     "data": {
      "text/html": [
       "<div>\n",
       "<style scoped>\n",
       "    .dataframe tbody tr th:only-of-type {\n",
       "        vertical-align: middle;\n",
       "    }\n",
       "\n",
       "    .dataframe tbody tr th {\n",
       "        vertical-align: top;\n",
       "    }\n",
       "\n",
       "    .dataframe thead th {\n",
       "        text-align: right;\n",
       "    }\n",
       "</style>\n",
       "<table border=\"1\" class=\"dataframe\">\n",
       "  <thead>\n",
       "    <tr style=\"text-align: right;\">\n",
       "      <th></th>\n",
       "      <th>RI</th>\n",
       "      <th>Na</th>\n",
       "      <th>Mg</th>\n",
       "      <th>Al</th>\n",
       "      <th>Si</th>\n",
       "      <th>K</th>\n",
       "      <th>Ca</th>\n",
       "      <th>Ba</th>\n",
       "      <th>Fe</th>\n",
       "      <th>Type of glass</th>\n",
       "    </tr>\n",
       "  </thead>\n",
       "  <tbody>\n",
       "    <tr>\n",
       "      <th>0</th>\n",
       "      <td>1.51761</td>\n",
       "      <td>13.89</td>\n",
       "      <td>3.60</td>\n",
       "      <td>1.36</td>\n",
       "      <td>72.73</td>\n",
       "      <td>0.48</td>\n",
       "      <td>7.83</td>\n",
       "      <td>0.00</td>\n",
       "      <td>0.00</td>\n",
       "      <td>1.0</td>\n",
       "    </tr>\n",
       "    <tr>\n",
       "      <th>1</th>\n",
       "      <td>1.51618</td>\n",
       "      <td>13.53</td>\n",
       "      <td>3.55</td>\n",
       "      <td>1.54</td>\n",
       "      <td>72.99</td>\n",
       "      <td>0.39</td>\n",
       "      <td>7.78</td>\n",
       "      <td>0.00</td>\n",
       "      <td>0.00</td>\n",
       "      <td>1.0</td>\n",
       "    </tr>\n",
       "    <tr>\n",
       "      <th>2</th>\n",
       "      <td>1.51766</td>\n",
       "      <td>13.21</td>\n",
       "      <td>3.69</td>\n",
       "      <td>1.29</td>\n",
       "      <td>72.61</td>\n",
       "      <td>0.57</td>\n",
       "      <td>8.22</td>\n",
       "      <td>0.00</td>\n",
       "      <td>0.00</td>\n",
       "      <td>1.0</td>\n",
       "    </tr>\n",
       "    <tr>\n",
       "      <th>3</th>\n",
       "      <td>1.51742</td>\n",
       "      <td>13.27</td>\n",
       "      <td>3.62</td>\n",
       "      <td>1.24</td>\n",
       "      <td>73.08</td>\n",
       "      <td>0.55</td>\n",
       "      <td>8.07</td>\n",
       "      <td>0.00</td>\n",
       "      <td>0.00</td>\n",
       "      <td>1.0</td>\n",
       "    </tr>\n",
       "    <tr>\n",
       "      <th>4</th>\n",
       "      <td>1.51596</td>\n",
       "      <td>12.79</td>\n",
       "      <td>3.61</td>\n",
       "      <td>1.62</td>\n",
       "      <td>72.97</td>\n",
       "      <td>0.64</td>\n",
       "      <td>8.07</td>\n",
       "      <td>0.00</td>\n",
       "      <td>0.26</td>\n",
       "      <td>1.0</td>\n",
       "    </tr>\n",
       "    <tr>\n",
       "      <th>...</th>\n",
       "      <td>...</td>\n",
       "      <td>...</td>\n",
       "      <td>...</td>\n",
       "      <td>...</td>\n",
       "      <td>...</td>\n",
       "      <td>...</td>\n",
       "      <td>...</td>\n",
       "      <td>...</td>\n",
       "      <td>...</td>\n",
       "      <td>...</td>\n",
       "    </tr>\n",
       "    <tr>\n",
       "      <th>208</th>\n",
       "      <td>1.51623</td>\n",
       "      <td>14.14</td>\n",
       "      <td>0.00</td>\n",
       "      <td>2.88</td>\n",
       "      <td>72.61</td>\n",
       "      <td>0.08</td>\n",
       "      <td>9.18</td>\n",
       "      <td>1.06</td>\n",
       "      <td>0.00</td>\n",
       "      <td>0.0</td>\n",
       "    </tr>\n",
       "    <tr>\n",
       "      <th>209</th>\n",
       "      <td>1.51685</td>\n",
       "      <td>14.92</td>\n",
       "      <td>0.00</td>\n",
       "      <td>1.99</td>\n",
       "      <td>73.06</td>\n",
       "      <td>0.00</td>\n",
       "      <td>8.40</td>\n",
       "      <td>1.59</td>\n",
       "      <td>0.00</td>\n",
       "      <td>0.0</td>\n",
       "    </tr>\n",
       "    <tr>\n",
       "      <th>210</th>\n",
       "      <td>1.52065</td>\n",
       "      <td>14.36</td>\n",
       "      <td>0.00</td>\n",
       "      <td>2.02</td>\n",
       "      <td>73.42</td>\n",
       "      <td>0.00</td>\n",
       "      <td>8.44</td>\n",
       "      <td>1.64</td>\n",
       "      <td>0.00</td>\n",
       "      <td>0.0</td>\n",
       "    </tr>\n",
       "    <tr>\n",
       "      <th>211</th>\n",
       "      <td>1.51651</td>\n",
       "      <td>14.38</td>\n",
       "      <td>0.00</td>\n",
       "      <td>1.94</td>\n",
       "      <td>73.61</td>\n",
       "      <td>0.00</td>\n",
       "      <td>8.48</td>\n",
       "      <td>1.57</td>\n",
       "      <td>0.00</td>\n",
       "      <td>0.0</td>\n",
       "    </tr>\n",
       "    <tr>\n",
       "      <th>212</th>\n",
       "      <td>1.51711</td>\n",
       "      <td>14.23</td>\n",
       "      <td>0.00</td>\n",
       "      <td>2.08</td>\n",
       "      <td>73.36</td>\n",
       "      <td>0.00</td>\n",
       "      <td>8.62</td>\n",
       "      <td>1.67</td>\n",
       "      <td>0.00</td>\n",
       "      <td>0.0</td>\n",
       "    </tr>\n",
       "  </tbody>\n",
       "</table>\n",
       "<p>213 rows × 10 columns</p>\n",
       "</div>"
      ],
      "text/plain": [
       "          RI     Na    Mg    Al     Si     K    Ca    Ba    Fe  Type of glass\n",
       "0    1.51761  13.89  3.60  1.36  72.73  0.48  7.83  0.00  0.00            1.0\n",
       "1    1.51618  13.53  3.55  1.54  72.99  0.39  7.78  0.00  0.00            1.0\n",
       "2    1.51766  13.21  3.69  1.29  72.61  0.57  8.22  0.00  0.00            1.0\n",
       "3    1.51742  13.27  3.62  1.24  73.08  0.55  8.07  0.00  0.00            1.0\n",
       "4    1.51596  12.79  3.61  1.62  72.97  0.64  8.07  0.00  0.26            1.0\n",
       "..       ...    ...   ...   ...    ...   ...   ...   ...   ...            ...\n",
       "208  1.51623  14.14  0.00  2.88  72.61  0.08  9.18  1.06  0.00            0.0\n",
       "209  1.51685  14.92  0.00  1.99  73.06  0.00  8.40  1.59  0.00            0.0\n",
       "210  1.52065  14.36  0.00  2.02  73.42  0.00  8.44  1.64  0.00            0.0\n",
       "211  1.51651  14.38  0.00  1.94  73.61  0.00  8.48  1.57  0.00            0.0\n",
       "212  1.51711  14.23  0.00  2.08  73.36  0.00  8.62  1.67  0.00            0.0\n",
       "\n",
       "[213 rows x 10 columns]"
      ]
     },
     "execution_count": 24,
     "metadata": {},
     "output_type": "execute_result"
    }
   ],
   "source": [
    "df"
   ]
  },
  {
   "cell_type": "code",
   "execution_count": 25,
   "id": "22170d15",
   "metadata": {},
   "outputs": [
    {
     "data": {
      "text/plain": [
       "RI               1.639658\n",
       "Na               0.457318\n",
       "Mg              -1.154323\n",
       "Al               0.900017\n",
       "Si              -0.744546\n",
       "K                6.549276\n",
       "Ca               2.040591\n",
       "Ba               3.406749\n",
       "Fe               1.747173\n",
       "Type of glass   -1.229860\n",
       "dtype: float64"
      ]
     },
     "execution_count": 25,
     "metadata": {},
     "output_type": "execute_result"
    }
   ],
   "source": [
    "# checking skewness in dataset.\n",
    "df.skew()"
   ]
  },
  {
   "cell_type": "code",
   "execution_count": 89,
   "id": "8e27f092",
   "metadata": {},
   "outputs": [],
   "source": [
    "# As we can observe, some of the parameters have values exceeding +0.5, such as RI, Al, Ca, Ba, Fe,\n",
    "# and K."
   ]
  },
  {
   "cell_type": "markdown",
   "id": "8c1ee416",
   "metadata": {},
   "source": [
    "### Checking visualization presentation"
   ]
  },
  {
   "cell_type": "code",
   "execution_count": 27,
   "id": "5ca245cc",
   "metadata": {},
   "outputs": [
    {
     "data": {
      "image/png": "[encoded data removed]",
      "text/plain": [
       "<Figure size 1000x600 with 9 Axes>"
      ]
     },
     "metadata": {},
     "output_type": "display_data"
    }
   ],
   "source": [
    "plt.figure(figsize=(10,6), facecolor='White')\n",
    "plotnumber = 1\n",
    "for col in df.columns:\n",
    "    if plotnumber <=9:\n",
    "        ax = plt.subplot(3,3,plotnumber)\n",
    "        sns.distplot(df[col], color='m', kde_kws={'shade' : True}, hist=False)\n",
    "        plt.xlabel(col, fontsize= 15)\n",
    "        plt.yticks(rotation=0, fontsize=10)\n",
    "    plotnumber+=1\n",
    "plt.tight_layout()"
   ]
  },
  {
   "cell_type": "markdown",
   "id": "21fc6834",
   "metadata": {},
   "source": [
    "##### Removing Skewness"
   ]
  },
  {
   "cell_type": "code",
   "execution_count": 28,
   "id": "01c2cdba",
   "metadata": {},
   "outputs": [],
   "source": [
    "# Removing the skewness by using Cube root square.\n",
    "df['RI'] = np.cbrt(df['RI'])\n",
    "\n",
    "# Removing the skewness by using Cube root square.\n",
    "df['Al'] = np.cbrt(df['Al'])\n",
    "\n",
    "# Removing the skewness by using Cube root square.\n",
    "df['Ca'] = np.cbrt(df['Ca'])\n",
    "\n",
    "# Removing the skewness by using Cube root square.\n",
    "df['Ba'] = np.cbrt(df['Ba'])\n",
    "\n",
    "# Removing the skewness by using Cube root square.\n",
    "df['Fe'] = np.cbrt(df['Fe'])\n",
    "\n",
    "# Removing the skewness by using Cube root square.\n",
    "df['K'] = np.cbrt(df['K'])\n",
    "\n",
    "# Removing the skewness by using Cube root square.\n",
    "df['Mg'] = np.cbrt(df['Mg'])"
   ]
  },
  {
   "cell_type": "code",
   "execution_count": 29,
   "id": "ff66e5a3",
   "metadata": {},
   "outputs": [
    {
     "data": {
      "text/plain": [
       "RI               1.631276\n",
       "Na               0.457318\n",
       "Mg              -1.434030\n",
       "Al              -0.212025\n",
       "Si              -0.744546\n",
       "K               -0.602542\n",
       "Ca               1.402709\n",
       "Ba               2.065220\n",
       "Fe               0.887382\n",
       "Type of glass   -1.229860\n",
       "dtype: float64"
      ]
     },
     "execution_count": 29,
     "metadata": {},
     "output_type": "execute_result"
    }
   ],
   "source": [
    "# after removing all the skewness.\n",
    "df.skew()"
   ]
  },
  {
   "cell_type": "code",
   "execution_count": 30,
   "id": "4dc1718d",
   "metadata": {},
   "outputs": [
    {
     "data": {
      "image/png": "[encoded data removed]",
      "text/plain": [
       "<Figure size 1000x600 with 9 Axes>"
      ]
     },
     "metadata": {},
     "output_type": "display_data"
    }
   ],
   "source": [
    "plt.figure(figsize=(10,6), facecolor='White')\n",
    "plotnumber = 1\n",
    "for col in df.columns:\n",
    "    if plotnumber <=9:\n",
    "        ax = plt.subplot(3,3,plotnumber)\n",
    "        sns.distplot(df[col], color='m', kde_kws={'shade' : True}, hist=False)\n",
    "        plt.xlabel(col, fontsize= 15)\n",
    "        plt.yticks(rotation=0, fontsize=10)\n",
    "    plotnumber+=1\n",
    "plt.tight_layout()"
   ]
  },
  {
   "cell_type": "code",
   "execution_count": 32,
   "id": "bc787231",
   "metadata": {},
   "outputs": [
    {
     "data": {
      "text/html": [
       "<div>\n",
       "<style scoped>\n",
       "    .dataframe tbody tr th:only-of-type {\n",
       "        vertical-align: middle;\n",
       "    }\n",
       "\n",
       "    .dataframe tbody tr th {\n",
       "        vertical-align: top;\n",
       "    }\n",
       "\n",
       "    .dataframe thead th {\n",
       "        text-align: right;\n",
       "    }\n",
       "</style>\n",
       "<table border=\"1\" class=\"dataframe\">\n",
       "  <thead>\n",
       "    <tr style=\"text-align: right;\">\n",
       "      <th></th>\n",
       "      <th>RI</th>\n",
       "      <th>Na</th>\n",
       "      <th>Mg</th>\n",
       "      <th>Al</th>\n",
       "      <th>Si</th>\n",
       "      <th>K</th>\n",
       "      <th>Ca</th>\n",
       "      <th>Ba</th>\n",
       "      <th>Fe</th>\n",
       "      <th>Type of glass</th>\n",
       "    </tr>\n",
       "  </thead>\n",
       "  <tbody>\n",
       "    <tr>\n",
       "      <th>count</th>\n",
       "      <td>213.000000</td>\n",
       "      <td>213.000000</td>\n",
       "      <td>213.000000</td>\n",
       "      <td>213.000000</td>\n",
       "      <td>213.000000</td>\n",
       "      <td>213.000000</td>\n",
       "      <td>213.000000</td>\n",
       "      <td>213.000000</td>\n",
       "      <td>213.000000</td>\n",
       "      <td>213.000000</td>\n",
       "    </tr>\n",
       "    <tr>\n",
       "      <th>mean</th>\n",
       "      <td>1.149363</td>\n",
       "      <td>13.406761</td>\n",
       "      <td>1.192173</td>\n",
       "      <td>1.115837</td>\n",
       "      <td>72.655023</td>\n",
       "      <td>0.669618</td>\n",
       "      <td>2.071683</td>\n",
       "      <td>0.163273</td>\n",
       "      <td>0.177532</td>\n",
       "      <td>0.760563</td>\n",
       "    </tr>\n",
       "    <tr>\n",
       "      <th>std</th>\n",
       "      <td>0.000766</td>\n",
       "      <td>0.818371</td>\n",
       "      <td>0.602021</td>\n",
       "      <td>0.131577</td>\n",
       "      <td>0.774052</td>\n",
       "      <td>0.332190</td>\n",
       "      <td>0.102548</td>\n",
       "      <td>0.371360</td>\n",
       "      <td>0.261034</td>\n",
       "      <td>0.427745</td>\n",
       "    </tr>\n",
       "    <tr>\n",
       "      <th>min</th>\n",
       "      <td>1.147544</td>\n",
       "      <td>10.730000</td>\n",
       "      <td>0.000000</td>\n",
       "      <td>0.661911</td>\n",
       "      <td>69.810000</td>\n",
       "      <td>0.000000</td>\n",
       "      <td>1.757654</td>\n",
       "      <td>0.000000</td>\n",
       "      <td>0.000000</td>\n",
       "      <td>0.000000</td>\n",
       "    </tr>\n",
       "    <tr>\n",
       "      <th>25%</th>\n",
       "      <td>1.148901</td>\n",
       "      <td>12.900000</td>\n",
       "      <td>1.278543</td>\n",
       "      <td>1.059699</td>\n",
       "      <td>72.280000</td>\n",
       "      <td>0.506580</td>\n",
       "      <td>2.019803</td>\n",
       "      <td>0.000000</td>\n",
       "      <td>0.000000</td>\n",
       "      <td>1.000000</td>\n",
       "    </tr>\n",
       "    <tr>\n",
       "      <th>50%</th>\n",
       "      <td>1.149194</td>\n",
       "      <td>13.300000</td>\n",
       "      <td>1.515397</td>\n",
       "      <td>1.107932</td>\n",
       "      <td>72.790000</td>\n",
       "      <td>0.824257</td>\n",
       "      <td>2.048800</td>\n",
       "      <td>0.000000</td>\n",
       "      <td>0.000000</td>\n",
       "      <td>1.000000</td>\n",
       "    </tr>\n",
       "    <tr>\n",
       "      <th>75%</th>\n",
       "      <td>1.149565</td>\n",
       "      <td>13.830000</td>\n",
       "      <td>1.532619</td>\n",
       "      <td>1.176872</td>\n",
       "      <td>73.090000</td>\n",
       "      <td>0.848093</td>\n",
       "      <td>2.093860</td>\n",
       "      <td>0.000000</td>\n",
       "      <td>0.464159</td>\n",
       "      <td>1.000000</td>\n",
       "    </tr>\n",
       "    <tr>\n",
       "      <th>max</th>\n",
       "      <td>1.153281</td>\n",
       "      <td>17.380000</td>\n",
       "      <td>1.584751</td>\n",
       "      <td>1.518294</td>\n",
       "      <td>75.410000</td>\n",
       "      <td>1.838078</td>\n",
       "      <td>2.529777</td>\n",
       "      <td>1.465897</td>\n",
       "      <td>0.798957</td>\n",
       "      <td>1.000000</td>\n",
       "    </tr>\n",
       "  </tbody>\n",
       "</table>\n",
       "</div>"
      ],
      "text/plain": [
       "               RI          Na          Mg          Al          Si           K  \\\n",
       "count  213.000000  213.000000  213.000000  213.000000  213.000000  213.000000   \n",
       "mean     1.149363   13.406761    1.192173    1.115837   72.655023    0.669618   \n",
       "std      0.000766    0.818371    0.602021    0.131577    0.774052    0.332190   \n",
       "min      1.147544   10.730000    0.000000    0.661911   69.810000    0.000000   \n",
       "25%      1.148901   12.900000    1.278543    1.059699   72.280000    0.506580   \n",
       "50%      1.149194   13.300000    1.515397    1.107932   72.790000    0.824257   \n",
       "75%      1.149565   13.830000    1.532619    1.176872   73.090000    0.848093   \n",
       "max      1.153281   17.380000    1.584751    1.518294   75.410000    1.838078   \n",
       "\n",
       "               Ca          Ba          Fe  Type of glass  \n",
       "count  213.000000  213.000000  213.000000     213.000000  \n",
       "mean     2.071683    0.163273    0.177532       0.760563  \n",
       "std      0.102548    0.371360    0.261034       0.427745  \n",
       "min      1.757654    0.000000    0.000000       0.000000  \n",
       "25%      2.019803    0.000000    0.000000       1.000000  \n",
       "50%      2.048800    0.000000    0.000000       1.000000  \n",
       "75%      2.093860    0.000000    0.464159       1.000000  \n",
       "max      2.529777    1.465897    0.798957       1.000000  "
      ]
     },
     "execution_count": 32,
     "metadata": {},
     "output_type": "execute_result"
    }
   ],
   "source": [
    "# Let's review the summary description again.\n",
    "df.describe()"
   ]
  },
  {
   "cell_type": "markdown",
   "id": "20fae621",
   "metadata": {},
   "source": [
    "#### Checking outliers"
   ]
  },
  {
   "cell_type": "code",
   "execution_count": 33,
   "id": "a7fd61c6",
   "metadata": {},
   "outputs": [],
   "source": [
    "# We can see outlier in dataset so we will try to remove.\n",
    "# Removing outliers\n",
    "\n",
    "from scipy import stats\n",
    "for col in df.columns:\n",
    "    z_scores = stats.zscore(df[col])\n",
    "    abs_z_scores = np.abs(z_scores)\n",
    "    filtered_entries = (abs_z_scores < 3)\n",
    "    df = df[filtered_entries]"
   ]
  },
  {
   "cell_type": "code",
   "execution_count": 34,
   "id": "24f4a42b",
   "metadata": {},
   "outputs": [
    {
     "data": {
      "text/html": [
       "<div>\n",
       "<style scoped>\n",
       "    .dataframe tbody tr th:only-of-type {\n",
       "        vertical-align: middle;\n",
       "    }\n",
       "\n",
       "    .dataframe tbody tr th {\n",
       "        vertical-align: top;\n",
       "    }\n",
       "\n",
       "    .dataframe thead th {\n",
       "        text-align: right;\n",
       "    }\n",
       "</style>\n",
       "<table border=\"1\" class=\"dataframe\">\n",
       "  <thead>\n",
       "    <tr style=\"text-align: right;\">\n",
       "      <th></th>\n",
       "      <th>RI</th>\n",
       "      <th>Na</th>\n",
       "      <th>Mg</th>\n",
       "      <th>Al</th>\n",
       "      <th>Si</th>\n",
       "      <th>K</th>\n",
       "      <th>Ca</th>\n",
       "      <th>Ba</th>\n",
       "      <th>Fe</th>\n",
       "      <th>Type of glass</th>\n",
       "    </tr>\n",
       "  </thead>\n",
       "  <tbody>\n",
       "    <tr>\n",
       "      <th>count</th>\n",
       "      <td>190.000000</td>\n",
       "      <td>190.000000</td>\n",
       "      <td>190.000000</td>\n",
       "      <td>190.000000</td>\n",
       "      <td>190.000000</td>\n",
       "      <td>190.000000</td>\n",
       "      <td>190.000000</td>\n",
       "      <td>190.000000</td>\n",
       "      <td>190.000000</td>\n",
       "      <td>190.000000</td>\n",
       "    </tr>\n",
       "    <tr>\n",
       "      <th>mean</th>\n",
       "      <td>1.149282</td>\n",
       "      <td>13.411316</td>\n",
       "      <td>1.278149</td>\n",
       "      <td>1.114339</td>\n",
       "      <td>72.735737</td>\n",
       "      <td>0.662244</td>\n",
       "      <td>2.063667</td>\n",
       "      <td>0.130423</td>\n",
       "      <td>0.186192</td>\n",
       "      <td>0.805263</td>\n",
       "    </tr>\n",
       "    <tr>\n",
       "      <th>std</th>\n",
       "      <td>0.000543</td>\n",
       "      <td>0.651045</td>\n",
       "      <td>0.532989</td>\n",
       "      <td>0.115450</td>\n",
       "      <td>0.559801</td>\n",
       "      <td>0.294790</td>\n",
       "      <td>0.064540</td>\n",
       "      <td>0.317559</td>\n",
       "      <td>0.262820</td>\n",
       "      <td>0.397044</td>\n",
       "    </tr>\n",
       "    <tr>\n",
       "      <th>min</th>\n",
       "      <td>1.147797</td>\n",
       "      <td>11.560000</td>\n",
       "      <td>0.000000</td>\n",
       "      <td>0.777498</td>\n",
       "      <td>71.150000</td>\n",
       "      <td>0.000000</td>\n",
       "      <td>1.920191</td>\n",
       "      <td>0.000000</td>\n",
       "      <td>0.000000</td>\n",
       "      <td>0.000000</td>\n",
       "    </tr>\n",
       "    <tr>\n",
       "      <th>25%</th>\n",
       "      <td>1.148899</td>\n",
       "      <td>12.930000</td>\n",
       "      <td>1.418627</td>\n",
       "      <td>1.059699</td>\n",
       "      <td>72.380000</td>\n",
       "      <td>0.522269</td>\n",
       "      <td>2.020415</td>\n",
       "      <td>0.000000</td>\n",
       "      <td>0.000000</td>\n",
       "      <td>1.000000</td>\n",
       "    </tr>\n",
       "    <tr>\n",
       "      <th>50%</th>\n",
       "      <td>1.149182</td>\n",
       "      <td>13.280000</td>\n",
       "      <td>1.518294</td>\n",
       "      <td>1.107932</td>\n",
       "      <td>72.830000</td>\n",
       "      <td>0.824257</td>\n",
       "      <td>2.047608</td>\n",
       "      <td>0.000000</td>\n",
       "      <td>0.000000</td>\n",
       "      <td>1.000000</td>\n",
       "    </tr>\n",
       "    <tr>\n",
       "      <th>75%</th>\n",
       "      <td>1.149505</td>\n",
       "      <td>13.772500</td>\n",
       "      <td>1.534037</td>\n",
       "      <td>1.170207</td>\n",
       "      <td>73.087500</td>\n",
       "      <td>0.843433</td>\n",
       "      <td>2.086037</td>\n",
       "      <td>0.000000</td>\n",
       "      <td>0.464159</td>\n",
       "      <td>1.000000</td>\n",
       "    </tr>\n",
       "    <tr>\n",
       "      <th>max</th>\n",
       "      <td>1.151459</td>\n",
       "      <td>15.150000</td>\n",
       "      <td>1.584751</td>\n",
       "      <td>1.422757</td>\n",
       "      <td>74.550000</td>\n",
       "      <td>1.032280</td>\n",
       "      <td>2.304591</td>\n",
       "      <td>1.179274</td>\n",
       "      <td>0.798957</td>\n",
       "      <td>1.000000</td>\n",
       "    </tr>\n",
       "  </tbody>\n",
       "</table>\n",
       "</div>"
      ],
      "text/plain": [
       "               RI          Na          Mg          Al          Si           K  \\\n",
       "count  190.000000  190.000000  190.000000  190.000000  190.000000  190.000000   \n",
       "mean     1.149282   13.411316    1.278149    1.114339   72.735737    0.662244   \n",
       "std      0.000543    0.651045    0.532989    0.115450    0.559801    0.294790   \n",
       "min      1.147797   11.560000    0.000000    0.777498   71.150000    0.000000   \n",
       "25%      1.148899   12.930000    1.418627    1.059699   72.380000    0.522269   \n",
       "50%      1.149182   13.280000    1.518294    1.107932   72.830000    0.824257   \n",
       "75%      1.149505   13.772500    1.534037    1.170207   73.087500    0.843433   \n",
       "max      1.151459   15.150000    1.584751    1.422757   74.550000    1.032280   \n",
       "\n",
       "               Ca          Ba          Fe  Type of glass  \n",
       "count  190.000000  190.000000  190.000000     190.000000  \n",
       "mean     2.063667    0.130423    0.186192       0.805263  \n",
       "std      0.064540    0.317559    0.262820       0.397044  \n",
       "min      1.920191    0.000000    0.000000       0.000000  \n",
       "25%      2.020415    0.000000    0.000000       1.000000  \n",
       "50%      2.047608    0.000000    0.000000       1.000000  \n",
       "75%      2.086037    0.000000    0.464159       1.000000  \n",
       "max      2.304591    1.179274    0.798957       1.000000  "
      ]
     },
     "execution_count": 34,
     "metadata": {},
     "output_type": "execute_result"
    }
   ],
   "source": [
    "df.describe()"
   ]
  },
  {
   "cell_type": "code",
   "execution_count": 35,
   "id": "485ac19e",
   "metadata": {},
   "outputs": [
    {
     "data": {
      "text/plain": [
       "RI                  Axes(0.125,0.53;0.110714x0.35)\n",
       "Na               Axes(0.257857,0.53;0.110714x0.35)\n",
       "Mg               Axes(0.390714,0.53;0.110714x0.35)\n",
       "Al               Axes(0.523571,0.53;0.110714x0.35)\n",
       "Si               Axes(0.656429,0.53;0.110714x0.35)\n",
       "K                Axes(0.789286,0.53;0.110714x0.35)\n",
       "Ca                  Axes(0.125,0.11;0.110714x0.35)\n",
       "Ba               Axes(0.257857,0.11;0.110714x0.35)\n",
       "Fe               Axes(0.390714,0.11;0.110714x0.35)\n",
       "Type of glass    Axes(0.523571,0.11;0.110714x0.35)\n",
       "dtype: object"
      ]
     },
     "execution_count": 35,
     "metadata": {},
     "output_type": "execute_result"
    },
    {
     "data": {
      "image/png": "[encoded data removed]",
      "text/plain": [
       "<Figure size 640x480 with 12 Axes>"
      ]
     },
     "metadata": {},
     "output_type": "display_data"
    }
   ],
   "source": [
    "# After removing outliear.\n",
    "df.plot(kind = 'box', subplots=True,layout=(2,6))"
   ]
  },
  {
   "cell_type": "code",
   "execution_count": 36,
   "id": "f7b419c1",
   "metadata": {},
   "outputs": [],
   "source": [
    "# Define percentiles for trimming\n",
    "lower_percentile = 5  # remove bottom 5% of data\n",
    "upper_percentile = 95  # remove top 5% of data\n",
    "\n",
    "# Calculate thresholds\n",
    "lower_threshold = np.percentile(df['Al'], lower_percentile)\n",
    "upper_threshold = np.percentile(df['Al'], upper_percentile)\n",
    "\n",
    "# Keep rows where 'Al' values are within the thresholds\n",
    "df = df[(df['Al'] >= lower_threshold) & (df['Al'] <= upper_threshold)]\n"
   ]
  },
  {
   "cell_type": "code",
   "execution_count": 37,
   "id": "60af6189",
   "metadata": {},
   "outputs": [
    {
     "data": {
      "text/plain": [
       "RI                  Axes(0.125,0.53;0.110714x0.35)\n",
       "Na               Axes(0.257857,0.53;0.110714x0.35)\n",
       "Mg               Axes(0.390714,0.53;0.110714x0.35)\n",
       "Al               Axes(0.523571,0.53;0.110714x0.35)\n",
       "Si               Axes(0.656429,0.53;0.110714x0.35)\n",
       "K                Axes(0.789286,0.53;0.110714x0.35)\n",
       "Ca                  Axes(0.125,0.11;0.110714x0.35)\n",
       "Ba               Axes(0.257857,0.11;0.110714x0.35)\n",
       "Fe               Axes(0.390714,0.11;0.110714x0.35)\n",
       "Type of glass    Axes(0.523571,0.11;0.110714x0.35)\n",
       "dtype: object"
      ]
     },
     "execution_count": 37,
     "metadata": {},
     "output_type": "execute_result"
    },
    {
     "data": {
      "image/png": "[encoded data removed]",
      "text/plain": [
       "<Figure size 640x480 with 12 Axes>"
      ]
     },
     "metadata": {},
     "output_type": "display_data"
    }
   ],
   "source": [
    "# After removing outliear.\n",
    "df.plot(kind = 'box', subplots=True,layout=(2,6))"
   ]
  },
  {
   "cell_type": "code",
   "execution_count": 38,
   "id": "0857b2c1",
   "metadata": {},
   "outputs": [
    {
     "data": {
      "text/html": [
       "<div>\n",
       "<style scoped>\n",
       "    .dataframe tbody tr th:only-of-type {\n",
       "        vertical-align: middle;\n",
       "    }\n",
       "\n",
       "    .dataframe tbody tr th {\n",
       "        vertical-align: top;\n",
       "    }\n",
       "\n",
       "    .dataframe thead th {\n",
       "        text-align: right;\n",
       "    }\n",
       "</style>\n",
       "<table border=\"1\" class=\"dataframe\">\n",
       "  <thead>\n",
       "    <tr style=\"text-align: right;\">\n",
       "      <th></th>\n",
       "      <th>RI</th>\n",
       "      <th>Na</th>\n",
       "      <th>Mg</th>\n",
       "      <th>Al</th>\n",
       "      <th>Si</th>\n",
       "      <th>K</th>\n",
       "      <th>Ca</th>\n",
       "      <th>Ba</th>\n",
       "      <th>Fe</th>\n",
       "      <th>Type of glass</th>\n",
       "    </tr>\n",
       "  </thead>\n",
       "  <tbody>\n",
       "    <tr>\n",
       "      <th>count</th>\n",
       "      <td>170.000000</td>\n",
       "      <td>170.000000</td>\n",
       "      <td>170.000000</td>\n",
       "      <td>170.000000</td>\n",
       "      <td>170.000000</td>\n",
       "      <td>170.000000</td>\n",
       "      <td>170.000000</td>\n",
       "      <td>170.000000</td>\n",
       "      <td>170.000000</td>\n",
       "      <td>170.000000</td>\n",
       "    </tr>\n",
       "    <tr>\n",
       "      <th>mean</th>\n",
       "      <td>1.149265</td>\n",
       "      <td>13.318765</td>\n",
       "      <td>1.355535</td>\n",
       "      <td>1.115244</td>\n",
       "      <td>72.728412</td>\n",
       "      <td>0.704398</td>\n",
       "      <td>2.058040</td>\n",
       "      <td>0.092179</td>\n",
       "      <td>0.189811</td>\n",
       "      <td>0.847059</td>\n",
       "    </tr>\n",
       "    <tr>\n",
       "      <th>std</th>\n",
       "      <td>0.000499</td>\n",
       "      <td>0.609761</td>\n",
       "      <td>0.438340</td>\n",
       "      <td>0.079371</td>\n",
       "      <td>0.525044</td>\n",
       "      <td>0.273844</td>\n",
       "      <td>0.063699</td>\n",
       "      <td>0.278979</td>\n",
       "      <td>0.266878</td>\n",
       "      <td>0.360994</td>\n",
       "    </tr>\n",
       "    <tr>\n",
       "      <th>min</th>\n",
       "      <td>1.147797</td>\n",
       "      <td>11.560000</td>\n",
       "      <td>0.000000</td>\n",
       "      <td>0.920516</td>\n",
       "      <td>71.150000</td>\n",
       "      <td>0.000000</td>\n",
       "      <td>1.920191</td>\n",
       "      <td>0.000000</td>\n",
       "      <td>0.000000</td>\n",
       "      <td>0.000000</td>\n",
       "    </tr>\n",
       "    <tr>\n",
       "      <th>25%</th>\n",
       "      <td>1.148923</td>\n",
       "      <td>12.872500</td>\n",
       "      <td>1.484262</td>\n",
       "      <td>1.069258</td>\n",
       "      <td>72.382500</td>\n",
       "      <td>0.724316</td>\n",
       "      <td>2.017554</td>\n",
       "      <td>0.000000</td>\n",
       "      <td>0.000000</td>\n",
       "      <td>1.000000</td>\n",
       "    </tr>\n",
       "    <tr>\n",
       "      <th>50%</th>\n",
       "      <td>1.149182</td>\n",
       "      <td>13.210000</td>\n",
       "      <td>1.520460</td>\n",
       "      <td>1.107932</td>\n",
       "      <td>72.800000</td>\n",
       "      <td>0.826696</td>\n",
       "      <td>2.043625</td>\n",
       "      <td>0.000000</td>\n",
       "      <td>0.000000</td>\n",
       "      <td>1.000000</td>\n",
       "    </tr>\n",
       "    <tr>\n",
       "      <th>75%</th>\n",
       "      <td>1.149443</td>\n",
       "      <td>13.545000</td>\n",
       "      <td>1.534037</td>\n",
       "      <td>1.159778</td>\n",
       "      <td>73.060000</td>\n",
       "      <td>0.848093</td>\n",
       "      <td>2.076030</td>\n",
       "      <td>0.000000</td>\n",
       "      <td>0.479142</td>\n",
       "      <td>1.000000</td>\n",
       "    </tr>\n",
       "    <tr>\n",
       "      <th>max</th>\n",
       "      <td>1.150812</td>\n",
       "      <td>15.150000</td>\n",
       "      <td>1.584751</td>\n",
       "      <td>1.314242</td>\n",
       "      <td>74.550000</td>\n",
       "      <td>1.032280</td>\n",
       "      <td>2.304591</td>\n",
       "      <td>1.179274</td>\n",
       "      <td>0.798957</td>\n",
       "      <td>1.000000</td>\n",
       "    </tr>\n",
       "  </tbody>\n",
       "</table>\n",
       "</div>"
      ],
      "text/plain": [
       "               RI          Na          Mg          Al          Si           K  \\\n",
       "count  170.000000  170.000000  170.000000  170.000000  170.000000  170.000000   \n",
       "mean     1.149265   13.318765    1.355535    1.115244   72.728412    0.704398   \n",
       "std      0.000499    0.609761    0.438340    0.079371    0.525044    0.273844   \n",
       "min      1.147797   11.560000    0.000000    0.920516   71.150000    0.000000   \n",
       "25%      1.148923   12.872500    1.484262    1.069258   72.382500    0.724316   \n",
       "50%      1.149182   13.210000    1.520460    1.107932   72.800000    0.826696   \n",
       "75%      1.149443   13.545000    1.534037    1.159778   73.060000    0.848093   \n",
       "max      1.150812   15.150000    1.584751    1.314242   74.550000    1.032280   \n",
       "\n",
       "               Ca          Ba          Fe  Type of glass  \n",
       "count  170.000000  170.000000  170.000000     170.000000  \n",
       "mean     2.058040    0.092179    0.189811       0.847059  \n",
       "std      0.063699    0.278979    0.266878       0.360994  \n",
       "min      1.920191    0.000000    0.000000       0.000000  \n",
       "25%      2.017554    0.000000    0.000000       1.000000  \n",
       "50%      2.043625    0.000000    0.000000       1.000000  \n",
       "75%      2.076030    0.000000    0.479142       1.000000  \n",
       "max      2.304591    1.179274    0.798957       1.000000  "
      ]
     },
     "execution_count": 38,
     "metadata": {},
     "output_type": "execute_result"
    }
   ],
   "source": [
    "df.describe()"
   ]
  },
  {
   "cell_type": "code",
   "execution_count": 40,
   "id": "0cbff45b",
   "metadata": {},
   "outputs": [],
   "source": [
    "# Define percentiles for trimming\n",
    "lower_percentile = 5  # remove bottom 5% of data\n",
    "upper_percentile = 95  # remove top 5% of data\n",
    "\n",
    "# Calculate thresholds\n",
    "lower_threshold = np.percentile(df['Na'], lower_percentile)\n",
    "upper_threshold = np.percentile(df['Na'], upper_percentile)\n",
    "\n",
    "# Keep rows where 'Al' values are within the thresholds\n",
    "df = df[(df['Na'] >= lower_threshold) & (df['Na'] <= upper_threshold)]"
   ]
  },
  {
   "cell_type": "code",
   "execution_count": 41,
   "id": "576b8733",
   "metadata": {},
   "outputs": [
    {
     "data": {
      "text/plain": [
       "RI                  Axes(0.125,0.53;0.110714x0.35)\n",
       "Na               Axes(0.257857,0.53;0.110714x0.35)\n",
       "Mg               Axes(0.390714,0.53;0.110714x0.35)\n",
       "Al               Axes(0.523571,0.53;0.110714x0.35)\n",
       "Si               Axes(0.656429,0.53;0.110714x0.35)\n",
       "K                Axes(0.789286,0.53;0.110714x0.35)\n",
       "Ca                  Axes(0.125,0.11;0.110714x0.35)\n",
       "Ba               Axes(0.257857,0.11;0.110714x0.35)\n",
       "Fe               Axes(0.390714,0.11;0.110714x0.35)\n",
       "Type of glass    Axes(0.523571,0.11;0.110714x0.35)\n",
       "dtype: object"
      ]
     },
     "execution_count": 41,
     "metadata": {},
     "output_type": "execute_result"
    },
    {
     "data": {
      "image/png": "[encoded data removed]",
      "text/plain": [
       "<Figure size 640x480 with 12 Axes>"
      ]
     },
     "metadata": {},
     "output_type": "display_data"
    }
   ],
   "source": [
    "# After removing outliear.\n",
    "df.plot(kind = 'box', subplots=True,layout=(2,6))"
   ]
  },
  {
   "cell_type": "code",
   "execution_count": 42,
   "id": "d4b74547",
   "metadata": {},
   "outputs": [
    {
     "data": {
      "text/html": [
       "<div>\n",
       "<style scoped>\n",
       "    .dataframe tbody tr th:only-of-type {\n",
       "        vertical-align: middle;\n",
       "    }\n",
       "\n",
       "    .dataframe tbody tr th {\n",
       "        vertical-align: top;\n",
       "    }\n",
       "\n",
       "    .dataframe thead th {\n",
       "        text-align: right;\n",
       "    }\n",
       "</style>\n",
       "<table border=\"1\" class=\"dataframe\">\n",
       "  <thead>\n",
       "    <tr style=\"text-align: right;\">\n",
       "      <th></th>\n",
       "      <th>RI</th>\n",
       "      <th>Na</th>\n",
       "      <th>Mg</th>\n",
       "      <th>Al</th>\n",
       "      <th>Si</th>\n",
       "      <th>K</th>\n",
       "      <th>Ca</th>\n",
       "      <th>Ba</th>\n",
       "      <th>Fe</th>\n",
       "      <th>Type of glass</th>\n",
       "    </tr>\n",
       "  </thead>\n",
       "  <tbody>\n",
       "    <tr>\n",
       "      <th>count</th>\n",
       "      <td>152.000000</td>\n",
       "      <td>152.000000</td>\n",
       "      <td>152.000000</td>\n",
       "      <td>152.000000</td>\n",
       "      <td>152.000000</td>\n",
       "      <td>152.000000</td>\n",
       "      <td>152.000000</td>\n",
       "      <td>152.000000</td>\n",
       "      <td>152.000000</td>\n",
       "      <td>152.000000</td>\n",
       "    </tr>\n",
       "    <tr>\n",
       "      <th>mean</th>\n",
       "      <td>1.149286</td>\n",
       "      <td>13.283618</td>\n",
       "      <td>1.413616</td>\n",
       "      <td>1.106527</td>\n",
       "      <td>72.685921</td>\n",
       "      <td>0.734667</td>\n",
       "      <td>2.057747</td>\n",
       "      <td>0.053756</td>\n",
       "      <td>0.189797</td>\n",
       "      <td>0.888158</td>\n",
       "    </tr>\n",
       "    <tr>\n",
       "      <th>std</th>\n",
       "      <td>0.000510</td>\n",
       "      <td>0.448781</td>\n",
       "      <td>0.351936</td>\n",
       "      <td>0.075039</td>\n",
       "      <td>0.521166</td>\n",
       "      <td>0.235474</td>\n",
       "      <td>0.064022</td>\n",
       "      <td>0.199396</td>\n",
       "      <td>0.269423</td>\n",
       "      <td>0.316214</td>\n",
       "    </tr>\n",
       "    <tr>\n",
       "      <th>min</th>\n",
       "      <td>1.147797</td>\n",
       "      <td>12.620000</td>\n",
       "      <td>0.000000</td>\n",
       "      <td>0.920516</td>\n",
       "      <td>71.150000</td>\n",
       "      <td>0.000000</td>\n",
       "      <td>1.920191</td>\n",
       "      <td>0.000000</td>\n",
       "      <td>0.000000</td>\n",
       "      <td>0.000000</td>\n",
       "    </tr>\n",
       "    <tr>\n",
       "      <th>25%</th>\n",
       "      <td>1.148928</td>\n",
       "      <td>12.930000</td>\n",
       "      <td>1.498888</td>\n",
       "      <td>1.061919</td>\n",
       "      <td>72.367500</td>\n",
       "      <td>0.753096</td>\n",
       "      <td>2.016734</td>\n",
       "      <td>0.000000</td>\n",
       "      <td>0.000000</td>\n",
       "      <td>1.000000</td>\n",
       "    </tr>\n",
       "    <tr>\n",
       "      <th>50%</th>\n",
       "      <td>1.149204</td>\n",
       "      <td>13.210000</td>\n",
       "      <td>1.521901</td>\n",
       "      <td>1.102474</td>\n",
       "      <td>72.750000</td>\n",
       "      <td>0.829134</td>\n",
       "      <td>2.042826</td>\n",
       "      <td>0.000000</td>\n",
       "      <td>0.000000</td>\n",
       "      <td>1.000000</td>\n",
       "    </tr>\n",
       "    <tr>\n",
       "      <th>75%</th>\n",
       "      <td>1.149511</td>\n",
       "      <td>13.492500</td>\n",
       "      <td>1.535452</td>\n",
       "      <td>1.154800</td>\n",
       "      <td>73.010000</td>\n",
       "      <td>0.848093</td>\n",
       "      <td>2.077577</td>\n",
       "      <td>0.000000</td>\n",
       "      <td>0.482667</td>\n",
       "      <td>1.000000</td>\n",
       "    </tr>\n",
       "    <tr>\n",
       "      <th>max</th>\n",
       "      <td>1.150812</td>\n",
       "      <td>14.460000</td>\n",
       "      <td>1.584751</td>\n",
       "      <td>1.294653</td>\n",
       "      <td>74.550000</td>\n",
       "      <td>1.032280</td>\n",
       "      <td>2.304591</td>\n",
       "      <td>1.179274</td>\n",
       "      <td>0.798957</td>\n",
       "      <td>1.000000</td>\n",
       "    </tr>\n",
       "  </tbody>\n",
       "</table>\n",
       "</div>"
      ],
      "text/plain": [
       "               RI          Na          Mg          Al          Si           K  \\\n",
       "count  152.000000  152.000000  152.000000  152.000000  152.000000  152.000000   \n",
       "mean     1.149286   13.283618    1.413616    1.106527   72.685921    0.734667   \n",
       "std      0.000510    0.448781    0.351936    0.075039    0.521166    0.235474   \n",
       "min      1.147797   12.620000    0.000000    0.920516   71.150000    0.000000   \n",
       "25%      1.148928   12.930000    1.498888    1.061919   72.367500    0.753096   \n",
       "50%      1.149204   13.210000    1.521901    1.102474   72.750000    0.829134   \n",
       "75%      1.149511   13.492500    1.535452    1.154800   73.010000    0.848093   \n",
       "max      1.150812   14.460000    1.584751    1.294653   74.550000    1.032280   \n",
       "\n",
       "               Ca          Ba          Fe  Type of glass  \n",
       "count  152.000000  152.000000  152.000000     152.000000  \n",
       "mean     2.057747    0.053756    0.189797       0.888158  \n",
       "std      0.064022    0.199396    0.269423       0.316214  \n",
       "min      1.920191    0.000000    0.000000       0.000000  \n",
       "25%      2.016734    0.000000    0.000000       1.000000  \n",
       "50%      2.042826    0.000000    0.000000       1.000000  \n",
       "75%      2.077577    0.000000    0.482667       1.000000  \n",
       "max      2.304591    1.179274    0.798957       1.000000  "
      ]
     },
     "execution_count": 42,
     "metadata": {},
     "output_type": "execute_result"
    }
   ],
   "source": [
    "df.describe()"
   ]
  },
  {
   "cell_type": "code",
   "execution_count": 43,
   "id": "1b2d48d0",
   "metadata": {},
   "outputs": [
    {
     "data": {
      "text/html": [
       "<div>\n",
       "<style scoped>\n",
       "    .dataframe tbody tr th:only-of-type {\n",
       "        vertical-align: middle;\n",
       "    }\n",
       "\n",
       "    .dataframe tbody tr th {\n",
       "        vertical-align: top;\n",
       "    }\n",
       "\n",
       "    .dataframe thead th {\n",
       "        text-align: right;\n",
       "    }\n",
       "</style>\n",
       "<table border=\"1\" class=\"dataframe\">\n",
       "  <thead>\n",
       "    <tr style=\"text-align: right;\">\n",
       "      <th></th>\n",
       "      <th>RI</th>\n",
       "      <th>Na</th>\n",
       "      <th>Mg</th>\n",
       "      <th>Al</th>\n",
       "      <th>Si</th>\n",
       "      <th>K</th>\n",
       "      <th>Ca</th>\n",
       "      <th>Ba</th>\n",
       "      <th>Fe</th>\n",
       "      <th>Type of glass</th>\n",
       "    </tr>\n",
       "  </thead>\n",
       "  <tbody>\n",
       "    <tr>\n",
       "      <th>RI</th>\n",
       "      <td>1.000000</td>\n",
       "      <td>0.300480</td>\n",
       "      <td>-0.244183</td>\n",
       "      <td>-0.424608</td>\n",
       "      <td>-0.603334</td>\n",
       "      <td>-0.336966</td>\n",
       "      <td>0.746460</td>\n",
       "      <td>0.060327</td>\n",
       "      <td>0.081005</td>\n",
       "      <td>-0.185715</td>\n",
       "    </tr>\n",
       "    <tr>\n",
       "      <th>Na</th>\n",
       "      <td>0.300480</td>\n",
       "      <td>1.000000</td>\n",
       "      <td>-0.248269</td>\n",
       "      <td>-0.019681</td>\n",
       "      <td>-0.461764</td>\n",
       "      <td>-0.654825</td>\n",
       "      <td>0.158510</td>\n",
       "      <td>0.216172</td>\n",
       "      <td>-0.182932</td>\n",
       "      <td>-0.274796</td>\n",
       "    </tr>\n",
       "    <tr>\n",
       "      <th>Mg</th>\n",
       "      <td>-0.244183</td>\n",
       "      <td>-0.248269</td>\n",
       "      <td>1.000000</td>\n",
       "      <td>-0.356764</td>\n",
       "      <td>-0.238838</td>\n",
       "      <td>0.353458</td>\n",
       "      <td>-0.602476</td>\n",
       "      <td>-0.322820</td>\n",
       "      <td>0.084494</td>\n",
       "      <td>0.699018</td>\n",
       "    </tr>\n",
       "    <tr>\n",
       "      <th>Al</th>\n",
       "      <td>-0.424608</td>\n",
       "      <td>-0.019681</td>\n",
       "      <td>-0.356764</td>\n",
       "      <td>1.000000</td>\n",
       "      <td>0.281404</td>\n",
       "      <td>0.090310</td>\n",
       "      <td>-0.192786</td>\n",
       "      <td>0.256732</td>\n",
       "      <td>-0.129180</td>\n",
       "      <td>-0.403545</td>\n",
       "    </tr>\n",
       "    <tr>\n",
       "      <th>Si</th>\n",
       "      <td>-0.603334</td>\n",
       "      <td>-0.461764</td>\n",
       "      <td>-0.238838</td>\n",
       "      <td>0.281404</td>\n",
       "      <td>1.000000</td>\n",
       "      <td>0.123937</td>\n",
       "      <td>-0.286891</td>\n",
       "      <td>0.071573</td>\n",
       "      <td>-0.086598</td>\n",
       "      <td>-0.219385</td>\n",
       "    </tr>\n",
       "    <tr>\n",
       "      <th>K</th>\n",
       "      <td>-0.336966</td>\n",
       "      <td>-0.654825</td>\n",
       "      <td>0.353458</td>\n",
       "      <td>0.090310</td>\n",
       "      <td>0.123937</td>\n",
       "      <td>1.000000</td>\n",
       "      <td>-0.374547</td>\n",
       "      <td>-0.305068</td>\n",
       "      <td>0.141136</td>\n",
       "      <td>0.552108</td>\n",
       "    </tr>\n",
       "    <tr>\n",
       "      <th>Ca</th>\n",
       "      <td>0.746460</td>\n",
       "      <td>0.158510</td>\n",
       "      <td>-0.602476</td>\n",
       "      <td>-0.192786</td>\n",
       "      <td>-0.286891</td>\n",
       "      <td>-0.374547</td>\n",
       "      <td>1.000000</td>\n",
       "      <td>0.006556</td>\n",
       "      <td>0.100476</td>\n",
       "      <td>-0.448939</td>\n",
       "    </tr>\n",
       "    <tr>\n",
       "      <th>Ba</th>\n",
       "      <td>0.060327</td>\n",
       "      <td>0.216172</td>\n",
       "      <td>-0.322820</td>\n",
       "      <td>0.256732</td>\n",
       "      <td>0.071573</td>\n",
       "      <td>-0.305068</td>\n",
       "      <td>0.006556</td>\n",
       "      <td>1.000000</td>\n",
       "      <td>0.044183</td>\n",
       "      <td>-0.311077</td>\n",
       "    </tr>\n",
       "    <tr>\n",
       "      <th>Fe</th>\n",
       "      <td>0.081005</td>\n",
       "      <td>-0.182932</td>\n",
       "      <td>0.084494</td>\n",
       "      <td>-0.129180</td>\n",
       "      <td>-0.086598</td>\n",
       "      <td>0.141136</td>\n",
       "      <td>0.100476</td>\n",
       "      <td>0.044183</td>\n",
       "      <td>1.000000</td>\n",
       "      <td>0.137850</td>\n",
       "    </tr>\n",
       "    <tr>\n",
       "      <th>Type of glass</th>\n",
       "      <td>-0.185715</td>\n",
       "      <td>-0.274796</td>\n",
       "      <td>0.699018</td>\n",
       "      <td>-0.403545</td>\n",
       "      <td>-0.219385</td>\n",
       "      <td>0.552108</td>\n",
       "      <td>-0.448939</td>\n",
       "      <td>-0.311077</td>\n",
       "      <td>0.137850</td>\n",
       "      <td>1.000000</td>\n",
       "    </tr>\n",
       "  </tbody>\n",
       "</table>\n",
       "</div>"
      ],
      "text/plain": [
       "                     RI        Na        Mg        Al        Si         K  \\\n",
       "RI             1.000000  0.300480 -0.244183 -0.424608 -0.603334 -0.336966   \n",
       "Na             0.300480  1.000000 -0.248269 -0.019681 -0.461764 -0.654825   \n",
       "Mg            -0.244183 -0.248269  1.000000 -0.356764 -0.238838  0.353458   \n",
       "Al            -0.424608 -0.019681 -0.356764  1.000000  0.281404  0.090310   \n",
       "Si            -0.603334 -0.461764 -0.238838  0.281404  1.000000  0.123937   \n",
       "K             -0.336966 -0.654825  0.353458  0.090310  0.123937  1.000000   \n",
       "Ca             0.746460  0.158510 -0.602476 -0.192786 -0.286891 -0.374547   \n",
       "Ba             0.060327  0.216172 -0.322820  0.256732  0.071573 -0.305068   \n",
       "Fe             0.081005 -0.182932  0.084494 -0.129180 -0.086598  0.141136   \n",
       "Type of glass -0.185715 -0.274796  0.699018 -0.403545 -0.219385  0.552108   \n",
       "\n",
       "                     Ca        Ba        Fe  Type of glass  \n",
       "RI             0.746460  0.060327  0.081005      -0.185715  \n",
       "Na             0.158510  0.216172 -0.182932      -0.274796  \n",
       "Mg            -0.602476 -0.322820  0.084494       0.699018  \n",
       "Al            -0.192786  0.256732 -0.129180      -0.403545  \n",
       "Si            -0.286891  0.071573 -0.086598      -0.219385  \n",
       "K             -0.374547 -0.305068  0.141136       0.552108  \n",
       "Ca             1.000000  0.006556  0.100476      -0.448939  \n",
       "Ba             0.006556  1.000000  0.044183      -0.311077  \n",
       "Fe             0.100476  0.044183  1.000000       0.137850  \n",
       "Type of glass -0.448939 -0.311077  0.137850       1.000000  "
      ]
     },
     "execution_count": 43,
     "metadata": {},
     "output_type": "execute_result"
    }
   ],
   "source": [
    "# Now Correlation between target variable and independent variable.\n",
    "cor = df.corr()\n",
    "cor"
   ]
  },
  {
   "cell_type": "code",
   "execution_count": 44,
   "id": "b047119b",
   "metadata": {},
   "outputs": [
    {
     "data": {
      "image/png": "[encoded data removed]",
      "text/plain": [
       "<Figure size 2000x1500 with 2 Axes>"
      ]
     },
     "metadata": {},
     "output_type": "display_data"
    }
   ],
   "source": [
    "# Visualizing the correlation matrix by plotting heatmap\n",
    "plt.figure(figsize=(20,15))\n",
    "sns.heatmap(df.corr(), linewidths=0.1, fmt=\".1g\", linecolor=\"black\",annot=True,cmap=\"Blues_r\")\n",
    "plt.yticks(rotation = 0)\n",
    "\n",
    "plt.show()"
   ]
  },
  {
   "cell_type": "code",
   "execution_count": 45,
   "id": "3abeeee1",
   "metadata": {},
   "outputs": [],
   "source": [
    "# There is not much positive correlation between the target and features.\n",
    "# As we can see hightly negative correlation\n",
    "# We observe a negative correlation between Mg with Na, AI, Si, Ca. Let's see all these in next steps."
   ]
  },
  {
   "cell_type": "code",
   "execution_count": 46,
   "id": "54c576a5",
   "metadata": {},
   "outputs": [
    {
     "data": {
      "text/plain": [
       "Type of glass    1.000000\n",
       "Mg               0.699018\n",
       "K                0.552108\n",
       "Fe               0.137850\n",
       "RI              -0.185715\n",
       "Si              -0.219385\n",
       "Na              -0.274796\n",
       "Ba              -0.311077\n",
       "Al              -0.403545\n",
       "Ca              -0.448939\n",
       "Name: Type of glass, dtype: float64"
      ]
     },
     "execution_count": 46,
     "metadata": {},
     "output_type": "execute_result"
    }
   ],
   "source": [
    "# We can clearly see that there is no positive correlation with the target value,\n",
    "# but there is a highly negative correlation with the target value.\n",
    "cor['Type of glass'].sort_values(ascending=False)"
   ]
  },
  {
   "cell_type": "code",
   "execution_count": 47,
   "id": "b97150fa",
   "metadata": {},
   "outputs": [],
   "source": [
    "# Separating feature and label\n",
    "x = df.drop('Type of glass', axis=1)\n",
    "y = df['Type of glass']"
   ]
  },
  {
   "cell_type": "code",
   "execution_count": 48,
   "id": "6a03c316",
   "metadata": {},
   "outputs": [],
   "source": [
    "# Feature Scaling using Standard Scalarization\n",
    "from sklearn.preprocessing import StandardScaler\n",
    "scaler = StandardScaler()\n",
    "x = pd.DataFrame(scaler.fit_transform(x), columns=x.columns)"
   ]
  },
  {
   "cell_type": "code",
   "execution_count": 49,
   "id": "1fc13f49",
   "metadata": {},
   "outputs": [],
   "source": [
    "# Checking Variance Inflation Factor(VIF)\n",
    "# Checking VIF values to confirm whether multicollinearity exists or not.\n",
    "from statsmodels.stats.outliers_influence import variance_inflation_factor\n",
    "vif = pd.DataFrame()\n",
    "vif['VIF Values'] = [variance_inflation_factor(x.values, i) for i in range(len(x.columns))]\n",
    "vif['Feature Values'] = x.columns"
   ]
  },
  {
   "cell_type": "code",
   "execution_count": 50,
   "id": "eaf9f16a",
   "metadata": {},
   "outputs": [
    {
     "data": {
      "text/html": [
       "<div>\n",
       "<style scoped>\n",
       "    .dataframe tbody tr th:only-of-type {\n",
       "        vertical-align: middle;\n",
       "    }\n",
       "\n",
       "    .dataframe tbody tr th {\n",
       "        vertical-align: top;\n",
       "    }\n",
       "\n",
       "    .dataframe thead th {\n",
       "        text-align: right;\n",
       "    }\n",
       "</style>\n",
       "<table border=\"1\" class=\"dataframe\">\n",
       "  <thead>\n",
       "    <tr style=\"text-align: right;\">\n",
       "      <th></th>\n",
       "      <th>VIF Values</th>\n",
       "      <th>Feature Values</th>\n",
       "    </tr>\n",
       "  </thead>\n",
       "  <tbody>\n",
       "    <tr>\n",
       "      <th>0</th>\n",
       "      <td>4.643631</td>\n",
       "      <td>RI</td>\n",
       "    </tr>\n",
       "    <tr>\n",
       "      <th>1</th>\n",
       "      <td>4.669051</td>\n",
       "      <td>Na</td>\n",
       "    </tr>\n",
       "    <tr>\n",
       "      <th>2</th>\n",
       "      <td>6.750105</td>\n",
       "      <td>Mg</td>\n",
       "    </tr>\n",
       "    <tr>\n",
       "      <th>3</th>\n",
       "      <td>2.199175</td>\n",
       "      <td>Al</td>\n",
       "    </tr>\n",
       "    <tr>\n",
       "      <th>4</th>\n",
       "      <td>5.162191</td>\n",
       "      <td>Si</td>\n",
       "    </tr>\n",
       "    <tr>\n",
       "      <th>5</th>\n",
       "      <td>3.069738</td>\n",
       "      <td>K</td>\n",
       "    </tr>\n",
       "    <tr>\n",
       "      <th>6</th>\n",
       "      <td>7.294385</td>\n",
       "      <td>Ca</td>\n",
       "    </tr>\n",
       "    <tr>\n",
       "      <th>7</th>\n",
       "      <td>1.521457</td>\n",
       "      <td>Ba</td>\n",
       "    </tr>\n",
       "    <tr>\n",
       "      <th>8</th>\n",
       "      <td>1.138136</td>\n",
       "      <td>Fe</td>\n",
       "    </tr>\n",
       "  </tbody>\n",
       "</table>\n",
       "</div>"
      ],
      "text/plain": [
       "   VIF Values Feature Values\n",
       "0    4.643631             RI\n",
       "1    4.669051             Na\n",
       "2    6.750105             Mg\n",
       "3    2.199175             Al\n",
       "4    5.162191             Si\n",
       "5    3.069738              K\n",
       "6    7.294385             Ca\n",
       "7    1.521457             Ba\n",
       "8    1.138136             Fe"
      ]
     },
     "execution_count": 50,
     "metadata": {},
     "output_type": "execute_result"
    }
   ],
   "source": [
    "vif\n",
    "# So, we can clearly see that there is no multicollinearity present, so we don't need to drop any columns."
   ]
  },
  {
   "cell_type": "code",
   "execution_count": 51,
   "id": "b263ffa1",
   "metadata": {},
   "outputs": [],
   "source": [
    "# As we have observed a high correlation that affects the target value, dropping that column can resolve the issue.  \n",
    "df.drop('Si', axis=1, inplace=True)"
   ]
  },
  {
   "cell_type": "code",
   "execution_count": 52,
   "id": "2e8a9f2c",
   "metadata": {},
   "outputs": [],
   "source": [
    "# Again checking\n",
    "# Separating feature and label\n",
    "x = df.drop('Type of glass', axis=1)\n",
    "y = df['Type of glass']"
   ]
  },
  {
   "cell_type": "code",
   "execution_count": 53,
   "id": "ca7612a2",
   "metadata": {},
   "outputs": [],
   "source": [
    "# Feature Scaling using Standard Scalarization\n",
    "from sklearn.preprocessing import StandardScaler\n",
    "scaler = StandardScaler()\n",
    "x = pd.DataFrame(scaler.fit_transform(x), columns=x.columns)"
   ]
  },
  {
   "cell_type": "code",
   "execution_count": 54,
   "id": "efa10602",
   "metadata": {},
   "outputs": [],
   "source": [
    "# Checking Variance Inflation Factor(VIF)\n",
    "# Checking VIF values to confirm whether multicollinearity exists or not.\n",
    "from statsmodels.stats.outliers_influence import variance_inflation_factor\n",
    "vif = pd.DataFrame()\n",
    "vif['VIF Values'] = [variance_inflation_factor(x.values, i) for i in range(len(x.columns))]\n",
    "vif['Feature Values'] = x.columns"
   ]
  },
  {
   "cell_type": "code",
   "execution_count": 55,
   "id": "2fd8cd6c",
   "metadata": {},
   "outputs": [
    {
     "data": {
      "text/html": [
       "<div>\n",
       "<style scoped>\n",
       "    .dataframe tbody tr th:only-of-type {\n",
       "        vertical-align: middle;\n",
       "    }\n",
       "\n",
       "    .dataframe tbody tr th {\n",
       "        vertical-align: top;\n",
       "    }\n",
       "\n",
       "    .dataframe thead th {\n",
       "        text-align: right;\n",
       "    }\n",
       "</style>\n",
       "<table border=\"1\" class=\"dataframe\">\n",
       "  <thead>\n",
       "    <tr style=\"text-align: right;\">\n",
       "      <th></th>\n",
       "      <th>VIF Values</th>\n",
       "      <th>Feature Values</th>\n",
       "    </tr>\n",
       "  </thead>\n",
       "  <tbody>\n",
       "    <tr>\n",
       "      <th>0</th>\n",
       "      <td>3.743979</td>\n",
       "      <td>RI</td>\n",
       "    </tr>\n",
       "    <tr>\n",
       "      <th>1</th>\n",
       "      <td>2.133042</td>\n",
       "      <td>Na</td>\n",
       "    </tr>\n",
       "    <tr>\n",
       "      <th>2</th>\n",
       "      <td>3.273773</td>\n",
       "      <td>Mg</td>\n",
       "    </tr>\n",
       "    <tr>\n",
       "      <th>3</th>\n",
       "      <td>1.843168</td>\n",
       "      <td>Al</td>\n",
       "    </tr>\n",
       "    <tr>\n",
       "      <th>4</th>\n",
       "      <td>2.321376</td>\n",
       "      <td>K</td>\n",
       "    </tr>\n",
       "    <tr>\n",
       "      <th>5</th>\n",
       "      <td>5.744234</td>\n",
       "      <td>Ca</td>\n",
       "    </tr>\n",
       "    <tr>\n",
       "      <th>6</th>\n",
       "      <td>1.502704</td>\n",
       "      <td>Ba</td>\n",
       "    </tr>\n",
       "    <tr>\n",
       "      <th>7</th>\n",
       "      <td>1.132125</td>\n",
       "      <td>Fe</td>\n",
       "    </tr>\n",
       "  </tbody>\n",
       "</table>\n",
       "</div>"
      ],
      "text/plain": [
       "   VIF Values Feature Values\n",
       "0    3.743979             RI\n",
       "1    2.133042             Na\n",
       "2    3.273773             Mg\n",
       "3    1.843168             Al\n",
       "4    2.321376              K\n",
       "5    5.744234             Ca\n",
       "6    1.502704             Ba\n",
       "7    1.132125             Fe"
      ]
     },
     "execution_count": 55,
     "metadata": {},
     "output_type": "execute_result"
    }
   ],
   "source": [
    "vif\n",
    "# So, we can clearly see that there is no multicollinearity present, so we don't need to drop any columns."
   ]
  },
  {
   "cell_type": "code",
   "execution_count": 56,
   "id": "4f795fc0",
   "metadata": {},
   "outputs": [
    {
     "data": {
      "text/plain": [
       "Type of glass\n",
       "1.0    135\n",
       "0.0     17\n",
       "Name: count, dtype: int64"
      ]
     },
     "execution_count": 56,
     "metadata": {},
     "output_type": "execute_result"
    }
   ],
   "source": [
    "# Now we can move to the model building\n",
    "y.value_counts()"
   ]
  },
  {
   "cell_type": "code",
   "execution_count": 57,
   "id": "3c348c92",
   "metadata": {},
   "outputs": [],
   "source": [
    "# We can see that there is class imbalance in the target values, so we need to address it by using an oversampling method."
   ]
  },
  {
   "cell_type": "markdown",
   "id": "242ae1f4",
   "metadata": {},
   "source": [
    "### OverSampling"
   ]
  },
  {
   "cell_type": "code",
   "execution_count": 58,
   "id": "c9a21b97",
   "metadata": {},
   "outputs": [],
   "source": [
    "from imblearn.over_sampling import SMOTE\n",
    "SM = SMOTE()\n",
    "x1, y1 = SM.fit_resample(x, y)"
   ]
  },
  {
   "cell_type": "code",
   "execution_count": 59,
   "id": "d26f32ca",
   "metadata": {},
   "outputs": [
    {
     "data": {
      "text/plain": [
       "Type of glass\n",
       "1.0    135\n",
       "0.0     17\n",
       "Name: count, dtype: int64"
      ]
     },
     "execution_count": 59,
     "metadata": {},
     "output_type": "execute_result"
    }
   ],
   "source": [
    "# Checking again\n",
    "y.value_counts()"
   ]
  },
  {
   "cell_type": "code",
   "execution_count": 61,
   "id": "6aaa9b0a",
   "metadata": {},
   "outputs": [
    {
     "data": {
      "text/plain": [
       "Type of glass\n",
       "1.0    135\n",
       "0.0    135\n",
       "Name: count, dtype: int64"
      ]
     },
     "execution_count": 61,
     "metadata": {},
     "output_type": "execute_result"
    }
   ],
   "source": [
    "# We have resolved the class imbalance issue by using oversampling method.\n",
    "y1.value_counts()"
   ]
  },
  {
   "cell_type": "markdown",
   "id": "fa498470",
   "metadata": {},
   "source": [
    "### Modelling"
   ]
  },
  {
   "cell_type": "code",
   "execution_count": 62,
   "id": "6c6ab803",
   "metadata": {},
   "outputs": [
    {
     "name": "stdout",
     "output_type": "stream",
     "text": [
      "Best Accuracy is  1.0 at random_state  16\n"
     ]
    }
   ],
   "source": [
    "from sklearn.model_selection import train_test_split\n",
    "from sklearn.ensemble import RandomForestClassifier\n",
    "from sklearn.metrics import accuracy_score\n",
    "maxAcc = 0\n",
    "maxRs = 0\n",
    "for i in range(1, 200):\n",
    "    x_train, x_test, y_train, y_test = train_test_split(x1, y1, test_size=0.30, random_state=i)\n",
    "    RER = RandomForestClassifier()\n",
    "    RER.fit(x_train, y_train)\n",
    "    pred = RER.predict(x_test)\n",
    "    acc = accuracy_score(y_test, pred)\n",
    "    if acc > maxAcc:\n",
    "        maxAcc = acc\n",
    "        maxRs = i\n",
    "print(\"Best Accuracy is \", maxAcc, \"at random_state \", maxRs)"
   ]
  },
  {
   "cell_type": "code",
   "execution_count": 63,
   "id": "c85ad335",
   "metadata": {},
   "outputs": [],
   "source": [
    "# Creating train test split\n",
    "x_train, x_test, y_train, y_test = train_test_split(x1, y1, test_size=.30, random_state=maxRs)"
   ]
  },
  {
   "cell_type": "code",
   "execution_count": 64,
   "id": "0a6e2817",
   "metadata": {},
   "outputs": [],
   "source": [
    "# Classification Algorithmfrom \n",
    "from sklearn.ensemble import RandomForestClassifier, ExtraTreesClassifier, GradientBoostingClassifier, BaggingClassifier\n",
    "from sklearn.linear_model import LogisticRegression\n",
    "from sklearn.svm import SVC\n",
    "from sklearn.metrics import classification_report, confusion_matrix, roc_curve, accuracy_score\n",
    "from sklearn.model_selection import cross_val_score"
   ]
  },
  {
   "cell_type": "markdown",
   "id": "f519859f",
   "metadata": {},
   "source": [
    "## RandomForestClassifier"
   ]
  },
  {
   "cell_type": "code",
   "execution_count": 65,
   "id": "844ccdde",
   "metadata": {},
   "outputs": [],
   "source": [
    "# Checking accuracy for Random Forest Classifier\n",
    "RFC = RandomForestClassifier()\n",
    "RFC.fit(x_train, y_train)\n",
    "predRFC = RFC.predict(x_test)"
   ]
  },
  {
   "cell_type": "code",
   "execution_count": 66,
   "id": "44da2e19",
   "metadata": {},
   "outputs": [
    {
     "name": "stdout",
     "output_type": "stream",
     "text": [
      "Accuracy of this model  100.0\n",
      "[[40  0]\n",
      " [ 0 41]]\n",
      "              precision    recall  f1-score   support\n",
      "\n",
      "         0.0       1.00      1.00      1.00        40\n",
      "         1.0       1.00      1.00      1.00        41\n",
      "\n",
      "    accuracy                           1.00        81\n",
      "   macro avg       1.00      1.00      1.00        81\n",
      "weighted avg       1.00      1.00      1.00        81\n",
      "\n"
     ]
    }
   ],
   "source": [
    "print(\"Accuracy of this model \", accuracy_score(y_test, predRFC)*100)\n",
    "\n",
    "print(confusion_matrix(y_test, predRFC))\n",
    "\n",
    "print(classification_report(y_test, predRFC))"
   ]
  },
  {
   "cell_type": "markdown",
   "id": "117851f8",
   "metadata": {},
   "source": [
    "## ExtraTreesClassifier"
   ]
  },
  {
   "cell_type": "code",
   "execution_count": 67,
   "id": "b3bb532f",
   "metadata": {},
   "outputs": [
    {
     "name": "stdout",
     "output_type": "stream",
     "text": [
      "Accuracy of this model  97.53086419753086\n",
      "[[40  0]\n",
      " [ 2 39]]\n",
      "              precision    recall  f1-score   support\n",
      "\n",
      "         0.0       0.95      1.00      0.98        40\n",
      "         1.0       1.00      0.95      0.97        41\n",
      "\n",
      "    accuracy                           0.98        81\n",
      "   macro avg       0.98      0.98      0.98        81\n",
      "weighted avg       0.98      0.98      0.98        81\n",
      "\n"
     ]
    }
   ],
   "source": [
    "# Checking accuracy for ExtraTreesClassifier\n",
    "ET = ExtraTreesClassifier()\n",
    "ET.fit(x_train, y_train)\n",
    "predET = ET.predict(x_test)\n",
    "\n",
    "print(\"Accuracy of this model \", accuracy_score(y_test, predET)*100)\n",
    "\n",
    "print(confusion_matrix(y_test, predET))\n",
    "\n",
    "print(classification_report(y_test, predET))"
   ]
  },
  {
   "cell_type": "markdown",
   "id": "e0cf17a5",
   "metadata": {},
   "source": [
    "## GradientBoostingClassifier"
   ]
  },
  {
   "cell_type": "code",
   "execution_count": 68,
   "id": "e4a178f4",
   "metadata": {},
   "outputs": [
    {
     "name": "stdout",
     "output_type": "stream",
     "text": [
      "Accuracy of this model  100.0\n",
      "[[40  0]\n",
      " [ 0 41]]\n",
      "              precision    recall  f1-score   support\n",
      "\n",
      "         0.0       1.00      1.00      1.00        40\n",
      "         1.0       1.00      1.00      1.00        41\n",
      "\n",
      "    accuracy                           1.00        81\n",
      "   macro avg       1.00      1.00      1.00        81\n",
      "weighted avg       1.00      1.00      1.00        81\n",
      "\n"
     ]
    }
   ],
   "source": [
    "# Checking accuracy for GradientBoostingClassifier\n",
    "GBC = GradientBoostingClassifier()\n",
    "GBC.fit(x_train, y_train)\n",
    "predGBC = GBC.predict(x_test)\n",
    "\n",
    "print(\"Accuracy of this model \", accuracy_score(y_test, predGBC)*100)\n",
    "\n",
    "print(confusion_matrix(y_test, predGBC))\n",
    "\n",
    "print(classification_report(y_test, predGBC))"
   ]
  },
  {
   "cell_type": "markdown",
   "id": "92f524f9",
   "metadata": {},
   "source": [
    "## BaggingClassifier"
   ]
  },
  {
   "cell_type": "code",
   "execution_count": 69,
   "id": "f7970be9",
   "metadata": {},
   "outputs": [
    {
     "name": "stdout",
     "output_type": "stream",
     "text": [
      "Accuracy of this model  100.0\n",
      "[[40  0]\n",
      " [ 0 41]]\n",
      "              precision    recall  f1-score   support\n",
      "\n",
      "         0.0       1.00      1.00      1.00        40\n",
      "         1.0       1.00      1.00      1.00        41\n",
      "\n",
      "    accuracy                           1.00        81\n",
      "   macro avg       1.00      1.00      1.00        81\n",
      "weighted avg       1.00      1.00      1.00        81\n",
      "\n"
     ]
    }
   ],
   "source": [
    "# Checking accuracy for BaggingClassifier\n",
    "BC = BaggingClassifier()\n",
    "BC.fit(x_train, y_train)\n",
    "predBC = BC.predict(x_test)\n",
    "\n",
    "print(\"Accuracy of this model \", accuracy_score(y_test, predBC)*100)\n",
    "\n",
    "print(confusion_matrix(y_test, predBC))\n",
    "\n",
    "print(classification_report(y_test, predBC))"
   ]
  },
  {
   "cell_type": "markdown",
   "id": "4ea640b7",
   "metadata": {},
   "source": [
    "## LogisticRegression"
   ]
  },
  {
   "cell_type": "code",
   "execution_count": 70,
   "id": "f0f8607c",
   "metadata": {},
   "outputs": [
    {
     "name": "stdout",
     "output_type": "stream",
     "text": [
      "Accuracy of this model  98.76543209876543\n",
      "[[40  0]\n",
      " [ 1 40]]\n",
      "              precision    recall  f1-score   support\n",
      "\n",
      "         0.0       0.98      1.00      0.99        40\n",
      "         1.0       1.00      0.98      0.99        41\n",
      "\n",
      "    accuracy                           0.99        81\n",
      "   macro avg       0.99      0.99      0.99        81\n",
      "weighted avg       0.99      0.99      0.99        81\n",
      "\n"
     ]
    }
   ],
   "source": [
    "# Checking accuracy for LogisticRegression\n",
    "LR = LogisticRegression()\n",
    "LR.fit(x_train, y_train)\n",
    "predLR = LR.predict(x_test)\n",
    "\n",
    "print(\"Accuracy of this model \", accuracy_score(y_test, predLR)*100)\n",
    "\n",
    "print(confusion_matrix(y_test, predLR))\n",
    "\n",
    "print(classification_report(y_test, predLR))"
   ]
  },
  {
   "cell_type": "markdown",
   "id": "eb40565c",
   "metadata": {},
   "source": [
    "## SVC"
   ]
  },
  {
   "cell_type": "code",
   "execution_count": 71,
   "id": "0b456c7a",
   "metadata": {},
   "outputs": [
    {
     "name": "stdout",
     "output_type": "stream",
     "text": [
      "Accuracy of this model  98.76543209876543\n",
      "[[40  0]\n",
      " [ 1 40]]\n",
      "              precision    recall  f1-score   support\n",
      "\n",
      "         0.0       0.98      1.00      0.99        40\n",
      "         1.0       1.00      0.98      0.99        41\n",
      "\n",
      "    accuracy                           0.99        81\n",
      "   macro avg       0.99      0.99      0.99        81\n",
      "weighted avg       0.99      0.99      0.99        81\n",
      "\n"
     ]
    }
   ],
   "source": [
    "# Checking accuracy for SVC\n",
    "SV = SVC()\n",
    "SV.fit(x_train, y_train)\n",
    "predSV = SV.predict(x_test)\n",
    "\n",
    "print(\"Accuracy of this model \", accuracy_score(y_test, predSV)*100)\n",
    "\n",
    "print(confusion_matrix(y_test, predSV))\n",
    "\n",
    "print(classification_report(y_test, predSV))"
   ]
  },
  {
   "cell_type": "code",
   "execution_count": 72,
   "id": "5be2a8c7",
   "metadata": {},
   "outputs": [
    {
     "name": "stdout",
     "output_type": "stream",
     "text": [
      "[0.98148148 0.94444444 1.         0.88888889 1.        ]\n",
      "0.962962962962963\n"
     ]
    },
    {
     "data": {
      "text/plain": [
       "0.03703703703703698"
      ]
     },
     "execution_count": 72,
     "metadata": {},
     "output_type": "execute_result"
    }
   ],
   "source": [
    "# Cross_val_score this will check the performance of model.\n",
    "score = cross_val_score(RFC, x1, y1)\n",
    "print(score)\n",
    "print(score.mean())\n",
    "\n",
    "# cross validation\n",
    "accuracy_score(y_test, predRFC) - score.mean()"
   ]
  },
  {
   "cell_type": "code",
   "execution_count": 73,
   "id": "cc26153b",
   "metadata": {},
   "outputs": [
    {
     "name": "stdout",
     "output_type": "stream",
     "text": [
      "[0.98148148 0.96296296 1.         0.88888889 1.        ]\n",
      "0.9666666666666668\n"
     ]
    },
    {
     "data": {
      "text/plain": [
       "0.008641975308641858"
      ]
     },
     "execution_count": 73,
     "metadata": {},
     "output_type": "execute_result"
    }
   ],
   "source": [
    "# Cross_val_score this will check the performance of model.\n",
    "score = cross_val_score(ET, x1, y1)\n",
    "print(score)\n",
    "print(score.mean())\n",
    "\n",
    "# cross validation\n",
    "accuracy_score(y_test, predET) - score.mean()"
   ]
  },
  {
   "cell_type": "code",
   "execution_count": 74,
   "id": "2f8dd5e3",
   "metadata": {},
   "outputs": [
    {
     "name": "stdout",
     "output_type": "stream",
     "text": [
      "[0.98148148 0.96296296 1.         0.85185185 1.        ]\n",
      "0.9592592592592594\n"
     ]
    },
    {
     "data": {
      "text/plain": [
       "0.04074074074074063"
      ]
     },
     "execution_count": 74,
     "metadata": {},
     "output_type": "execute_result"
    }
   ],
   "source": [
    "# Cross_val_score this will check the performance of model.\n",
    "score = cross_val_score(GBC, x1, y1)\n",
    "print(score)\n",
    "print(score.mean())\n",
    "\n",
    "# cross validation\n",
    "accuracy_score(y_test, predGBC) - score.mean()"
   ]
  },
  {
   "cell_type": "code",
   "execution_count": 75,
   "id": "22be9ddf",
   "metadata": {},
   "outputs": [
    {
     "name": "stdout",
     "output_type": "stream",
     "text": [
      "[0.98148148 0.96296296 0.98148148 0.87037037 1.        ]\n",
      "0.9592592592592591\n"
     ]
    },
    {
     "data": {
      "text/plain": [
       "0.040740740740740855"
      ]
     },
     "execution_count": 75,
     "metadata": {},
     "output_type": "execute_result"
    }
   ],
   "source": [
    "# Cross_val_score this will check the performance of model.\n",
    "score = cross_val_score(BC, x1, y1)\n",
    "print(score)\n",
    "print(score.mean())\n",
    "\n",
    "# cross validation\n",
    "accuracy_score(y_test, predBC) - score.mean()"
   ]
  },
  {
   "cell_type": "code",
   "execution_count": 76,
   "id": "d2ee8e6a",
   "metadata": {},
   "outputs": [
    {
     "name": "stdout",
     "output_type": "stream",
     "text": [
      "[0.98148148 0.96296296 0.98148148 0.88888889 1.        ]\n",
      "0.962962962962963\n"
     ]
    },
    {
     "data": {
      "text/plain": [
       "0.024691358024691246"
      ]
     },
     "execution_count": 76,
     "metadata": {},
     "output_type": "execute_result"
    }
   ],
   "source": [
    "# Cross_val_score this will check the performance of model.\n",
    "score = cross_val_score(LR, x1, y1)\n",
    "print(score)\n",
    "print(score.mean())\n",
    "\n",
    "# cross validation\n",
    "accuracy_score(y_test, predLR) - score.mean()"
   ]
  },
  {
   "cell_type": "code",
   "execution_count": 77,
   "id": "36b64ed1",
   "metadata": {},
   "outputs": [
    {
     "name": "stdout",
     "output_type": "stream",
     "text": [
      "[0.98148148 0.94444444 1.         0.88888889 1.        ]\n",
      "0.962962962962963\n"
     ]
    },
    {
     "data": {
      "text/plain": [
       "0.024691358024691246"
      ]
     },
     "execution_count": 77,
     "metadata": {},
     "output_type": "execute_result"
    }
   ],
   "source": [
    "# Cross_val_score this will check the performance of model.\n",
    "score = cross_val_score(SV, x1, y1)\n",
    "print(score)\n",
    "print(score.mean())\n",
    "\n",
    "# cross validation\n",
    "accuracy_score(y_test, predSV) - score.mean()"
   ]
  },
  {
   "cell_type": "code",
   "execution_count": 78,
   "id": "57467d2d",
   "metadata": {},
   "outputs": [],
   "source": [
    "# As you can see our best model is BaggingClassifier, Gradient Boosting Classifier, and Random Forest Classifier is the best."
   ]
  },
  {
   "cell_type": "code",
   "execution_count": 81,
   "id": "0110a55a",
   "metadata": {},
   "outputs": [
    {
     "data": {
      "text/html": [
       "<style>#sk-container-id-1 {color: black;background-color: white;}#sk-container-id-1 pre{padding: 0;}#sk-container-id-1 div.sk-toggleable {background-color: white;}#sk-container-id-1 label.sk-toggleable__label {cursor: pointer;display: block;width: 100%;margin-bottom: 0;padding: 0.3em;box-sizing: border-box;text-align: center;}#sk-container-id-1 label.sk-toggleable__label-arrow:before {content: \"▸\";float: left;margin-right: 0.25em;color: #696969;}#sk-container-id-1 label.sk-toggleable__label-arrow:hover:before {color: black;}#sk-container-id-1 div.sk-estimator:hover label.sk-toggleable__label-arrow:before {color: black;}#sk-container-id-1 div.sk-toggleable__content {max-height: 0;max-width: 0;overflow: hidden;text-align: left;background-color: #f0f8ff;}#sk-container-id-1 div.sk-toggleable__content pre {margin: 0.2em;color: black;border-radius: 0.25em;background-color: #f0f8ff;}#sk-container-id-1 input.sk-toggleable__control:checked~div.sk-toggleable__content {max-height: 200px;max-width: 100%;overflow: auto;}#sk-container-id-1 input.sk-toggleable__control:checked~label.sk-toggleable__label-arrow:before {content: \"▾\";}#sk-container-id-1 div.sk-estimator input.sk-toggleable__control:checked~label.sk-toggleable__label {background-color: #d4ebff;}#sk-container-id-1 div.sk-label input.sk-toggleable__control:checked~label.sk-toggleable__label {background-color: #d4ebff;}#sk-container-id-1 input.sk-hidden--visually {border: 0;clip: rect(1px 1px 1px 1px);clip: rect(1px, 1px, 1px, 1px);height: 1px;margin: -1px;overflow: hidden;padding: 0;position: absolute;width: 1px;}#sk-container-id-1 div.sk-estimator {font-family: monospace;background-color: #f0f8ff;border: 1px dotted black;border-radius: 0.25em;box-sizing: border-box;margin-bottom: 0.5em;}#sk-container-id-1 div.sk-estimator:hover {background-color: #d4ebff;}#sk-container-id-1 div.sk-parallel-item::after {content: \"\";width: 100%;border-bottom: 1px solid gray;flex-grow: 1;}#sk-container-id-1 div.sk-label:hover label.sk-toggleable__label {background-color: #d4ebff;}#sk-container-id-1 div.sk-serial::before {content: \"\";position: absolute;border-left: 1px solid gray;box-sizing: border-box;top: 0;bottom: 0;left: 50%;z-index: 0;}#sk-container-id-1 div.sk-serial {display: flex;flex-direction: column;align-items: center;background-color: white;padding-right: 0.2em;padding-left: 0.2em;position: relative;}#sk-container-id-1 div.sk-item {position: relative;z-index: 1;}#sk-container-id-1 div.sk-parallel {display: flex;align-items: stretch;justify-content: center;background-color: white;position: relative;}#sk-container-id-1 div.sk-item::before, #sk-container-id-1 div.sk-parallel-item::before {content: \"\";position: absolute;border-left: 1px solid gray;box-sizing: border-box;top: 0;bottom: 0;left: 50%;z-index: -1;}#sk-container-id-1 div.sk-parallel-item {display: flex;flex-direction: column;z-index: 1;position: relative;background-color: white;}#sk-container-id-1 div.sk-parallel-item:first-child::after {align-self: flex-end;width: 50%;}#sk-container-id-1 div.sk-parallel-item:last-child::after {align-self: flex-start;width: 50%;}#sk-container-id-1 div.sk-parallel-item:only-child::after {width: 0;}#sk-container-id-1 div.sk-dashed-wrapped {border: 1px dashed gray;margin: 0 0.4em 0.5em 0.4em;box-sizing: border-box;padding-bottom: 0.4em;background-color: white;}#sk-container-id-1 div.sk-label label {font-family: monospace;font-weight: bold;display: inline-block;line-height: 1.2em;}#sk-container-id-1 div.sk-label-container {text-align: center;}#sk-container-id-1 div.sk-container {/* jupyter's `normalize.less` sets `[hidden] { display: none; }` but bootstrap.min.css set `[hidden] { display: none !important; }` so we also need the `!important` here to be able to override the default hidden behavior on the sphinx rendered scikit-learn.org. See: https://github.com/scikit-learn/scikit-learn/issues/21755 */display: inline-block !important;position: relative;}#sk-container-id-1 div.sk-text-repr-fallback {display: none;}</style><div id=\"sk-container-id-1\" class=\"sk-top-container\"><div class=\"sk-text-repr-fallback\"><pre>GridSearchCV(cv=5, estimator=RandomForestClassifier(),\n",
       "             param_grid={&#x27;criterion&#x27;: [&#x27;gini&#x27;, &#x27;entropy&#x27;],\n",
       "                         &#x27;max_depth&#x27;: [0, 10, 20],\n",
       "                         &#x27;n_estimators&#x27;: [50, 100, 200, 300],\n",
       "                         &#x27;n_jobs&#x27;: [-2, -1, 1],\n",
       "                         &#x27;random_state&#x27;: [10, 50, 1000]})</pre><b>In a Jupyter environment, please rerun this cell to show the HTML representation or trust the notebook. <br />On GitHub, the HTML representation is unable to render, please try loading this page with nbviewer.org.</b></div><div class=\"sk-container\" hidden><div class=\"sk-item sk-dashed-wrapped\"><div class=\"sk-label-container\"><div class=\"sk-label sk-toggleable\"><input class=\"sk-toggleable__control sk-hidden--visually\" id=\"sk-estimator-id-1\" type=\"checkbox\" ><label for=\"sk-estimator-id-1\" class=\"sk-toggleable__label sk-toggleable__label-arrow\">GridSearchCV</label><div class=\"sk-toggleable__content\"><pre>GridSearchCV(cv=5, estimator=RandomForestClassifier(),\n",
       "             param_grid={&#x27;criterion&#x27;: [&#x27;gini&#x27;, &#x27;entropy&#x27;],\n",
       "                         &#x27;max_depth&#x27;: [0, 10, 20],\n",
       "                         &#x27;n_estimators&#x27;: [50, 100, 200, 300],\n",
       "                         &#x27;n_jobs&#x27;: [-2, -1, 1],\n",
       "                         &#x27;random_state&#x27;: [10, 50, 1000]})</pre></div></div></div><div class=\"sk-parallel\"><div class=\"sk-parallel-item\"><div class=\"sk-item\"><div class=\"sk-label-container\"><div class=\"sk-label sk-toggleable\"><input class=\"sk-toggleable__control sk-hidden--visually\" id=\"sk-estimator-id-2\" type=\"checkbox\" ><label for=\"sk-estimator-id-2\" class=\"sk-toggleable__label sk-toggleable__label-arrow\">estimator: RandomForestClassifier</label><div class=\"sk-toggleable__content\"><pre>RandomForestClassifier()</pre></div></div></div><div class=\"sk-serial\"><div class=\"sk-item\"><div class=\"sk-estimator sk-toggleable\"><input class=\"sk-toggleable__control sk-hidden--visually\" id=\"sk-estimator-id-3\" type=\"checkbox\" ><label for=\"sk-estimator-id-3\" class=\"sk-toggleable__label sk-toggleable__label-arrow\">RandomForestClassifier</label><div class=\"sk-toggleable__content\"><pre>RandomForestClassifier()</pre></div></div></div></div></div></div></div></div></div></div>"
      ],
      "text/plain": [
       "GridSearchCV(cv=5, estimator=RandomForestClassifier(),\n",
       "             param_grid={'criterion': ['gini', 'entropy'],\n",
       "                         'max_depth': [0, 10, 20],\n",
       "                         'n_estimators': [50, 100, 200, 300],\n",
       "                         'n_jobs': [-2, -1, 1],\n",
       "                         'random_state': [10, 50, 1000]})"
      ]
     },
     "execution_count": 81,
     "metadata": {},
     "output_type": "execute_result"
    }
   ],
   "source": [
    "# Hyper Parameter Turning\n",
    "# Extree Classifier\n",
    "from sklearn.model_selection import GridSearchCV\n",
    "parameter = {\n",
    "    'criterion' : ['gini', 'entropy'],\n",
    "    'random_state' : [10, 50, 1000],\n",
    "    'max_depth' : [0, 10, 20],\n",
    "    'n_jobs' : [-2, -1, 1],\n",
    "    'n_estimators' : [50, 100, 200, 300]\n",
    "}\n",
    "GCV = GridSearchCV(RandomForestClassifier(), parameter, cv=5)\n",
    "GCV.fit(x_train, y_train)"
   ]
  },
  {
   "cell_type": "code",
   "execution_count": 82,
   "id": "7564ad5e",
   "metadata": {},
   "outputs": [
    {
     "data": {
      "text/plain": [
       "1.0"
      ]
     },
     "execution_count": 82,
     "metadata": {},
     "output_type": "execute_result"
    }
   ],
   "source": [
    "Final_model = RandomForestClassifier(criterion='entropy', max_depth=10, n_estimators= 100, n_jobs=-2, random_state=50)\n",
    "Final_model.fit(x_train, y_train)\n",
    "pred = Final_model.predict(x_test)\n",
    "acc = accuracy_score(y_test, pred)\n",
    "acc"
   ]
  },
  {
   "cell_type": "markdown",
   "id": "0b7abc4e",
   "metadata": {},
   "source": [
    "## AUC and ROC"
   ]
  },
  {
   "cell_type": "code",
   "execution_count": 84,
   "id": "aafbfa2c",
   "metadata": {},
   "outputs": [
    {
     "data": {
      "text/plain": [
       "<sklearn.metrics._plot.roc_curve.RocCurveDisplay at 0x2bd82050250>"
      ]
     },
     "execution_count": 84,
     "metadata": {},
     "output_type": "execute_result"
    },
    {
     "data": {
      "image/png": "[encoded data removed]",
      "text/plain": [
       "<Figure size 640x480 with 1 Axes>"
      ]
     },
     "metadata": {},
     "output_type": "display_data"
    }
   ],
   "source": [
    "from sklearn import metrics\n",
    "fpr, tpr, thresholds = metrics.roc_curve(y_test, pred)\n",
    "roc_auc = metrics.auc(fpr, tpr)\n",
    "display = metrics.RocCurveDisplay(fpr=fpr, tpr=tpr, roc_auc=roc_auc, estimator_name=Final_model)\n",
    "display.plot()"
   ]
  },
  {
   "cell_type": "code",
   "execution_count": 86,
   "id": "552d1e54",
   "metadata": {},
   "outputs": [
    {
     "data": {
      "text/plain": [
       "['type_of_glass.pkl']"
      ]
     },
     "execution_count": 86,
     "metadata": {},
     "output_type": "execute_result"
    }
   ],
   "source": [
    "# Saving the model using .pkl\n",
    "import joblib\n",
    "joblib.dump(Final_model, 'type_of_glass.pkl')"
   ]
  },
  {
   "cell_type": "code",
   "execution_count": 87,
   "id": "07cf6610",
   "metadata": {},
   "outputs": [],
   "source": [
    "# Predicting the saved model\n",
    "model = joblib.load('type_of_glass.pkl')\n",
    "prediction = model.predict(x_test)"
   ]
  },
  {
   "cell_type": "code",
   "execution_count": 88,
   "id": "800b2fed",
   "metadata": {},
   "outputs": [
    {
     "data": {
      "text/html": [
       "<div>\n",
       "<style scoped>\n",
       "    .dataframe tbody tr th:only-of-type {\n",
       "        vertical-align: middle;\n",
       "    }\n",
       "\n",
       "    .dataframe tbody tr th {\n",
       "        vertical-align: top;\n",
       "    }\n",
       "\n",
       "    .dataframe thead th {\n",
       "        text-align: right;\n",
       "    }\n",
       "</style>\n",
       "<table border=\"1\" class=\"dataframe\">\n",
       "  <thead>\n",
       "    <tr style=\"text-align: right;\">\n",
       "      <th></th>\n",
       "      <th>Predict</th>\n",
       "      <th>Original</th>\n",
       "    </tr>\n",
       "  </thead>\n",
       "  <tbody>\n",
       "    <tr>\n",
       "      <th>0</th>\n",
       "      <td>1.0</td>\n",
       "      <td>1.0</td>\n",
       "    </tr>\n",
       "    <tr>\n",
       "      <th>1</th>\n",
       "      <td>0.0</td>\n",
       "      <td>0.0</td>\n",
       "    </tr>\n",
       "    <tr>\n",
       "      <th>2</th>\n",
       "      <td>1.0</td>\n",
       "      <td>1.0</td>\n",
       "    </tr>\n",
       "    <tr>\n",
       "      <th>3</th>\n",
       "      <td>0.0</td>\n",
       "      <td>0.0</td>\n",
       "    </tr>\n",
       "    <tr>\n",
       "      <th>4</th>\n",
       "      <td>0.0</td>\n",
       "      <td>0.0</td>\n",
       "    </tr>\n",
       "    <tr>\n",
       "      <th>...</th>\n",
       "      <td>...</td>\n",
       "      <td>...</td>\n",
       "    </tr>\n",
       "    <tr>\n",
       "      <th>76</th>\n",
       "      <td>1.0</td>\n",
       "      <td>1.0</td>\n",
       "    </tr>\n",
       "    <tr>\n",
       "      <th>77</th>\n",
       "      <td>0.0</td>\n",
       "      <td>0.0</td>\n",
       "    </tr>\n",
       "    <tr>\n",
       "      <th>78</th>\n",
       "      <td>0.0</td>\n",
       "      <td>0.0</td>\n",
       "    </tr>\n",
       "    <tr>\n",
       "      <th>79</th>\n",
       "      <td>0.0</td>\n",
       "      <td>0.0</td>\n",
       "    </tr>\n",
       "    <tr>\n",
       "      <th>80</th>\n",
       "      <td>0.0</td>\n",
       "      <td>0.0</td>\n",
       "    </tr>\n",
       "  </tbody>\n",
       "</table>\n",
       "<p>81 rows × 2 columns</p>\n",
       "</div>"
      ],
      "text/plain": [
       "    Predict  Original\n",
       "0       1.0       1.0\n",
       "1       0.0       0.0\n",
       "2       1.0       1.0\n",
       "3       0.0       0.0\n",
       "4       0.0       0.0\n",
       "..      ...       ...\n",
       "76      1.0       1.0\n",
       "77      0.0       0.0\n",
       "78      0.0       0.0\n",
       "79      0.0       0.0\n",
       "80      0.0       0.0\n",
       "\n",
       "[81 rows x 2 columns]"
      ]
     },
     "execution_count": 88,
     "metadata": {},
     "output_type": "execute_result"
    }
   ],
   "source": [
    "# Confirming\n",
    "a = np.array(y_test)\n",
    "df = pd.DataFrame()\n",
    "df['Predict'] = prediction\n",
    "df['Original'] = a\n",
    "df"
   ]
  },
  {
   "cell_type": "code",
   "execution_count": null,
   "id": "d1b0a802",
   "metadata": {},
   "outputs": [],
   "source": []
  }
 ],
 "metadata": {
  "kernelspec": {
   "display_name": "Python 3 (ipykernel)",
   "language": "python",
   "name": "python3"
  },
  "language_info": {
   "codemirror_mode": {
    "name": "ipython",
    "version": 3
   },
   "file_extension": ".py",
   "mimetype": "text/x-python",
   "name": "python",
   "nbconvert_exporter": "python",
   "pygments_lexer": "ipython3",
   "version": "3.10.9"
  }
 },
 "nbformat": 4,
 "nbformat_minor": 5
}
