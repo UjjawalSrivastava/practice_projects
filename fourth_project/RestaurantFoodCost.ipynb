{
 "cells": [
  {
   "cell_type": "code",
   "execution_count": 1,
   "id": "d97b6332",
   "metadata": {},
   "outputs": [
    {
     "name": "stderr",
     "output_type": "stream",
     "text": [
      "C:\\Users\\us953\\anaconda3\\lib\\site-packages\\pandas\\core\\arrays\\masked.py:60: UserWarning: Pandas requires version '1.3.6' or newer of 'bottleneck' (version '1.3.5' currently installed).\n",
      "  from pandas.core import (\n"
     ]
    }
   ],
   "source": [
    "# Import Neccessary Lib\n",
    "import pandas as pd\n",
    "import numpy as np\n",
    "import seaborn as sns\n",
    "import matplotlib.pyplot as plt\n",
    "import warnings\n",
    "warnings.filterwarnings(\"ignore\")"
   ]
  },
  {
   "cell_type": "code",
   "execution_count": 2,
   "id": "0a9e0816",
   "metadata": {},
   "outputs": [],
   "source": [
    "# reading test csv file.\n",
    "test_df = pd.read_csv('Data_Test.csv')\n",
    "final_predicted_data = test_df.copy()"
   ]
  },
  {
   "cell_type": "code",
   "execution_count": 3,
   "id": "cc2dab2d",
   "metadata": {},
   "outputs": [
    {
     "data": {
      "text/html": [
       "<div>\n",
       "<style scoped>\n",
       "    .dataframe tbody tr th:only-of-type {\n",
       "        vertical-align: middle;\n",
       "    }\n",
       "\n",
       "    .dataframe tbody tr th {\n",
       "        vertical-align: top;\n",
       "    }\n",
       "\n",
       "    .dataframe thead th {\n",
       "        text-align: right;\n",
       "    }\n",
       "</style>\n",
       "<table border=\"1\" class=\"dataframe\">\n",
       "  <thead>\n",
       "    <tr style=\"text-align: right;\">\n",
       "      <th></th>\n",
       "      <th>TITLE</th>\n",
       "      <th>RESTAURANT_ID</th>\n",
       "      <th>CUISINES</th>\n",
       "      <th>TIME</th>\n",
       "      <th>CITY</th>\n",
       "      <th>LOCALITY</th>\n",
       "      <th>RATING</th>\n",
       "      <th>VOTES</th>\n",
       "      <th>COST</th>\n",
       "    </tr>\n",
       "  </thead>\n",
       "  <tbody>\n",
       "    <tr>\n",
       "      <th>0</th>\n",
       "      <td>CASUAL DINING</td>\n",
       "      <td>9438</td>\n",
       "      <td>Malwani, Goan, North Indian</td>\n",
       "      <td>11am – 4pm, 7:30pm – 11:30pm (Mon-Sun)</td>\n",
       "      <td>Thane</td>\n",
       "      <td>Dombivali East</td>\n",
       "      <td>3.6</td>\n",
       "      <td>49 votes</td>\n",
       "      <td>1200</td>\n",
       "    </tr>\n",
       "    <tr>\n",
       "      <th>1</th>\n",
       "      <td>CASUAL DINING,BAR</td>\n",
       "      <td>13198</td>\n",
       "      <td>Asian, Modern Indian, Japanese</td>\n",
       "      <td>6pm – 11pm (Mon-Sun)</td>\n",
       "      <td>Chennai</td>\n",
       "      <td>Ramapuram</td>\n",
       "      <td>4.2</td>\n",
       "      <td>30 votes</td>\n",
       "      <td>1500</td>\n",
       "    </tr>\n",
       "    <tr>\n",
       "      <th>2</th>\n",
       "      <td>CASUAL DINING</td>\n",
       "      <td>10915</td>\n",
       "      <td>North Indian, Chinese, Biryani, Hyderabadi</td>\n",
       "      <td>11am – 3:30pm, 7pm – 11pm (Mon-Sun)</td>\n",
       "      <td>Chennai</td>\n",
       "      <td>Saligramam</td>\n",
       "      <td>3.8</td>\n",
       "      <td>221 votes</td>\n",
       "      <td>800</td>\n",
       "    </tr>\n",
       "    <tr>\n",
       "      <th>3</th>\n",
       "      <td>QUICK BITES</td>\n",
       "      <td>6346</td>\n",
       "      <td>Tibetan, Chinese</td>\n",
       "      <td>11:30am – 1am (Mon-Sun)</td>\n",
       "      <td>Mumbai</td>\n",
       "      <td>Bandra West</td>\n",
       "      <td>4.1</td>\n",
       "      <td>24 votes</td>\n",
       "      <td>800</td>\n",
       "    </tr>\n",
       "    <tr>\n",
       "      <th>4</th>\n",
       "      <td>DESSERT PARLOR</td>\n",
       "      <td>15387</td>\n",
       "      <td>Desserts</td>\n",
       "      <td>11am – 1am (Mon-Sun)</td>\n",
       "      <td>Mumbai</td>\n",
       "      <td>Lower Parel</td>\n",
       "      <td>3.8</td>\n",
       "      <td>165 votes</td>\n",
       "      <td>300</td>\n",
       "    </tr>\n",
       "    <tr>\n",
       "      <th>...</th>\n",
       "      <td>...</td>\n",
       "      <td>...</td>\n",
       "      <td>...</td>\n",
       "      <td>...</td>\n",
       "      <td>...</td>\n",
       "      <td>...</td>\n",
       "      <td>...</td>\n",
       "      <td>...</td>\n",
       "      <td>...</td>\n",
       "    </tr>\n",
       "    <tr>\n",
       "      <th>12685</th>\n",
       "      <td>QUICK BITES</td>\n",
       "      <td>13228</td>\n",
       "      <td>North Indian, Burger, Kebab</td>\n",
       "      <td>12noon – 12midnight (Mon, Tue, Wed, Thu, Sun)...</td>\n",
       "      <td>Hyderabad</td>\n",
       "      <td>Gachibowli</td>\n",
       "      <td>3.8</td>\n",
       "      <td>546 votes</td>\n",
       "      <td>500</td>\n",
       "    </tr>\n",
       "    <tr>\n",
       "      <th>12686</th>\n",
       "      <td>CASUAL DINING,BAR</td>\n",
       "      <td>9686</td>\n",
       "      <td>Goan, Continental</td>\n",
       "      <td>12noon – 1am (Mon-Fri),11am – 5pm, 7pm – 1am...</td>\n",
       "      <td>Mumbai</td>\n",
       "      <td>Bandra Kurla Complex</td>\n",
       "      <td>4.3</td>\n",
       "      <td>1214 votes</td>\n",
       "      <td>1800</td>\n",
       "    </tr>\n",
       "    <tr>\n",
       "      <th>12687</th>\n",
       "      <td>LOUNGE</td>\n",
       "      <td>11133</td>\n",
       "      <td>Finger Food, Continental, Asian, Chinese</td>\n",
       "      <td>12noon – 12:30AM (Mon-Sun)</td>\n",
       "      <td>Navi Mumbai</td>\n",
       "      <td>Vashi</td>\n",
       "      <td>4.0</td>\n",
       "      <td>608 votes</td>\n",
       "      <td>1300</td>\n",
       "    </tr>\n",
       "    <tr>\n",
       "      <th>12688</th>\n",
       "      <td>CASUAL DINING</td>\n",
       "      <td>6134</td>\n",
       "      <td>North Indian, South Indian, Chinese, Street Food</td>\n",
       "      <td>6am – 10:45pm (Mon-Sun)</td>\n",
       "      <td>Chennai</td>\n",
       "      <td>Maduravoyal</td>\n",
       "      <td>3.5</td>\n",
       "      <td>32 votes</td>\n",
       "      <td>400</td>\n",
       "    </tr>\n",
       "    <tr>\n",
       "      <th>12689</th>\n",
       "      <td>CASUAL DINING</td>\n",
       "      <td>6430</td>\n",
       "      <td>North Indian, Chinese</td>\n",
       "      <td>12:30pm – 11pm (Mon-Sun)</td>\n",
       "      <td>Hyderabad</td>\n",
       "      <td>Vanasthalipuram</td>\n",
       "      <td>3.4</td>\n",
       "      <td>677 votes</td>\n",
       "      <td>600</td>\n",
       "    </tr>\n",
       "  </tbody>\n",
       "</table>\n",
       "<p>12690 rows × 9 columns</p>\n",
       "</div>"
      ],
      "text/plain": [
       "                   TITLE  RESTAURANT_ID  \\\n",
       "0          CASUAL DINING           9438   \n",
       "1      CASUAL DINING,BAR          13198   \n",
       "2          CASUAL DINING          10915   \n",
       "3            QUICK BITES           6346   \n",
       "4         DESSERT PARLOR          15387   \n",
       "...                  ...            ...   \n",
       "12685        QUICK BITES          13228   \n",
       "12686  CASUAL DINING,BAR           9686   \n",
       "12687             LOUNGE          11133   \n",
       "12688      CASUAL DINING           6134   \n",
       "12689      CASUAL DINING           6430   \n",
       "\n",
       "                                               CUISINES  \\\n",
       "0                           Malwani, Goan, North Indian   \n",
       "1                        Asian, Modern Indian, Japanese   \n",
       "2            North Indian, Chinese, Biryani, Hyderabadi   \n",
       "3                                      Tibetan, Chinese   \n",
       "4                                              Desserts   \n",
       "...                                                 ...   \n",
       "12685                       North Indian, Burger, Kebab   \n",
       "12686                                 Goan, Continental   \n",
       "12687          Finger Food, Continental, Asian, Chinese   \n",
       "12688  North Indian, South Indian, Chinese, Street Food   \n",
       "12689                             North Indian, Chinese   \n",
       "\n",
       "                                                   TIME         CITY  \\\n",
       "0                11am – 4pm, 7:30pm – 11:30pm (Mon-Sun)        Thane   \n",
       "1                                  6pm – 11pm (Mon-Sun)      Chennai   \n",
       "2                   11am – 3:30pm, 7pm – 11pm (Mon-Sun)      Chennai   \n",
       "3                               11:30am – 1am (Mon-Sun)       Mumbai   \n",
       "4                                  11am – 1am (Mon-Sun)       Mumbai   \n",
       "...                                                 ...          ...   \n",
       "12685  12noon – 12midnight (Mon, Tue, Wed, Thu, Sun)...    Hyderabad   \n",
       "12686   12noon – 1am (Mon-Fri),11am – 5pm, 7pm – 1am...       Mumbai   \n",
       "12687                        12noon – 12:30AM (Mon-Sun)  Navi Mumbai   \n",
       "12688                           6am – 10:45pm (Mon-Sun)      Chennai   \n",
       "12689                          12:30pm – 11pm (Mon-Sun)    Hyderabad   \n",
       "\n",
       "                   LOCALITY RATING       VOTES  COST  \n",
       "0            Dombivali East    3.6    49 votes  1200  \n",
       "1                 Ramapuram    4.2    30 votes  1500  \n",
       "2                Saligramam    3.8   221 votes   800  \n",
       "3               Bandra West    4.1    24 votes   800  \n",
       "4               Lower Parel    3.8   165 votes   300  \n",
       "...                     ...    ...         ...   ...  \n",
       "12685            Gachibowli    3.8   546 votes   500  \n",
       "12686  Bandra Kurla Complex    4.3  1214 votes  1800  \n",
       "12687                 Vashi    4.0   608 votes  1300  \n",
       "12688           Maduravoyal    3.5    32 votes   400  \n",
       "12689       Vanasthalipuram    3.4   677 votes   600  \n",
       "\n",
       "[12690 rows x 9 columns]"
      ]
     },
     "execution_count": 3,
     "metadata": {},
     "output_type": "execute_result"
    }
   ],
   "source": [
    "# reading train csv file\n",
    "df = pd.read_csv('Data_Train.csv')\n",
    "df"
   ]
  },
  {
   "cell_type": "markdown",
   "id": "6f5aeb20",
   "metadata": {},
   "source": [
    "# Exploratory Data Analysis"
   ]
  },
  {
   "cell_type": "code",
   "execution_count": 4,
   "id": "9d6a4145",
   "metadata": {},
   "outputs": [
    {
     "data": {
      "text/plain": [
       "(12690, 9)"
      ]
     },
     "execution_count": 4,
     "metadata": {},
     "output_type": "execute_result"
    }
   ],
   "source": [
    "# getting size of data set.\n",
    "df.shape"
   ]
  },
  {
   "cell_type": "markdown",
   "id": "42910710",
   "metadata": {},
   "source": [
    "##### This dataset contains 12690 rows and 9 columns, out of which one column represents the target variable and the remaining eleven columns are independent variables."
   ]
  },
  {
   "cell_type": "code",
   "execution_count": 5,
   "id": "7ef95e44",
   "metadata": {},
   "outputs": [
    {
     "data": {
      "text/plain": [
       "Index(['TITLE', 'RESTAURANT_ID', 'CUISINES', 'TIME', 'CITY', 'LOCALITY',\n",
       "       'RATING', 'VOTES', 'COST'],\n",
       "      dtype='object')"
      ]
     },
     "execution_count": 5,
     "metadata": {},
     "output_type": "execute_result"
    }
   ],
   "source": [
    "# list of columns.\n",
    "df.columns"
   ]
  },
  {
   "cell_type": "code",
   "execution_count": 6,
   "id": "c1135544",
   "metadata": {},
   "outputs": [
    {
     "data": {
      "text/plain": [
       "25"
      ]
     },
     "execution_count": 6,
     "metadata": {},
     "output_type": "execute_result"
    }
   ],
   "source": [
    "#Investigating the entire dataset first\n",
    "df.duplicated().sum()"
   ]
  },
  {
   "cell_type": "code",
   "execution_count": 7,
   "id": "cf045151",
   "metadata": {},
   "outputs": [],
   "source": [
    "df= df.drop_duplicates()"
   ]
  },
  {
   "cell_type": "code",
   "execution_count": 8,
   "id": "7e874c85",
   "metadata": {},
   "outputs": [],
   "source": [
    "# dropping unused columns.\n",
    "df.drop(['RESTAURANT_ID'], axis=1, inplace=True)\n",
    "test_df.drop(['RESTAURANT_ID'], axis=1, inplace=True)"
   ]
  },
  {
   "cell_type": "code",
   "execution_count": 9,
   "id": "0b60d9f1",
   "metadata": {
    "scrolled": true
   },
   "outputs": [
    {
     "data": {
      "text/html": [
       "<div>\n",
       "<style scoped>\n",
       "    .dataframe tbody tr th:only-of-type {\n",
       "        vertical-align: middle;\n",
       "    }\n",
       "\n",
       "    .dataframe tbody tr th {\n",
       "        vertical-align: top;\n",
       "    }\n",
       "\n",
       "    .dataframe thead th {\n",
       "        text-align: right;\n",
       "    }\n",
       "</style>\n",
       "<table border=\"1\" class=\"dataframe\">\n",
       "  <thead>\n",
       "    <tr style=\"text-align: right;\">\n",
       "      <th></th>\n",
       "      <th>TITLE</th>\n",
       "      <th>CUISINES</th>\n",
       "      <th>TIME</th>\n",
       "      <th>CITY</th>\n",
       "      <th>LOCALITY</th>\n",
       "      <th>RATING</th>\n",
       "      <th>VOTES</th>\n",
       "      <th>COST</th>\n",
       "    </tr>\n",
       "  </thead>\n",
       "  <tbody>\n",
       "    <tr>\n",
       "      <th>0</th>\n",
       "      <td>CASUAL DINING</td>\n",
       "      <td>Malwani, Goan, North Indian</td>\n",
       "      <td>11am – 4pm, 7:30pm – 11:30pm (Mon-Sun)</td>\n",
       "      <td>Thane</td>\n",
       "      <td>Dombivali East</td>\n",
       "      <td>3.6</td>\n",
       "      <td>49 votes</td>\n",
       "      <td>1200</td>\n",
       "    </tr>\n",
       "    <tr>\n",
       "      <th>1</th>\n",
       "      <td>CASUAL DINING,BAR</td>\n",
       "      <td>Asian, Modern Indian, Japanese</td>\n",
       "      <td>6pm – 11pm (Mon-Sun)</td>\n",
       "      <td>Chennai</td>\n",
       "      <td>Ramapuram</td>\n",
       "      <td>4.2</td>\n",
       "      <td>30 votes</td>\n",
       "      <td>1500</td>\n",
       "    </tr>\n",
       "    <tr>\n",
       "      <th>2</th>\n",
       "      <td>CASUAL DINING</td>\n",
       "      <td>North Indian, Chinese, Biryani, Hyderabadi</td>\n",
       "      <td>11am – 3:30pm, 7pm – 11pm (Mon-Sun)</td>\n",
       "      <td>Chennai</td>\n",
       "      <td>Saligramam</td>\n",
       "      <td>3.8</td>\n",
       "      <td>221 votes</td>\n",
       "      <td>800</td>\n",
       "    </tr>\n",
       "    <tr>\n",
       "      <th>3</th>\n",
       "      <td>QUICK BITES</td>\n",
       "      <td>Tibetan, Chinese</td>\n",
       "      <td>11:30am – 1am (Mon-Sun)</td>\n",
       "      <td>Mumbai</td>\n",
       "      <td>Bandra West</td>\n",
       "      <td>4.1</td>\n",
       "      <td>24 votes</td>\n",
       "      <td>800</td>\n",
       "    </tr>\n",
       "    <tr>\n",
       "      <th>4</th>\n",
       "      <td>DESSERT PARLOR</td>\n",
       "      <td>Desserts</td>\n",
       "      <td>11am – 1am (Mon-Sun)</td>\n",
       "      <td>Mumbai</td>\n",
       "      <td>Lower Parel</td>\n",
       "      <td>3.8</td>\n",
       "      <td>165 votes</td>\n",
       "      <td>300</td>\n",
       "    </tr>\n",
       "    <tr>\n",
       "      <th>...</th>\n",
       "      <td>...</td>\n",
       "      <td>...</td>\n",
       "      <td>...</td>\n",
       "      <td>...</td>\n",
       "      <td>...</td>\n",
       "      <td>...</td>\n",
       "      <td>...</td>\n",
       "      <td>...</td>\n",
       "    </tr>\n",
       "    <tr>\n",
       "      <th>12685</th>\n",
       "      <td>QUICK BITES</td>\n",
       "      <td>North Indian, Burger, Kebab</td>\n",
       "      <td>12noon – 12midnight (Mon, Tue, Wed, Thu, Sun)...</td>\n",
       "      <td>Hyderabad</td>\n",
       "      <td>Gachibowli</td>\n",
       "      <td>3.8</td>\n",
       "      <td>546 votes</td>\n",
       "      <td>500</td>\n",
       "    </tr>\n",
       "    <tr>\n",
       "      <th>12686</th>\n",
       "      <td>CASUAL DINING,BAR</td>\n",
       "      <td>Goan, Continental</td>\n",
       "      <td>12noon – 1am (Mon-Fri),11am – 5pm, 7pm – 1am...</td>\n",
       "      <td>Mumbai</td>\n",
       "      <td>Bandra Kurla Complex</td>\n",
       "      <td>4.3</td>\n",
       "      <td>1214 votes</td>\n",
       "      <td>1800</td>\n",
       "    </tr>\n",
       "    <tr>\n",
       "      <th>12687</th>\n",
       "      <td>LOUNGE</td>\n",
       "      <td>Finger Food, Continental, Asian, Chinese</td>\n",
       "      <td>12noon – 12:30AM (Mon-Sun)</td>\n",
       "      <td>Navi Mumbai</td>\n",
       "      <td>Vashi</td>\n",
       "      <td>4.0</td>\n",
       "      <td>608 votes</td>\n",
       "      <td>1300</td>\n",
       "    </tr>\n",
       "    <tr>\n",
       "      <th>12688</th>\n",
       "      <td>CASUAL DINING</td>\n",
       "      <td>North Indian, South Indian, Chinese, Street Food</td>\n",
       "      <td>6am – 10:45pm (Mon-Sun)</td>\n",
       "      <td>Chennai</td>\n",
       "      <td>Maduravoyal</td>\n",
       "      <td>3.5</td>\n",
       "      <td>32 votes</td>\n",
       "      <td>400</td>\n",
       "    </tr>\n",
       "    <tr>\n",
       "      <th>12689</th>\n",
       "      <td>CASUAL DINING</td>\n",
       "      <td>North Indian, Chinese</td>\n",
       "      <td>12:30pm – 11pm (Mon-Sun)</td>\n",
       "      <td>Hyderabad</td>\n",
       "      <td>Vanasthalipuram</td>\n",
       "      <td>3.4</td>\n",
       "      <td>677 votes</td>\n",
       "      <td>600</td>\n",
       "    </tr>\n",
       "  </tbody>\n",
       "</table>\n",
       "<p>12665 rows × 8 columns</p>\n",
       "</div>"
      ],
      "text/plain": [
       "                   TITLE                                          CUISINES  \\\n",
       "0          CASUAL DINING                       Malwani, Goan, North Indian   \n",
       "1      CASUAL DINING,BAR                    Asian, Modern Indian, Japanese   \n",
       "2          CASUAL DINING        North Indian, Chinese, Biryani, Hyderabadi   \n",
       "3            QUICK BITES                                  Tibetan, Chinese   \n",
       "4         DESSERT PARLOR                                          Desserts   \n",
       "...                  ...                                               ...   \n",
       "12685        QUICK BITES                       North Indian, Burger, Kebab   \n",
       "12686  CASUAL DINING,BAR                                 Goan, Continental   \n",
       "12687             LOUNGE          Finger Food, Continental, Asian, Chinese   \n",
       "12688      CASUAL DINING  North Indian, South Indian, Chinese, Street Food   \n",
       "12689      CASUAL DINING                             North Indian, Chinese   \n",
       "\n",
       "                                                   TIME         CITY  \\\n",
       "0                11am – 4pm, 7:30pm – 11:30pm (Mon-Sun)        Thane   \n",
       "1                                  6pm – 11pm (Mon-Sun)      Chennai   \n",
       "2                   11am – 3:30pm, 7pm – 11pm (Mon-Sun)      Chennai   \n",
       "3                               11:30am – 1am (Mon-Sun)       Mumbai   \n",
       "4                                  11am – 1am (Mon-Sun)       Mumbai   \n",
       "...                                                 ...          ...   \n",
       "12685  12noon – 12midnight (Mon, Tue, Wed, Thu, Sun)...    Hyderabad   \n",
       "12686   12noon – 1am (Mon-Fri),11am – 5pm, 7pm – 1am...       Mumbai   \n",
       "12687                        12noon – 12:30AM (Mon-Sun)  Navi Mumbai   \n",
       "12688                           6am – 10:45pm (Mon-Sun)      Chennai   \n",
       "12689                          12:30pm – 11pm (Mon-Sun)    Hyderabad   \n",
       "\n",
       "                   LOCALITY RATING       VOTES  COST  \n",
       "0            Dombivali East    3.6    49 votes  1200  \n",
       "1                 Ramapuram    4.2    30 votes  1500  \n",
       "2                Saligramam    3.8   221 votes   800  \n",
       "3               Bandra West    4.1    24 votes   800  \n",
       "4               Lower Parel    3.8   165 votes   300  \n",
       "...                     ...    ...         ...   ...  \n",
       "12685            Gachibowli    3.8   546 votes   500  \n",
       "12686  Bandra Kurla Complex    4.3  1214 votes  1800  \n",
       "12687                 Vashi    4.0   608 votes  1300  \n",
       "12688           Maduravoyal    3.5    32 votes   400  \n",
       "12689       Vanasthalipuram    3.4   677 votes   600  \n",
       "\n",
       "[12665 rows x 8 columns]"
      ]
     },
     "execution_count": 9,
     "metadata": {},
     "output_type": "execute_result"
    }
   ],
   "source": [
    "df"
   ]
  },
  {
   "cell_type": "code",
   "execution_count": 10,
   "id": "39fcdd76",
   "metadata": {},
   "outputs": [
    {
     "data": {
      "text/html": [
       "<div>\n",
       "<style scoped>\n",
       "    .dataframe tbody tr th:only-of-type {\n",
       "        vertical-align: middle;\n",
       "    }\n",
       "\n",
       "    .dataframe tbody tr th {\n",
       "        vertical-align: top;\n",
       "    }\n",
       "\n",
       "    .dataframe thead th {\n",
       "        text-align: right;\n",
       "    }\n",
       "</style>\n",
       "<table border=\"1\" class=\"dataframe\">\n",
       "  <thead>\n",
       "    <tr style=\"text-align: right;\">\n",
       "      <th></th>\n",
       "      <th>TITLE</th>\n",
       "      <th>CUISINES</th>\n",
       "      <th>TIME</th>\n",
       "      <th>CITY</th>\n",
       "      <th>LOCALITY</th>\n",
       "      <th>RATING</th>\n",
       "      <th>VOTES</th>\n",
       "      <th>COST</th>\n",
       "    </tr>\n",
       "  </thead>\n",
       "  <tbody>\n",
       "    <tr>\n",
       "      <th>62</th>\n",
       "      <td>QUICK BITES</td>\n",
       "      <td>North Indian, Beverages</td>\n",
       "      <td>11am – 11pm (Mon-Sun)</td>\n",
       "      <td>Kochi</td>\n",
       "      <td>Kalamassery</td>\n",
       "      <td>NEW</td>\n",
       "      <td>NaN</td>\n",
       "      <td>200</td>\n",
       "    </tr>\n",
       "    <tr>\n",
       "      <th>69</th>\n",
       "      <td>NaN</td>\n",
       "      <td>Pizza, Fast Food</td>\n",
       "      <td>11am – 11pm (Mon-Sun)</td>\n",
       "      <td>New Delhi</td>\n",
       "      <td>Kalkaji</td>\n",
       "      <td>NEW</td>\n",
       "      <td>NaN</td>\n",
       "      <td>200</td>\n",
       "    </tr>\n",
       "    <tr>\n",
       "      <th>111</th>\n",
       "      <td>CASUAL DINING</td>\n",
       "      <td>Gujarati, Rajasthani, North Indian</td>\n",
       "      <td>11:30am – 3:30pm, 7pm – 11pm (Mon-Sun)</td>\n",
       "      <td>Mumbai</td>\n",
       "      <td>Borivali West</td>\n",
       "      <td>NEW</td>\n",
       "      <td>NaN</td>\n",
       "      <td>800</td>\n",
       "    </tr>\n",
       "    <tr>\n",
       "      <th>117</th>\n",
       "      <td>QUICK BITES</td>\n",
       "      <td>North Indian, Chinese</td>\n",
       "      <td>11am – 11pm (Mon-Sun)</td>\n",
       "      <td>New Delhi</td>\n",
       "      <td>Dwarka</td>\n",
       "      <td>NEW</td>\n",
       "      <td>NaN</td>\n",
       "      <td>500</td>\n",
       "    </tr>\n",
       "    <tr>\n",
       "      <th>120</th>\n",
       "      <td>QUICK BITES</td>\n",
       "      <td>North Indian, South Indian</td>\n",
       "      <td>7:30am – 9:30pm (Mon-Sat),Closed (Sun)</td>\n",
       "      <td>Bangalore-560066</td>\n",
       "      <td>Whitefield</td>\n",
       "      <td>NEW</td>\n",
       "      <td>NaN</td>\n",
       "      <td>150</td>\n",
       "    </tr>\n",
       "    <tr>\n",
       "      <th>...</th>\n",
       "      <td>...</td>\n",
       "      <td>...</td>\n",
       "      <td>...</td>\n",
       "      <td>...</td>\n",
       "      <td>...</td>\n",
       "      <td>...</td>\n",
       "      <td>...</td>\n",
       "      <td>...</td>\n",
       "    </tr>\n",
       "    <tr>\n",
       "      <th>12602</th>\n",
       "      <td>QUICK BITES</td>\n",
       "      <td>Rolls, North Indian, Biryani</td>\n",
       "      <td>12noon – 12midnight (Mon-Sun)</td>\n",
       "      <td>Mumbai</td>\n",
       "      <td>Mahakali</td>\n",
       "      <td>NEW</td>\n",
       "      <td>NaN</td>\n",
       "      <td>200</td>\n",
       "    </tr>\n",
       "    <tr>\n",
       "      <th>12613</th>\n",
       "      <td>CASUAL DINING</td>\n",
       "      <td>Asian, Thai, Sushi, Healthy Food</td>\n",
       "      <td>12noon – 11pm (Mon-Sun)</td>\n",
       "      <td>Gurgaon</td>\n",
       "      <td>DLF Phase 4</td>\n",
       "      <td>NEW</td>\n",
       "      <td>NaN</td>\n",
       "      <td>950</td>\n",
       "    </tr>\n",
       "    <tr>\n",
       "      <th>12630</th>\n",
       "      <td>CASUAL DINING</td>\n",
       "      <td>Tex-Mex, Italian, Coffee</td>\n",
       "      <td>8am – 10:30pm (Mon-Sun)</td>\n",
       "      <td>Gurgaon</td>\n",
       "      <td>Golf Course Road</td>\n",
       "      <td>NEW</td>\n",
       "      <td>NaN</td>\n",
       "      <td>1200</td>\n",
       "    </tr>\n",
       "    <tr>\n",
       "      <th>12658</th>\n",
       "      <td>NaN</td>\n",
       "      <td>Kerala, South Indian</td>\n",
       "      <td>11am – 5pm (Mon-Sun)</td>\n",
       "      <td>Kochi</td>\n",
       "      <td>Chittoor Road</td>\n",
       "      <td>NEW</td>\n",
       "      <td>NaN</td>\n",
       "      <td>400</td>\n",
       "    </tr>\n",
       "    <tr>\n",
       "      <th>12660</th>\n",
       "      <td>CASUAL DINING,BAR</td>\n",
       "      <td>North Indian, Continental, Chinese, Beverages</td>\n",
       "      <td>5pm – 1:30am (Mon-Sun)</td>\n",
       "      <td>Mumbai</td>\n",
       "      <td>Bandra West</td>\n",
       "      <td>NEW</td>\n",
       "      <td>NaN</td>\n",
       "      <td>1200</td>\n",
       "    </tr>\n",
       "  </tbody>\n",
       "</table>\n",
       "<p>704 rows × 8 columns</p>\n",
       "</div>"
      ],
      "text/plain": [
       "                   TITLE                                       CUISINES  \\\n",
       "62           QUICK BITES                        North Indian, Beverages   \n",
       "69                   NaN                               Pizza, Fast Food   \n",
       "111        CASUAL DINING             Gujarati, Rajasthani, North Indian   \n",
       "117          QUICK BITES                          North Indian, Chinese   \n",
       "120          QUICK BITES                     North Indian, South Indian   \n",
       "...                  ...                                            ...   \n",
       "12602        QUICK BITES                   Rolls, North Indian, Biryani   \n",
       "12613      CASUAL DINING               Asian, Thai, Sushi, Healthy Food   \n",
       "12630      CASUAL DINING                       Tex-Mex, Italian, Coffee   \n",
       "12658                NaN                           Kerala, South Indian   \n",
       "12660  CASUAL DINING,BAR  North Indian, Continental, Chinese, Beverages   \n",
       "\n",
       "                                         TIME              CITY  \\\n",
       "62                      11am – 11pm (Mon-Sun)             Kochi   \n",
       "69                      11am – 11pm (Mon-Sun)         New Delhi   \n",
       "111    11:30am – 3:30pm, 7pm – 11pm (Mon-Sun)            Mumbai   \n",
       "117                     11am – 11pm (Mon-Sun)         New Delhi   \n",
       "120    7:30am – 9:30pm (Mon-Sat),Closed (Sun)  Bangalore-560066   \n",
       "...                                       ...               ...   \n",
       "12602           12noon – 12midnight (Mon-Sun)            Mumbai   \n",
       "12613                 12noon – 11pm (Mon-Sun)           Gurgaon   \n",
       "12630                 8am – 10:30pm (Mon-Sun)           Gurgaon   \n",
       "12658                    11am – 5pm (Mon-Sun)             Kochi   \n",
       "12660                  5pm – 1:30am (Mon-Sun)            Mumbai   \n",
       "\n",
       "               LOCALITY RATING VOTES  COST  \n",
       "62          Kalamassery    NEW   NaN   200  \n",
       "69              Kalkaji    NEW   NaN   200  \n",
       "111       Borivali West    NEW   NaN   800  \n",
       "117              Dwarka    NEW   NaN   500  \n",
       "120          Whitefield    NEW   NaN   150  \n",
       "...                 ...    ...   ...   ...  \n",
       "12602          Mahakali    NEW   NaN   200  \n",
       "12613       DLF Phase 4    NEW   NaN   950  \n",
       "12630  Golf Course Road    NEW   NaN  1200  \n",
       "12658     Chittoor Road    NEW   NaN   400  \n",
       "12660       Bandra West    NEW   NaN  1200  \n",
       "\n",
       "[704 rows x 8 columns]"
      ]
     },
     "execution_count": 10,
     "metadata": {},
     "output_type": "execute_result"
    }
   ],
   "source": [
    "# getting NEW value, need to convert it.\n",
    "df[df['RATING'] == 'NEW'] "
   ]
  },
  {
   "cell_type": "code",
   "execution_count": 11,
   "id": "782e921a",
   "metadata": {},
   "outputs": [],
   "source": [
    "# Removing text from the 'votes' column\n",
    "df['VOTES'] = df['VOTES'].str.extract('(\\d+)').astype(float)\n",
    "test_df['VOTES'] = test_df['VOTES'].str.extract('(\\d+)').astype(float)"
   ]
  },
  {
   "cell_type": "code",
   "execution_count": 12,
   "id": "cc5f1a2a",
   "metadata": {},
   "outputs": [],
   "source": [
    "# Replacing New with NaN.\n",
    "df.replace('NEW', np.NaN, inplace=True)\n",
    "test_df.replace('NEW', np.NaN, inplace=True)"
   ]
  },
  {
   "cell_type": "code",
   "execution_count": 13,
   "id": "75827829",
   "metadata": {},
   "outputs": [
    {
     "data": {
      "text/plain": [
       "TITLE       1000\n",
       "CUISINES       0\n",
       "TIME           0\n",
       "CITY         112\n",
       "LOCALITY      98\n",
       "RATING       706\n",
       "VOTES       1200\n",
       "COST           0\n",
       "dtype: int64"
      ]
     },
     "execution_count": 13,
     "metadata": {},
     "output_type": "execute_result"
    }
   ],
   "source": [
    "# checking null values.\n",
    "df.isna().sum()"
   ]
  },
  {
   "cell_type": "code",
   "execution_count": 14,
   "id": "cd7d91b9",
   "metadata": {},
   "outputs": [
    {
     "data": {
      "text/plain": [
       "TITLE        object\n",
       "CUISINES     object\n",
       "TIME         object\n",
       "CITY         object\n",
       "LOCALITY     object\n",
       "RATING       object\n",
       "VOTES       float64\n",
       "COST          int64\n",
       "dtype: object"
      ]
     },
     "execution_count": 14,
     "metadata": {},
     "output_type": "execute_result"
    }
   ],
   "source": [
    "# Checking the types.\n",
    "df.dtypes"
   ]
  },
  {
   "cell_type": "code",
   "execution_count": 15,
   "id": "4a2d3c40",
   "metadata": {},
   "outputs": [
    {
     "data": {
      "text/plain": [
       "494"
      ]
     },
     "execution_count": 15,
     "metadata": {},
     "output_type": "execute_result"
    }
   ],
   "source": [
    "# sum of - values.\n",
    "(df['RATING'] == '-').sum()"
   ]
  },
  {
   "cell_type": "code",
   "execution_count": 16,
   "id": "0cc0c1aa",
   "metadata": {},
   "outputs": [],
   "source": [
    "# Replacing the - from NaN\n",
    "df['RATING'].replace('-', np.NAN, inplace=True)"
   ]
  },
  {
   "cell_type": "code",
   "execution_count": 17,
   "id": "63b85654",
   "metadata": {},
   "outputs": [
    {
     "data": {
      "text/plain": [
       "0"
      ]
     },
     "execution_count": 17,
     "metadata": {},
     "output_type": "execute_result"
    }
   ],
   "source": [
    "# againg checking.\n",
    "(df['RATING'] == '-').sum()"
   ]
  },
  {
   "cell_type": "code",
   "execution_count": 18,
   "id": "736df433",
   "metadata": {},
   "outputs": [
    {
     "data": {
      "text/plain": [
       "TITLE       1000\n",
       "CUISINES       0\n",
       "TIME           0\n",
       "CITY         112\n",
       "LOCALITY      98\n",
       "RATING      1200\n",
       "VOTES       1200\n",
       "COST           0\n",
       "dtype: int64"
      ]
     },
     "execution_count": 18,
     "metadata": {},
     "output_type": "execute_result"
    }
   ],
   "source": [
    "# checking NaN for all the columns.\n",
    "df.isna().sum()"
   ]
  },
  {
   "cell_type": "code",
   "execution_count": 19,
   "id": "5593d7d6",
   "metadata": {},
   "outputs": [],
   "source": [
    "#  Fill NaN values with mode for each column that has NaN values\n",
    "for col in df.columns:\n",
    "    if df[col].isnull().any():\n",
    "        df[col] = df[col].fillna(df[col].mode().iloc[0])"
   ]
  },
  {
   "cell_type": "code",
   "execution_count": 20,
   "id": "6ecb09aa",
   "metadata": {},
   "outputs": [
    {
     "data": {
      "text/plain": [
       "TITLE       0\n",
       "CUISINES    0\n",
       "TIME        0\n",
       "CITY        0\n",
       "LOCALITY    0\n",
       "RATING      0\n",
       "VOTES       0\n",
       "COST        0\n",
       "dtype: int64"
      ]
     },
     "execution_count": 20,
     "metadata": {},
     "output_type": "execute_result"
    }
   ],
   "source": [
    "# removing all the null values.\n",
    "df.isna().sum()"
   ]
  },
  {
   "cell_type": "code",
   "execution_count": 21,
   "id": "49e06342",
   "metadata": {},
   "outputs": [
    {
     "data": {
      "text/html": [
       "<div>\n",
       "<style scoped>\n",
       "    .dataframe tbody tr th:only-of-type {\n",
       "        vertical-align: middle;\n",
       "    }\n",
       "\n",
       "    .dataframe tbody tr th {\n",
       "        vertical-align: top;\n",
       "    }\n",
       "\n",
       "    .dataframe thead th {\n",
       "        text-align: right;\n",
       "    }\n",
       "</style>\n",
       "<table border=\"1\" class=\"dataframe\">\n",
       "  <thead>\n",
       "    <tr style=\"text-align: right;\">\n",
       "      <th></th>\n",
       "      <th>TITLE</th>\n",
       "      <th>CUISINES</th>\n",
       "      <th>TIME</th>\n",
       "      <th>CITY</th>\n",
       "      <th>LOCALITY</th>\n",
       "      <th>RATING</th>\n",
       "      <th>VOTES</th>\n",
       "      <th>COST</th>\n",
       "    </tr>\n",
       "  </thead>\n",
       "  <tbody>\n",
       "    <tr>\n",
       "      <th>0</th>\n",
       "      <td>CASUAL DINING</td>\n",
       "      <td>Malwani, Goan, North Indian</td>\n",
       "      <td>11am – 4pm, 7:30pm – 11:30pm (Mon-Sun)</td>\n",
       "      <td>Thane</td>\n",
       "      <td>Dombivali East</td>\n",
       "      <td>3.6</td>\n",
       "      <td>49.0</td>\n",
       "      <td>1200</td>\n",
       "    </tr>\n",
       "    <tr>\n",
       "      <th>1</th>\n",
       "      <td>CASUAL DINING,BAR</td>\n",
       "      <td>Asian, Modern Indian, Japanese</td>\n",
       "      <td>6pm – 11pm (Mon-Sun)</td>\n",
       "      <td>Chennai</td>\n",
       "      <td>Ramapuram</td>\n",
       "      <td>4.2</td>\n",
       "      <td>30.0</td>\n",
       "      <td>1500</td>\n",
       "    </tr>\n",
       "    <tr>\n",
       "      <th>2</th>\n",
       "      <td>CASUAL DINING</td>\n",
       "      <td>North Indian, Chinese, Biryani, Hyderabadi</td>\n",
       "      <td>11am – 3:30pm, 7pm – 11pm (Mon-Sun)</td>\n",
       "      <td>Chennai</td>\n",
       "      <td>Saligramam</td>\n",
       "      <td>3.8</td>\n",
       "      <td>221.0</td>\n",
       "      <td>800</td>\n",
       "    </tr>\n",
       "    <tr>\n",
       "      <th>3</th>\n",
       "      <td>QUICK BITES</td>\n",
       "      <td>Tibetan, Chinese</td>\n",
       "      <td>11:30am – 1am (Mon-Sun)</td>\n",
       "      <td>Mumbai</td>\n",
       "      <td>Bandra West</td>\n",
       "      <td>4.1</td>\n",
       "      <td>24.0</td>\n",
       "      <td>800</td>\n",
       "    </tr>\n",
       "    <tr>\n",
       "      <th>4</th>\n",
       "      <td>DESSERT PARLOR</td>\n",
       "      <td>Desserts</td>\n",
       "      <td>11am – 1am (Mon-Sun)</td>\n",
       "      <td>Mumbai</td>\n",
       "      <td>Lower Parel</td>\n",
       "      <td>3.8</td>\n",
       "      <td>165.0</td>\n",
       "      <td>300</td>\n",
       "    </tr>\n",
       "    <tr>\n",
       "      <th>...</th>\n",
       "      <td>...</td>\n",
       "      <td>...</td>\n",
       "      <td>...</td>\n",
       "      <td>...</td>\n",
       "      <td>...</td>\n",
       "      <td>...</td>\n",
       "      <td>...</td>\n",
       "      <td>...</td>\n",
       "    </tr>\n",
       "    <tr>\n",
       "      <th>95</th>\n",
       "      <td>CAFÉ</td>\n",
       "      <td>Cafe, Healthy Food</td>\n",
       "      <td>12:30pm – 3:30pm, 6pm – 10:30pm (Mon-Sun)</td>\n",
       "      <td>Hyderabad</td>\n",
       "      <td>Lingampally</td>\n",
       "      <td>4.2</td>\n",
       "      <td>148.0</td>\n",
       "      <td>500</td>\n",
       "    </tr>\n",
       "    <tr>\n",
       "      <th>96</th>\n",
       "      <td>CASUAL DINING</td>\n",
       "      <td>Fast Food, Mexican, North Indian, Chinese</td>\n",
       "      <td>11am – 11pm (Mon-Sun)</td>\n",
       "      <td>Chennai</td>\n",
       "      <td>Nanganallur</td>\n",
       "      <td>3.8</td>\n",
       "      <td>221.0</td>\n",
       "      <td>700</td>\n",
       "    </tr>\n",
       "    <tr>\n",
       "      <th>97</th>\n",
       "      <td>CASUAL DINING</td>\n",
       "      <td>North Indian, Iranian</td>\n",
       "      <td>12noon – 10:30pm (Mon-Sun)</td>\n",
       "      <td>Bangalore</td>\n",
       "      <td>Church Street</td>\n",
       "      <td>3.9</td>\n",
       "      <td>228.0</td>\n",
       "      <td>950</td>\n",
       "    </tr>\n",
       "    <tr>\n",
       "      <th>98</th>\n",
       "      <td>QUICK BITES</td>\n",
       "      <td>Biryani, Kebab</td>\n",
       "      <td>Closed (Mon),11am – 10:30pm (Tue-Sun)</td>\n",
       "      <td>Bangalore</td>\n",
       "      <td>Rajajinagar</td>\n",
       "      <td>3.8</td>\n",
       "      <td>302.0</td>\n",
       "      <td>400</td>\n",
       "    </tr>\n",
       "    <tr>\n",
       "      <th>99</th>\n",
       "      <td>BAR</td>\n",
       "      <td>North Indian, Chinese</td>\n",
       "      <td>11am – 12midnight (Mon-Thu),11am – 1am (Fri-Sun)</td>\n",
       "      <td>Bangalore</td>\n",
       "      <td>Koramangala 1st Block</td>\n",
       "      <td>3.7</td>\n",
       "      <td>23.0</td>\n",
       "      <td>800</td>\n",
       "    </tr>\n",
       "  </tbody>\n",
       "</table>\n",
       "<p>100 rows × 8 columns</p>\n",
       "</div>"
      ],
      "text/plain": [
       "                TITLE                                    CUISINES  \\\n",
       "0       CASUAL DINING                 Malwani, Goan, North Indian   \n",
       "1   CASUAL DINING,BAR              Asian, Modern Indian, Japanese   \n",
       "2       CASUAL DINING  North Indian, Chinese, Biryani, Hyderabadi   \n",
       "3         QUICK BITES                            Tibetan, Chinese   \n",
       "4      DESSERT PARLOR                                    Desserts   \n",
       "..                ...                                         ...   \n",
       "95               CAFÉ                          Cafe, Healthy Food   \n",
       "96      CASUAL DINING   Fast Food, Mexican, North Indian, Chinese   \n",
       "97      CASUAL DINING                       North Indian, Iranian   \n",
       "98        QUICK BITES                              Biryani, Kebab   \n",
       "99                BAR                       North Indian, Chinese   \n",
       "\n",
       "                                                TIME       CITY  \\\n",
       "0             11am – 4pm, 7:30pm – 11:30pm (Mon-Sun)      Thane   \n",
       "1                               6pm – 11pm (Mon-Sun)    Chennai   \n",
       "2                11am – 3:30pm, 7pm – 11pm (Mon-Sun)    Chennai   \n",
       "3                            11:30am – 1am (Mon-Sun)     Mumbai   \n",
       "4                               11am – 1am (Mon-Sun)     Mumbai   \n",
       "..                                               ...        ...   \n",
       "95         12:30pm – 3:30pm, 6pm – 10:30pm (Mon-Sun)  Hyderabad   \n",
       "96                             11am – 11pm (Mon-Sun)    Chennai   \n",
       "97                        12noon – 10:30pm (Mon-Sun)  Bangalore   \n",
       "98             Closed (Mon),11am – 10:30pm (Tue-Sun)  Bangalore   \n",
       "99  11am – 12midnight (Mon-Thu),11am – 1am (Fri-Sun)  Bangalore   \n",
       "\n",
       "                 LOCALITY RATING  VOTES  COST  \n",
       "0          Dombivali East    3.6   49.0  1200  \n",
       "1               Ramapuram    4.2   30.0  1500  \n",
       "2              Saligramam    3.8  221.0   800  \n",
       "3             Bandra West    4.1   24.0   800  \n",
       "4             Lower Parel    3.8  165.0   300  \n",
       "..                    ...    ...    ...   ...  \n",
       "95            Lingampally    4.2  148.0   500  \n",
       "96            Nanganallur    3.8  221.0   700  \n",
       "97          Church Street    3.9  228.0   950  \n",
       "98            Rajajinagar    3.8  302.0   400  \n",
       "99  Koramangala 1st Block    3.7   23.0   800  \n",
       "\n",
       "[100 rows x 8 columns]"
      ]
     },
     "execution_count": 21,
     "metadata": {},
     "output_type": "execute_result"
    }
   ],
   "source": [
    "# getting first 100 rows.\n",
    "df.head(100)"
   ]
  },
  {
   "cell_type": "code",
   "execution_count": 22,
   "id": "7a73dd1d",
   "metadata": {},
   "outputs": [
    {
     "data": {
      "text/plain": [
       "<Axes: >"
      ]
     },
     "execution_count": 22,
     "metadata": {},
     "output_type": "execute_result"
    },
    {
     "data": {
      "image/png": "[encoded data removed]",
      "text/plain": [
       "<Figure size 640x480 with 2 Axes>"
      ]
     },
     "metadata": {},
     "output_type": "display_data"
    }
   ],
   "source": [
    "# Representation with heatmap.\n",
    "sns.heatmap(df.isnull())"
   ]
  },
  {
   "cell_type": "code",
   "execution_count": 23,
   "id": "6c2448c0",
   "metadata": {},
   "outputs": [
    {
     "data": {
      "text/plain": [
       "TITLE        object\n",
       "CUISINES     object\n",
       "TIME         object\n",
       "CITY         object\n",
       "LOCALITY     object\n",
       "RATING       object\n",
       "VOTES       float64\n",
       "COST          int64\n",
       "dtype: object"
      ]
     },
     "execution_count": 23,
     "metadata": {},
     "output_type": "execute_result"
    }
   ],
   "source": [
    "# Checking the types.\n",
    "df.dtypes"
   ]
  },
  {
   "cell_type": "code",
   "execution_count": 24,
   "id": "5673c0d3",
   "metadata": {},
   "outputs": [],
   "source": [
    "# changing the type of RATING.\n",
    "df['RATING'] = df['RATING'].astype(float)\n",
    "# test_df['RATING'] = test_df['RATING'].astype(float)"
   ]
  },
  {
   "cell_type": "code",
   "execution_count": 25,
   "id": "454ef2fa",
   "metadata": {},
   "outputs": [
    {
     "data": {
      "text/plain": [
       "TITLE        object\n",
       "CUISINES     object\n",
       "TIME         object\n",
       "CITY         object\n",
       "LOCALITY     object\n",
       "RATING      float64\n",
       "VOTES       float64\n",
       "COST          int64\n",
       "dtype: object"
      ]
     },
     "execution_count": 25,
     "metadata": {},
     "output_type": "execute_result"
    }
   ],
   "source": [
    "# again Checking the types.\n",
    "df.dtypes"
   ]
  },
  {
   "cell_type": "markdown",
   "id": "245954f4",
   "metadata": {},
   "source": [
    "# Cleaning of the data is done."
   ]
  },
  {
   "cell_type": "code",
   "execution_count": 26,
   "id": "077ef81a",
   "metadata": {},
   "outputs": [
    {
     "data": {
      "text/html": [
       "<div>\n",
       "<style scoped>\n",
       "    .dataframe tbody tr th:only-of-type {\n",
       "        vertical-align: middle;\n",
       "    }\n",
       "\n",
       "    .dataframe tbody tr th {\n",
       "        vertical-align: top;\n",
       "    }\n",
       "\n",
       "    .dataframe thead th {\n",
       "        text-align: right;\n",
       "    }\n",
       "</style>\n",
       "<table border=\"1\" class=\"dataframe\">\n",
       "  <thead>\n",
       "    <tr style=\"text-align: right;\">\n",
       "      <th></th>\n",
       "      <th>RATING</th>\n",
       "      <th>VOTES</th>\n",
       "      <th>COST</th>\n",
       "    </tr>\n",
       "  </thead>\n",
       "  <tbody>\n",
       "    <tr>\n",
       "      <th>count</th>\n",
       "      <td>12665.000000</td>\n",
       "      <td>12665.000000</td>\n",
       "      <td>12665.000000</td>\n",
       "    </tr>\n",
       "    <tr>\n",
       "      <th>mean</th>\n",
       "      <td>3.796123</td>\n",
       "      <td>380.411607</td>\n",
       "      <td>655.400790</td>\n",
       "    </tr>\n",
       "    <tr>\n",
       "      <th>std</th>\n",
       "      <td>0.403185</td>\n",
       "      <td>809.716694</td>\n",
       "      <td>627.389831</td>\n",
       "    </tr>\n",
       "    <tr>\n",
       "      <th>min</th>\n",
       "      <td>2.000000</td>\n",
       "      <td>4.000000</td>\n",
       "      <td>20.000000</td>\n",
       "    </tr>\n",
       "    <tr>\n",
       "      <th>25%</th>\n",
       "      <td>3.600000</td>\n",
       "      <td>44.000000</td>\n",
       "      <td>300.000000</td>\n",
       "    </tr>\n",
       "    <tr>\n",
       "      <th>50%</th>\n",
       "      <td>3.900000</td>\n",
       "      <td>132.000000</td>\n",
       "      <td>500.000000</td>\n",
       "    </tr>\n",
       "    <tr>\n",
       "      <th>75%</th>\n",
       "      <td>4.000000</td>\n",
       "      <td>405.000000</td>\n",
       "      <td>800.000000</td>\n",
       "    </tr>\n",
       "    <tr>\n",
       "      <th>max</th>\n",
       "      <td>4.900000</td>\n",
       "      <td>41186.000000</td>\n",
       "      <td>14000.000000</td>\n",
       "    </tr>\n",
       "  </tbody>\n",
       "</table>\n",
       "</div>"
      ],
      "text/plain": [
       "             RATING         VOTES          COST\n",
       "count  12665.000000  12665.000000  12665.000000\n",
       "mean       3.796123    380.411607    655.400790\n",
       "std        0.403185    809.716694    627.389831\n",
       "min        2.000000      4.000000     20.000000\n",
       "25%        3.600000     44.000000    300.000000\n",
       "50%        3.900000    132.000000    500.000000\n",
       "75%        4.000000    405.000000    800.000000\n",
       "max        4.900000  41186.000000  14000.000000"
      ]
     },
     "execution_count": 26,
     "metadata": {},
     "output_type": "execute_result"
    }
   ],
   "source": [
    "# getting summary description of dataset.\n",
    "df.describe()"
   ]
  },
  {
   "cell_type": "markdown",
   "id": "d17d1c46",
   "metadata": {},
   "source": [
    "#### Count indicates the number of non-null values present in each column. When the mean is greater than the median (50th percentile) in a column, it shows right skewness, indicating a positively skewed distribution. Conversely, when the mean is less than the median in a column, it shows left skewness, indicating a negatively skewed distribution. Thus, if some columns have means greater than their medians and others have means less than their medians, it suggests that the dataset contains both positively and negatively skewed distributions. Let's examine this step by step.\n",
    "#### Also outliers are presents in this data set."
   ]
  },
  {
   "cell_type": "code",
   "execution_count": 27,
   "id": "890f24e6",
   "metadata": {},
   "outputs": [],
   "source": [
    "# We have noticed that in dataset the columns are in categorial type.\n",
    "# Encoding categorial columns using OrdinalEncodes."
   ]
  },
  {
   "cell_type": "code",
   "execution_count": 28,
   "id": "e7ff51f5",
   "metadata": {},
   "outputs": [],
   "source": [
    "from sklearn.preprocessing import OrdinalEncoder\n",
    "OE = OrdinalEncoder()\n",
    "for i in df.columns:\n",
    "    if df[i].dtype == 'object':\n",
    "        df[i] = OE.fit_transform(df[i].values.reshape(-1,1))\n",
    "\n",
    "\n",
    "# For testing Data.\n",
    "for i in test_df.columns:\n",
    "    if test_df[i].dtype == 'object':\n",
    "        test_df[i] = OE.fit_transform(test_df[i].values.reshape(-1,1))"
   ]
  },
  {
   "cell_type": "markdown",
   "id": "873b7e1e",
   "metadata": {},
   "source": [
    "#### Checking outliers"
   ]
  },
  {
   "cell_type": "code",
   "execution_count": 29,
   "id": "bdeaccc5",
   "metadata": {},
   "outputs": [
    {
     "data": {
      "image/png": "[encoded data removed]",
      "text/plain": [
       "<Figure size 1000x600 with 8 Axes>"
      ]
     },
     "metadata": {},
     "output_type": "display_data"
    }
   ],
   "source": [
    "# Before removing outliers.\n",
    "plt.figure(figsize=(10,6), facecolor='White')\n",
    "plotnumber = 1\n",
    "for col in df.columns:\n",
    "    if plotnumber <=9:\n",
    "        ax = plt.subplot(3,3,plotnumber)\n",
    "        sns.boxplot(df[col], palette='Set2_r')\n",
    "        plt.xlabel(col, fontsize= 15)\n",
    "        plt.yticks(rotation=0, fontsize=10)\n",
    "    plotnumber+=1\n",
    "plt.tight_layout()"
   ]
  },
  {
   "cell_type": "code",
   "execution_count": 30,
   "id": "067ee6f9",
   "metadata": {},
   "outputs": [],
   "source": [
    "# As we can see, there are outliers present in the dataset columns named \"rating\", \"Votes\" and \"cost\"."
   ]
  },
  {
   "cell_type": "code",
   "execution_count": 31,
   "id": "cbc43d91",
   "metadata": {},
   "outputs": [],
   "source": [
    "# Removing outliers\n",
    "from scipy import stats\n",
    "\n",
    "# Columns to handle outliers\n",
    "columns_to_filter = ['RATING', 'COST', 'VOTES']\n",
    "\n",
    "for col in columns_to_filter:\n",
    "    # Calculate the Z-scores\n",
    "    z_scores = np.abs((df[col] - df[col].mean()) / df[col].std())\n",
    "\n",
    "    # Define a threshold\n",
    "    threshold = 3\n",
    "\n",
    "    # Remove outliers\n",
    "    df = df[z_scores < threshold]"
   ]
  },
  {
   "cell_type": "code",
   "execution_count": 32,
   "id": "cab4da8c",
   "metadata": {},
   "outputs": [
    {
     "data": {
      "image/png": "[encoded data removed]",
      "text/plain": [
       "<Figure size 1000x600 with 8 Axes>"
      ]
     },
     "metadata": {},
     "output_type": "display_data"
    }
   ],
   "source": [
    "# After removing outliers.\n",
    "plt.figure(figsize=(10,6), facecolor='White')\n",
    "plotnumber = 1\n",
    "for col in df.columns:\n",
    "    if plotnumber <=9:\n",
    "        ax = plt.subplot(3,3,plotnumber)\n",
    "        sns.boxplot(df[col], palette='Set2_r')\n",
    "        plt.xlabel(col, fontsize= 15)\n",
    "        plt.yticks(rotation=0, fontsize=10)\n",
    "    plotnumber+=1\n",
    "plt.tight_layout()"
   ]
  },
  {
   "cell_type": "code",
   "execution_count": 33,
   "id": "0ca77c3d",
   "metadata": {},
   "outputs": [
    {
     "name": "stdout",
     "output_type": "stream",
     "text": [
      "<class 'pandas.core.frame.DataFrame'>\n",
      "Index: 12177 entries, 0 to 12689\n",
      "Data columns (total 8 columns):\n",
      " #   Column    Non-Null Count  Dtype  \n",
      "---  ------    --------------  -----  \n",
      " 0   TITLE     12177 non-null  float64\n",
      " 1   CUISINES  12177 non-null  float64\n",
      " 2   TIME      12177 non-null  float64\n",
      " 3   CITY      12177 non-null  float64\n",
      " 4   LOCALITY  12177 non-null  float64\n",
      " 5   RATING    12177 non-null  float64\n",
      " 6   VOTES     12177 non-null  float64\n",
      " 7   COST      12177 non-null  int64  \n",
      "dtypes: float64(7), int64(1)\n",
      "memory usage: 856.2 KB\n"
     ]
    }
   ],
   "source": [
    "# After removing the possible outliers we can see total number are reduced.\n",
    "df.info()"
   ]
  },
  {
   "cell_type": "code",
   "execution_count": 34,
   "id": "d7be5730",
   "metadata": {},
   "outputs": [
    {
     "data": {
      "text/html": [
       "<div>\n",
       "<style scoped>\n",
       "    .dataframe tbody tr th:only-of-type {\n",
       "        vertical-align: middle;\n",
       "    }\n",
       "\n",
       "    .dataframe tbody tr th {\n",
       "        vertical-align: top;\n",
       "    }\n",
       "\n",
       "    .dataframe thead th {\n",
       "        text-align: right;\n",
       "    }\n",
       "</style>\n",
       "<table border=\"1\" class=\"dataframe\">\n",
       "  <thead>\n",
       "    <tr style=\"text-align: right;\">\n",
       "      <th></th>\n",
       "      <th>TITLE</th>\n",
       "      <th>CUISINES</th>\n",
       "      <th>TIME</th>\n",
       "      <th>CITY</th>\n",
       "      <th>LOCALITY</th>\n",
       "      <th>RATING</th>\n",
       "      <th>VOTES</th>\n",
       "      <th>COST</th>\n",
       "    </tr>\n",
       "  </thead>\n",
       "  <tbody>\n",
       "    <tr>\n",
       "      <th>count</th>\n",
       "      <td>12177.000000</td>\n",
       "      <td>12177.000000</td>\n",
       "      <td>12177.000000</td>\n",
       "      <td>12177.000000</td>\n",
       "      <td>12177.000000</td>\n",
       "      <td>12177.000000</td>\n",
       "      <td>12177.000000</td>\n",
       "      <td>12177.000000</td>\n",
       "    </tr>\n",
       "    <tr>\n",
       "      <th>mean</th>\n",
       "      <td>59.926829</td>\n",
       "      <td>2233.524267</td>\n",
       "      <td>1175.369796</td>\n",
       "      <td>141.889956</td>\n",
       "      <td>652.633982</td>\n",
       "      <td>3.789070</td>\n",
       "      <td>308.542416</td>\n",
       "      <td>591.332102</td>\n",
       "    </tr>\n",
       "    <tr>\n",
       "      <th>std</th>\n",
       "      <td>33.195757</td>\n",
       "      <td>1208.477507</td>\n",
       "      <td>758.786085</td>\n",
       "      <td>83.729109</td>\n",
       "      <td>399.661782</td>\n",
       "      <td>0.386021</td>\n",
       "      <td>445.051387</td>\n",
       "      <td>445.891734</td>\n",
       "    </tr>\n",
       "    <tr>\n",
       "      <th>min</th>\n",
       "      <td>0.000000</td>\n",
       "      <td>0.000000</td>\n",
       "      <td>0.000000</td>\n",
       "      <td>0.000000</td>\n",
       "      <td>0.000000</td>\n",
       "      <td>2.600000</td>\n",
       "      <td>4.000000</td>\n",
       "      <td>20.000000</td>\n",
       "    </tr>\n",
       "    <tr>\n",
       "      <th>25%</th>\n",
       "      <td>31.000000</td>\n",
       "      <td>1181.000000</td>\n",
       "      <td>555.000000</td>\n",
       "      <td>67.000000</td>\n",
       "      <td>337.000000</td>\n",
       "      <td>3.600000</td>\n",
       "      <td>44.000000</td>\n",
       "      <td>300.000000</td>\n",
       "    </tr>\n",
       "    <tr>\n",
       "      <th>50%</th>\n",
       "      <td>57.000000</td>\n",
       "      <td>2428.000000</td>\n",
       "      <td>1123.000000</td>\n",
       "      <td>131.000000</td>\n",
       "      <td>582.000000</td>\n",
       "      <td>3.900000</td>\n",
       "      <td>123.000000</td>\n",
       "      <td>450.000000</td>\n",
       "    </tr>\n",
       "    <tr>\n",
       "      <th>75%</th>\n",
       "      <td>94.000000</td>\n",
       "      <td>3235.000000</td>\n",
       "      <td>1852.000000</td>\n",
       "      <td>222.000000</td>\n",
       "      <td>1009.000000</td>\n",
       "      <td>4.000000</td>\n",
       "      <td>374.000000</td>\n",
       "      <td>700.000000</td>\n",
       "    </tr>\n",
       "    <tr>\n",
       "      <th>max</th>\n",
       "      <td>111.000000</td>\n",
       "      <td>4154.000000</td>\n",
       "      <td>2688.000000</td>\n",
       "      <td>358.000000</td>\n",
       "      <td>1415.000000</td>\n",
       "      <td>4.900000</td>\n",
       "      <td>2811.000000</td>\n",
       "      <td>2500.000000</td>\n",
       "    </tr>\n",
       "  </tbody>\n",
       "</table>\n",
       "</div>"
      ],
      "text/plain": [
       "              TITLE      CUISINES          TIME          CITY      LOCALITY  \\\n",
       "count  12177.000000  12177.000000  12177.000000  12177.000000  12177.000000   \n",
       "mean      59.926829   2233.524267   1175.369796    141.889956    652.633982   \n",
       "std       33.195757   1208.477507    758.786085     83.729109    399.661782   \n",
       "min        0.000000      0.000000      0.000000      0.000000      0.000000   \n",
       "25%       31.000000   1181.000000    555.000000     67.000000    337.000000   \n",
       "50%       57.000000   2428.000000   1123.000000    131.000000    582.000000   \n",
       "75%       94.000000   3235.000000   1852.000000    222.000000   1009.000000   \n",
       "max      111.000000   4154.000000   2688.000000    358.000000   1415.000000   \n",
       "\n",
       "             RATING         VOTES          COST  \n",
       "count  12177.000000  12177.000000  12177.000000  \n",
       "mean       3.789070    308.542416    591.332102  \n",
       "std        0.386021    445.051387    445.891734  \n",
       "min        2.600000      4.000000     20.000000  \n",
       "25%        3.600000     44.000000    300.000000  \n",
       "50%        3.900000    123.000000    450.000000  \n",
       "75%        4.000000    374.000000    700.000000  \n",
       "max        4.900000   2811.000000   2500.000000  "
      ]
     },
     "execution_count": 34,
     "metadata": {},
     "output_type": "execute_result"
    }
   ],
   "source": [
    "# After removing the possible outliers we can see total number are reduced.\n",
    "df.describe()"
   ]
  },
  {
   "cell_type": "markdown",
   "id": "f5f85492",
   "metadata": {},
   "source": [
    "### checking skewness"
   ]
  },
  {
   "cell_type": "code",
   "execution_count": 35,
   "id": "5cc680b9",
   "metadata": {},
   "outputs": [
    {
     "data": {
      "text/plain": [
       "TITLE      -0.094345\n",
       "CUISINES   -0.213732\n",
       "TIME        0.314530\n",
       "CITY        0.281482\n",
       "LOCALITY    0.350647\n",
       "RATING     -0.510043\n",
       "VOTES       2.607249\n",
       "COST        1.821688\n",
       "dtype: float64"
      ]
     },
     "execution_count": 35,
     "metadata": {},
     "output_type": "execute_result"
    }
   ],
   "source": [
    "df.skew()"
   ]
  },
  {
   "cell_type": "code",
   "execution_count": 36,
   "id": "93894595",
   "metadata": {},
   "outputs": [],
   "source": [
    "# Skewness are present in this data."
   ]
  },
  {
   "cell_type": "markdown",
   "id": "6108f88e",
   "metadata": {},
   "source": [
    "### Checking visualization presentation"
   ]
  },
  {
   "cell_type": "code",
   "execution_count": 37,
   "id": "0ec95589",
   "metadata": {},
   "outputs": [
    {
     "data": {
      "image/png": "[encoded data removed]",
      "text/plain": [
       "<Figure size 1000x600 with 8 Axes>"
      ]
     },
     "metadata": {},
     "output_type": "display_data"
    }
   ],
   "source": [
    "plt.figure(figsize=(10,6), facecolor='White')\n",
    "plotnumber = 1\n",
    "for col in df.columns:\n",
    "    if plotnumber <=8:\n",
    "        ax = plt.subplot(4,4,plotnumber)\n",
    "        sns.distplot(df[col], color='m', kde_kws={'shade' : True}, hist=False)\n",
    "        plt.xlabel(col, fontsize= 15)\n",
    "        plt.yticks(rotation=0, fontsize=10)\n",
    "    plotnumber+=1\n",
    "plt.tight_layout()"
   ]
  },
  {
   "cell_type": "markdown",
   "id": "c6a621f9",
   "metadata": {},
   "source": [
    "##### Removing Skewness"
   ]
  },
  {
   "cell_type": "code",
   "execution_count": 38,
   "id": "46abc1bd",
   "metadata": {},
   "outputs": [],
   "source": [
    "# Removing the skewness by using Cube root square.\n",
    "df['VOTES'] = np.cbrt(df['VOTES'])\n",
    "\n",
    "# Removing the skewness by using Cube root square.\n",
    "df['COST'] = np.cbrt(df['COST'])"
   ]
  },
  {
   "cell_type": "code",
   "execution_count": 39,
   "id": "d3ce6ea3",
   "metadata": {},
   "outputs": [
    {
     "data": {
      "text/plain": [
       "TITLE      -0.094345\n",
       "CUISINES   -0.213732\n",
       "TIME        0.314530\n",
       "CITY        0.281482\n",
       "LOCALITY    0.350647\n",
       "RATING     -0.510043\n",
       "VOTES       0.916684\n",
       "COST        0.748053\n",
       "dtype: float64"
      ]
     },
     "execution_count": 39,
     "metadata": {},
     "output_type": "execute_result"
    }
   ],
   "source": [
    "# After removing the skewness.\n",
    "df.skew()"
   ]
  },
  {
   "cell_type": "code",
   "execution_count": 40,
   "id": "d6ecaf86",
   "metadata": {},
   "outputs": [
    {
     "data": {
      "image/png": "[encoded data removed]",
      "text/plain": [
       "<Figure size 1000x600 with 8 Axes>"
      ]
     },
     "metadata": {},
     "output_type": "display_data"
    }
   ],
   "source": [
    "# Again checking.\n",
    "plt.figure(figsize=(10,6), facecolor='White')\n",
    "plotnumber = 1\n",
    "for col in df.columns:\n",
    "    if plotnumber <=8:\n",
    "        ax = plt.subplot(4,4,plotnumber)\n",
    "        sns.distplot(df[col], color='m', kde_kws={'shade' : True}, hist=False)\n",
    "        plt.xlabel(col, fontsize= 15)\n",
    "        plt.yticks(rotation=0, fontsize=10)\n",
    "    plotnumber+=1\n",
    "plt.tight_layout()"
   ]
  },
  {
   "cell_type": "code",
   "execution_count": 41,
   "id": "21e7c216",
   "metadata": {},
   "outputs": [
    {
     "data": {
      "text/html": [
       "<div>\n",
       "<style scoped>\n",
       "    .dataframe tbody tr th:only-of-type {\n",
       "        vertical-align: middle;\n",
       "    }\n",
       "\n",
       "    .dataframe tbody tr th {\n",
       "        vertical-align: top;\n",
       "    }\n",
       "\n",
       "    .dataframe thead th {\n",
       "        text-align: right;\n",
       "    }\n",
       "</style>\n",
       "<table border=\"1\" class=\"dataframe\">\n",
       "  <thead>\n",
       "    <tr style=\"text-align: right;\">\n",
       "      <th></th>\n",
       "      <th>TITLE</th>\n",
       "      <th>CUISINES</th>\n",
       "      <th>TIME</th>\n",
       "      <th>CITY</th>\n",
       "      <th>LOCALITY</th>\n",
       "      <th>RATING</th>\n",
       "      <th>VOTES</th>\n",
       "      <th>COST</th>\n",
       "    </tr>\n",
       "  </thead>\n",
       "  <tbody>\n",
       "    <tr>\n",
       "      <th>TITLE</th>\n",
       "      <td>1.000000</td>\n",
       "      <td>0.247140</td>\n",
       "      <td>0.056843</td>\n",
       "      <td>-0.011680</td>\n",
       "      <td>0.027250</td>\n",
       "      <td>-0.146594</td>\n",
       "      <td>-0.207772</td>\n",
       "      <td>-0.409314</td>\n",
       "    </tr>\n",
       "    <tr>\n",
       "      <th>CUISINES</th>\n",
       "      <td>0.247140</td>\n",
       "      <td>1.000000</td>\n",
       "      <td>0.107142</td>\n",
       "      <td>0.024013</td>\n",
       "      <td>0.016470</td>\n",
       "      <td>-0.063536</td>\n",
       "      <td>-0.022913</td>\n",
       "      <td>-0.048165</td>\n",
       "    </tr>\n",
       "    <tr>\n",
       "      <th>TIME</th>\n",
       "      <td>0.056843</td>\n",
       "      <td>0.107142</td>\n",
       "      <td>1.000000</td>\n",
       "      <td>-0.011105</td>\n",
       "      <td>-0.007243</td>\n",
       "      <td>0.040070</td>\n",
       "      <td>-0.040853</td>\n",
       "      <td>-0.065048</td>\n",
       "    </tr>\n",
       "    <tr>\n",
       "      <th>CITY</th>\n",
       "      <td>-0.011680</td>\n",
       "      <td>0.024013</td>\n",
       "      <td>-0.011105</td>\n",
       "      <td>1.000000</td>\n",
       "      <td>0.051302</td>\n",
       "      <td>0.066132</td>\n",
       "      <td>0.100703</td>\n",
       "      <td>0.042002</td>\n",
       "    </tr>\n",
       "    <tr>\n",
       "      <th>LOCALITY</th>\n",
       "      <td>0.027250</td>\n",
       "      <td>0.016470</td>\n",
       "      <td>-0.007243</td>\n",
       "      <td>0.051302</td>\n",
       "      <td>1.000000</td>\n",
       "      <td>-0.026852</td>\n",
       "      <td>-0.037737</td>\n",
       "      <td>-0.017715</td>\n",
       "    </tr>\n",
       "    <tr>\n",
       "      <th>RATING</th>\n",
       "      <td>-0.146594</td>\n",
       "      <td>-0.063536</td>\n",
       "      <td>0.040070</td>\n",
       "      <td>0.066132</td>\n",
       "      <td>-0.026852</td>\n",
       "      <td>1.000000</td>\n",
       "      <td>0.486531</td>\n",
       "      <td>0.304597</td>\n",
       "    </tr>\n",
       "    <tr>\n",
       "      <th>VOTES</th>\n",
       "      <td>-0.207772</td>\n",
       "      <td>-0.022913</td>\n",
       "      <td>-0.040853</td>\n",
       "      <td>0.100703</td>\n",
       "      <td>-0.037737</td>\n",
       "      <td>0.486531</td>\n",
       "      <td>1.000000</td>\n",
       "      <td>0.449401</td>\n",
       "    </tr>\n",
       "    <tr>\n",
       "      <th>COST</th>\n",
       "      <td>-0.409314</td>\n",
       "      <td>-0.048165</td>\n",
       "      <td>-0.065048</td>\n",
       "      <td>0.042002</td>\n",
       "      <td>-0.017715</td>\n",
       "      <td>0.304597</td>\n",
       "      <td>0.449401</td>\n",
       "      <td>1.000000</td>\n",
       "    </tr>\n",
       "  </tbody>\n",
       "</table>\n",
       "</div>"
      ],
      "text/plain": [
       "             TITLE  CUISINES      TIME      CITY  LOCALITY    RATING  \\\n",
       "TITLE     1.000000  0.247140  0.056843 -0.011680  0.027250 -0.146594   \n",
       "CUISINES  0.247140  1.000000  0.107142  0.024013  0.016470 -0.063536   \n",
       "TIME      0.056843  0.107142  1.000000 -0.011105 -0.007243  0.040070   \n",
       "CITY     -0.011680  0.024013 -0.011105  1.000000  0.051302  0.066132   \n",
       "LOCALITY  0.027250  0.016470 -0.007243  0.051302  1.000000 -0.026852   \n",
       "RATING   -0.146594 -0.063536  0.040070  0.066132 -0.026852  1.000000   \n",
       "VOTES    -0.207772 -0.022913 -0.040853  0.100703 -0.037737  0.486531   \n",
       "COST     -0.409314 -0.048165 -0.065048  0.042002 -0.017715  0.304597   \n",
       "\n",
       "             VOTES      COST  \n",
       "TITLE    -0.207772 -0.409314  \n",
       "CUISINES -0.022913 -0.048165  \n",
       "TIME     -0.040853 -0.065048  \n",
       "CITY      0.100703  0.042002  \n",
       "LOCALITY -0.037737 -0.017715  \n",
       "RATING    0.486531  0.304597  \n",
       "VOTES     1.000000  0.449401  \n",
       "COST      0.449401  1.000000  "
      ]
     },
     "execution_count": 41,
     "metadata": {},
     "output_type": "execute_result"
    }
   ],
   "source": [
    "# Now Correlation between target variable and independent variable.\n",
    "cor = df.corr()\n",
    "cor"
   ]
  },
  {
   "cell_type": "code",
   "execution_count": 42,
   "id": "ab7585de",
   "metadata": {},
   "outputs": [
    {
     "data": {
      "image/png": "[encoded data removed]",
      "text/plain": [
       "<Figure size 2000x1500 with 2 Axes>"
      ]
     },
     "metadata": {},
     "output_type": "display_data"
    }
   ],
   "source": [
    "# Visualizing the correlation matrix by plotting heatmap\n",
    "plt.figure(figsize=(20,15))\n",
    "sns.heatmap(df.corr(), linewidths=0.1, fmt=\".1g\", linecolor=\"black\",annot=True,cmap=\"Blues_r\")\n",
    "plt.yticks(rotation = 0)\n",
    "\n",
    "plt.show()"
   ]
  },
  {
   "cell_type": "markdown",
   "id": "ffc422cd",
   "metadata": {},
   "source": [
    "#### When two independent features are highly correlated, we can drop one of the columns."
   ]
  },
  {
   "cell_type": "code",
   "execution_count": 43,
   "id": "9c985d1d",
   "metadata": {},
   "outputs": [
    {
     "data": {
      "text/plain": [
       "COST        1.000000\n",
       "VOTES       0.449401\n",
       "RATING      0.304597\n",
       "CITY        0.042002\n",
       "LOCALITY   -0.017715\n",
       "CUISINES   -0.048165\n",
       "TIME       -0.065048\n",
       "TITLE      -0.409314\n",
       "Name: COST, dtype: float64"
      ]
     },
     "execution_count": 43,
     "metadata": {},
     "output_type": "execute_result"
    }
   ],
   "source": [
    "# We can clearly see that there is no positive correlation with the target value,\n",
    "# but there is a highly negative correlation with the target value.\n",
    "cor['COST'].sort_values(ascending=False)"
   ]
  },
  {
   "cell_type": "code",
   "execution_count": 44,
   "id": "1c818584",
   "metadata": {},
   "outputs": [],
   "source": [
    "# The titles are highly correlated."
   ]
  },
  {
   "cell_type": "code",
   "execution_count": 45,
   "id": "a2a64ba4",
   "metadata": {},
   "outputs": [],
   "source": [
    "# Separating feature and label\n",
    "x = df.drop('COST', axis=1)\n",
    "y = df['COST']"
   ]
  },
  {
   "cell_type": "code",
   "execution_count": 46,
   "id": "ce69f888",
   "metadata": {},
   "outputs": [],
   "source": [
    "# Feature Scaling using Standard Scalarization\n",
    "from sklearn.preprocessing import StandardScaler\n",
    "scaler = StandardScaler()\n",
    "x = pd.DataFrame(scaler.fit_transform(x), columns=x.columns)"
   ]
  },
  {
   "cell_type": "code",
   "execution_count": 47,
   "id": "edbfdc0d",
   "metadata": {},
   "outputs": [],
   "source": [
    "# Checking Variance Inflation Factor(VIF)\n",
    "# Checking VIF values to confirm whether multicollinearity exists or not.\n",
    "from statsmodels.stats.outliers_influence import variance_inflation_factor\n",
    "vif = pd.DataFrame()\n",
    "vif['VIF Values'] = [variance_inflation_factor(x.values, i) for i in range(len(x.columns))]\n",
    "vif['Feture Values'] = x.columns"
   ]
  },
  {
   "cell_type": "code",
   "execution_count": 48,
   "id": "001e4b75",
   "metadata": {},
   "outputs": [
    {
     "data": {
      "text/html": [
       "<div>\n",
       "<style scoped>\n",
       "    .dataframe tbody tr th:only-of-type {\n",
       "        vertical-align: middle;\n",
       "    }\n",
       "\n",
       "    .dataframe tbody tr th {\n",
       "        vertical-align: top;\n",
       "    }\n",
       "\n",
       "    .dataframe thead th {\n",
       "        text-align: right;\n",
       "    }\n",
       "</style>\n",
       "<table border=\"1\" class=\"dataframe\">\n",
       "  <thead>\n",
       "    <tr style=\"text-align: right;\">\n",
       "      <th></th>\n",
       "      <th>VIF Values</th>\n",
       "      <th>Feture Values</th>\n",
       "    </tr>\n",
       "  </thead>\n",
       "  <tbody>\n",
       "    <tr>\n",
       "      <th>0</th>\n",
       "      <td>1.116412</td>\n",
       "      <td>TITLE</td>\n",
       "    </tr>\n",
       "    <tr>\n",
       "      <th>1</th>\n",
       "      <td>1.080427</td>\n",
       "      <td>CUISINES</td>\n",
       "    </tr>\n",
       "    <tr>\n",
       "      <th>2</th>\n",
       "      <td>1.019934</td>\n",
       "      <td>TIME</td>\n",
       "    </tr>\n",
       "    <tr>\n",
       "      <th>3</th>\n",
       "      <td>1.014644</td>\n",
       "      <td>CITY</td>\n",
       "    </tr>\n",
       "    <tr>\n",
       "      <th>4</th>\n",
       "      <td>1.005165</td>\n",
       "      <td>LOCALITY</td>\n",
       "    </tr>\n",
       "    <tr>\n",
       "      <th>5</th>\n",
       "      <td>1.325467</td>\n",
       "      <td>RATING</td>\n",
       "    </tr>\n",
       "    <tr>\n",
       "      <th>6</th>\n",
       "      <td>1.361948</td>\n",
       "      <td>VOTES</td>\n",
       "    </tr>\n",
       "  </tbody>\n",
       "</table>\n",
       "</div>"
      ],
      "text/plain": [
       "   VIF Values Feture Values\n",
       "0    1.116412         TITLE\n",
       "1    1.080427      CUISINES\n",
       "2    1.019934          TIME\n",
       "3    1.014644          CITY\n",
       "4    1.005165      LOCALITY\n",
       "5    1.325467        RATING\n",
       "6    1.361948         VOTES"
      ]
     },
     "execution_count": 48,
     "metadata": {},
     "output_type": "execute_result"
    }
   ],
   "source": [
    "vif\n",
    "# So, we can clearly see that there is no multicollinearity present, so we don't need to drop any columns."
   ]
  },
  {
   "cell_type": "markdown",
   "id": "815eb887",
   "metadata": {},
   "source": [
    "## Modelling"
   ]
  },
  {
   "cell_type": "code",
   "execution_count": 49,
   "id": "e6c81528",
   "metadata": {},
   "outputs": [],
   "source": [
    "from sklearn.model_selection import train_test_split\n",
    "from sklearn.ensemble import RandomForestRegressor\n",
    "from sklearn.linear_model import LinearRegression\n",
    "from sklearn.metrics import mean_squared_error, r2_score, mean_absolute_error"
   ]
  },
  {
   "cell_type": "code",
   "execution_count": 50,
   "id": "6fbe885d",
   "metadata": {},
   "outputs": [],
   "source": [
    "x_train, x_test, y_train, y_test= train_test_split(x, y, test_size=.2, shuffle=True)"
   ]
  },
  {
   "cell_type": "markdown",
   "id": "cf1c672e",
   "metadata": {},
   "source": [
    "# Random Forest Regressor"
   ]
  },
  {
   "cell_type": "code",
   "execution_count": null,
   "id": "4b697373",
   "metadata": {},
   "outputs": [],
   "source": [
    "m=RandomForestRegressor()\n",
    "m.fit(x_train, y_train)"
   ]
  },
  {
   "cell_type": "code",
   "execution_count": null,
   "id": "a3b63df4",
   "metadata": {},
   "outputs": [],
   "source": [
    "y_pred=m.predict(x_test)\n",
    "mean_squared_error(y_test,y_pred)"
   ]
  },
  {
   "cell_type": "code",
   "execution_count": null,
   "id": "252707bd",
   "metadata": {},
   "outputs": [],
   "source": [
    "print(\"MAE\",mean_absolute_error(y_test,y_pred))"
   ]
  },
  {
   "cell_type": "code",
   "execution_count": null,
   "id": "60bb1d2c",
   "metadata": {},
   "outputs": [],
   "source": [
    "r2_score(y_test,y_pred)"
   ]
  },
  {
   "cell_type": "markdown",
   "id": "b2ae338f",
   "metadata": {},
   "source": [
    "# Linear Regression"
   ]
  },
  {
   "cell_type": "code",
   "execution_count": null,
   "id": "6409a094",
   "metadata": {},
   "outputs": [],
   "source": [
    "m=LinearRegression()\n",
    "m.fit(x_train, y_train)\n",
    "y_pred=m.predict(x_train)\n",
    "mean_squared_error(y_train,y_pred)"
   ]
  },
  {
   "cell_type": "code",
   "execution_count": null,
   "id": "293986be",
   "metadata": {},
   "outputs": [],
   "source": [
    "y_pred=m.predict(x_test)\n",
    "mean_squared_error(y_test,y_pred)"
   ]
  },
  {
   "cell_type": "code",
   "execution_count": null,
   "id": "2bbeb2a0",
   "metadata": {},
   "outputs": [],
   "source": [
    "print(\"MAE\",mean_absolute_error(y_test,y_pred))"
   ]
  },
  {
   "cell_type": "code",
   "execution_count": null,
   "id": "b52c1167",
   "metadata": {},
   "outputs": [],
   "source": [
    "r2_score(y_test,y_pred)"
   ]
  },
  {
   "cell_type": "markdown",
   "id": "9c4991af",
   "metadata": {},
   "source": [
    "# SVR"
   ]
  },
  {
   "cell_type": "code",
   "execution_count": null,
   "id": "49ff15d6",
   "metadata": {},
   "outputs": [],
   "source": [
    "from sklearn.svm import SVR\n",
    "m=SVR()\n",
    "m.fit(x_train, y_train)\n",
    "y_pred=m.predict(x_train)\n",
    "mean_squared_error(y_train,y_pred)"
   ]
  },
  {
   "cell_type": "code",
   "execution_count": null,
   "id": "79440348",
   "metadata": {},
   "outputs": [],
   "source": [
    "y_pred=m.predict(x_test)\n",
    "print(\"MAE\",mean_absolute_error(y_test,y_pred))"
   ]
  },
  {
   "cell_type": "code",
   "execution_count": null,
   "id": "2f8c8975",
   "metadata": {},
   "outputs": [],
   "source": [
    "r2_score(y_test,y_pred)"
   ]
  },
  {
   "cell_type": "markdown",
   "id": "f102918c",
   "metadata": {},
   "source": [
    "# KNeighbors Regressor"
   ]
  },
  {
   "cell_type": "code",
   "execution_count": null,
   "id": "8be94fb8",
   "metadata": {},
   "outputs": [],
   "source": [
    "from sklearn.neighbors import KNeighborsRegressor\n",
    "m=KNeighborsRegressor()\n",
    "m.fit(x_train, y_train)\n",
    "y_pred=m.predict(x_train)\n",
    "mean_squared_error(y_train,y_pred)"
   ]
  },
  {
   "cell_type": "code",
   "execution_count": null,
   "id": "3ca3dd03",
   "metadata": {},
   "outputs": [],
   "source": [
    "y_pred=m.predict(x_test)\n",
    "print(\"MAE\",mean_absolute_error(y_test,y_pred))"
   ]
  },
  {
   "cell_type": "code",
   "execution_count": null,
   "id": "f1000df4",
   "metadata": {},
   "outputs": [],
   "source": [
    "r2_score(y_test,y_pred)"
   ]
  },
  {
   "cell_type": "code",
   "execution_count": null,
   "id": "aa2d4a6c",
   "metadata": {},
   "outputs": [],
   "source": [
    "# Define the parameter grid for RandomizedSearchCV\n",
    "random_grid = {\n",
    "    'n_estimators': [int(x) for x in np.linspace(start=200, stop=2000, num=10)],\n",
    "    'max_features': ['auto', 'sqrt'],\n",
    "    'max_depth': [int(x) for x in np.linspace(10, 110, num=11)],\n",
    "    'min_samples_split': [2, 5, 10],\n",
    "    'min_samples_leaf': [1, 2, 4],\n",
    "    'bootstrap': [True, False]\n",
    "}"
   ]
  },
  {
   "cell_type": "code",
   "execution_count": null,
   "id": "5cea5f38",
   "metadata": {},
   "outputs": [],
   "source": [
    "from sklearn.model_selection import RandomizedSearchCV\n",
    "rf = RandomForestRegressor()\n",
    "rf_random = RandomizedSearchCV(estimator = rf, param_distributions = random_grid, n_iter = 100, cv = 3, verbose=2, random_state=42, n_jobs = -1)\n",
    "\n",
    "# Fit the random search model\n",
    "rf_random.fit(x_train, y_train)"
   ]
  },
  {
   "cell_type": "code",
   "execution_count": null,
   "id": "3279dc70",
   "metadata": {},
   "outputs": [],
   "source": [
    "rf_random.best_params_"
   ]
  },
  {
   "cell_type": "code",
   "execution_count": null,
   "id": "2737e3de",
   "metadata": {},
   "outputs": [],
   "source": [
    "best_random = rf_random.best_estimator_\n",
    "y_pred=best_random.predict(x_test)\n",
    "print(\"MAE\",mean_absolute_error(y_test,y_pred))"
   ]
  },
  {
   "cell_type": "code",
   "execution_count": null,
   "id": "a3287454",
   "metadata": {},
   "outputs": [],
   "source": [
    "r2_score(y_test,y_pred)"
   ]
  },
  {
   "cell_type": "code",
   "execution_count": null,
   "id": "96c839b6",
   "metadata": {},
   "outputs": [],
   "source": [
    "# Predict on the test data\n",
    "test_predictions = best_random.predict(test_df)"
   ]
  },
  {
   "cell_type": "code",
   "execution_count": null,
   "id": "8551a92a",
   "metadata": {},
   "outputs": [],
   "source": [
    "# Create a DataFrame for the predictions\n",
    "output = final_predicted_data.copy()\n",
    "output['COST'] = test_predictions\n",
    "\n",
    "# Save the predictions to a CSV file\n",
    "output.to_csv('restaurant_cost_predictions.csv', index=False)"
   ]
  },
  {
   "cell_type": "code",
   "execution_count": null,
   "id": "7ea64826",
   "metadata": {},
   "outputs": [],
   "source": [
    "final_predicted_data"
   ]
  },
  {
   "cell_type": "code",
   "execution_count": null,
   "id": "0c25e3bc",
   "metadata": {},
   "outputs": [],
   "source": [
    "r = pd.read_csv('restaurant_cost_predictions.csv')\n",
    "r"
   ]
  },
  {
   "cell_type": "code",
   "execution_count": null,
   "id": "ade21068",
   "metadata": {},
   "outputs": [],
   "source": []
  }
 ],
 "metadata": {
  "kernelspec": {
   "display_name": "Python 3 (ipykernel)",
   "language": "python",
   "name": "python3"
  },
  "language_info": {
   "codemirror_mode": {
    "name": "ipython",
    "version": 3
   },
   "file_extension": ".py",
   "mimetype": "text/x-python",
   "name": "python",
   "nbconvert_exporter": "python",
   "pygments_lexer": "ipython3",
   "version": "3.10.9"
  }
 },
 "nbformat": 4,
 "nbformat_minor": 5
}
